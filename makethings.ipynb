{
 "cells": [
  {
   "cell_type": "markdown",
   "metadata": {},
   "source": [
    "## init"
   ]
  },
  {
   "cell_type": "code",
   "execution_count": 17,
   "metadata": {},
   "outputs": [
    {
     "name": "stdout",
     "output_type": "stream",
     "text": [
      "The autoreload extension is already loaded. To reload it, use:\n",
      "  %reload_ext autoreload\n"
     ]
    }
   ],
   "source": [
    "# import sys \n",
    "# sys.path.append('pyfiles/')\n",
    "\n",
    "from pyfiles import (parametrics as par,\n",
    "    complex as cplx,\n",
    "    matrix as mat,\n",
    "    vineyard as vin,\n",
    "    input as inp,\n",
    "    plot as ourplot\n",
    ")\n",
    "\n",
    "# so we don't have to reboot kernel every time we modify classes.py\n",
    "%load_ext autoreload\n",
    "%autoreload 2\n",
    "\n",
    "# math stuff\n",
    "import numpy as np\n",
    "import math\n",
    "# visualization\n",
    "from scipy.spatial import Voronoi, voronoi_plot_2d\n",
    "from scipy.ndimage import gaussian_filter1d\n",
    "from scipy.spatial import distance\n",
    "from scipy.stats import qmc\n",
    "from copy import deepcopy\n",
    "\n",
    "import matplotlib.pyplot as plt\n",
    "%matplotlib inline\n",
    "\n",
    "import csv\n",
    "import string\n",
    "\n",
    "# for polygon grid\n",
    "from matplotlib.path import Path as mplPath\n",
    "\n",
    "######## NOTE: from this point on, order is important. \n",
    "# it would be good to make the code more robust, but right\n",
    "# now, there are ordered dependencies between functions."
   ]
  },
  {
   "cell_type": "markdown",
   "metadata": {},
   "source": [
    "## this is the new, streamlined thing"
   ]
  },
  {
   "cell_type": "code",
   "execution_count": null,
   "metadata": {},
   "outputs": [],
   "source": []
  },
  {
   "cell_type": "code",
   "execution_count": 16,
   "metadata": {},
   "outputs": [
    {
     "ename": "UnboundLocalError",
     "evalue": "local variable 'cplx' referenced before assignment",
     "output_type": "error",
     "traceback": [
      "\u001b[0;31m---------------------------------------------------------------------------\u001b[0m",
      "\u001b[0;31mUnboundLocalError\u001b[0m                         Traceback (most recent call last)",
      "Cell \u001b[0;32mIn[16], line 2\u001b[0m\n\u001b[1;32m      1\u001b[0m \u001b[39m# read in .obj file\u001b[39;00m\n\u001b[0;32m----> 2\u001b[0m our_complex \u001b[39m=\u001b[39m inp\u001b[39m.\u001b[39;49mread_obj(\u001b[39m\"\u001b[39;49m\u001b[39minput/two_triangles.obj\u001b[39;49m\u001b[39m\"\u001b[39;49m)\n\u001b[1;32m      5\u001b[0m \u001b[39m# set the key point from which we measure radial dist\u001b[39;00m\n\u001b[1;32m      6\u001b[0m our_complex\u001b[39m.\u001b[39mkey_point \u001b[39m=\u001b[39m (\u001b[39m.4\u001b[39m, \u001b[39m.3\u001b[39m)\n",
      "File \u001b[0;32m~/src/medial_ax/pyfiles/input.py:29\u001b[0m, in \u001b[0;36mread_obj\u001b[0;34m(filename)\u001b[0m\n\u001b[1;32m     24\u001b[0m \u001b[39melif\u001b[39;00m line\u001b[39m.\u001b[39mstartswith(\u001b[39m\"\u001b[39m\u001b[39mv\u001b[39m\u001b[39m\"\u001b[39m):\n\u001b[1;32m     25\u001b[0m     \u001b[39m# vertex line looks like this:\u001b[39;00m\n\u001b[1;32m     26\u001b[0m     \u001b[39m# v -0.039375 1.021144 0.000000\u001b[39;00m\n\u001b[1;32m     27\u001b[0m     \u001b[39m# TODO(#6): read all coordinates\u001b[39;00m\n\u001b[1;32m     28\u001b[0m     coord \u001b[39m=\u001b[39m [\u001b[39mfloat\u001b[39m(c) \u001b[39mfor\u001b[39;00m c \u001b[39min\u001b[39;00m line\u001b[39m.\u001b[39msplit(\u001b[39m\"\u001b[39m\u001b[39m \u001b[39m\u001b[39m\"\u001b[39m)[\u001b[39m1\u001b[39m:\u001b[39m3\u001b[39m]]\n\u001b[0;32m---> 29\u001b[0m     s \u001b[39m=\u001b[39m cplx\u001b[39m.\u001b[39msimplex\u001b[39m.\u001b[39mpoint(coord, point_index)\n\u001b[1;32m     30\u001b[0m     vertices\u001b[39m.\u001b[39mappend(s)\n\u001b[1;32m     31\u001b[0m     point_index \u001b[39m+\u001b[39m\u001b[39m=\u001b[39m \u001b[39m1\u001b[39m\n",
      "\u001b[0;31mUnboundLocalError\u001b[0m: local variable 'cplx' referenced before assignment"
     ]
    }
   ],
   "source": [
    "# read in .obj file\n",
    "our_complex = inp.read_obj(\"input/two_triangles.obj\")\n",
    "\n",
    "\n",
    "# set the key point from which we measure radial dist\n",
    "our_complex.key_point = (.4, .3)\n",
    "# sort\n",
    "distlist = cplx.augment_with_radialdist(our_complex)\n",
    "all_simplices = our_complex.sort_by_dist(distlist)\n",
    "\n",
    "o = cplx.ordering.by_dist_to(our_complex, (0.75, 0.40))\n",
    "matrix = mat.bdmatrix.from_ordering(o)\n",
    "with ourplot.PandasMatrix(matrix) as p:\n",
    "    matrix.reduce(every_step=p.every_step)\n",
    "\n",
    "# plot the complex with a heatmap from the key point\n",
    "# ourplot.plot_complex(our_complex)\n",
    "\n",
    "\n",
    "# complex <-- some file\n",
    "# ordering <-- complex + point\n",
    "# matrix <-- complex + ordering\n",
    "# \n",
    "\n",
    "# matrix = mat.bdmatrix()\n",
    "# matrix.initmatrix = np.array(\n",
    "#             [\n",
    "#                 [0, 1, 1, 1, 0, 0, 0],\n",
    "#                 [0, 0, 0, 0, 1, 0, 1],\n",
    "#                 [0, 0, 0, 0, 1, 1, 0],\n",
    "#                 [0, 0, 0, 0, 0, 1, 1],\n",
    "#                 [0, 0, 0, 0, 0, 0, 0],\n",
    "#                 [0, 0, 0, 0, 0, 0, 0],\n",
    "#                 [0, 0, 0, 0, 0, 0, 0],\n",
    "#             ]\n",
    "#         )\n",
    "# matrix.make_matrix(our_complex)\n",
    "# matrix.initmatrix\n",
    "# matrix.redmatrix = matrix.reduce()\n",
    "# matrix.find_lows_zeros(all_simplices)\n",
    "# print('lowestones')\n",
    "# print(matrix.lowestones)\n",
    "# print('zerocolumns')\n",
    "# print(matrix.zerocolumns)\n",
    "# with ourplot.PandasMatrix(matrix) as p:\n",
    "#     matrix.reduce(every_step=p.every_step)\n",
    "# matrix.find_bd_pairs(output=True)\n",
    "\n",
    "# def debug(mat, indices, old_j):\n",
    "#     (j, j0) = indices # col(j) ^= col(j0)\n",
    "#     if not mat[j]:\n",
    "#         # print(f'{j0} killed {j}')\n",
    "#         pass\n",
    "\n",
    "# def j_done(mat, j):\n",
    "#     if mat[j]:\n",
    "#         print(f'## row simplex {max(mat[j])} was killed by {j}')\n",
    "#     else:\n",
    "#         print(f'## column {j} is empty')\n",
    "\n",
    "# matrix.reduce(every_step=debug, after_column_reduced=j_done)\n"
   ]
  },
  {
   "cell_type": "code",
   "execution_count": 15,
   "metadata": {},
   "outputs": [
    {
     "data": {
      "text/plain": [
       "{1: (0, 1),\n",
       " 2: (0, 2),\n",
       " 3: (1, 1),\n",
       " 4: (0, 0),\n",
       " 5: (1, 0),\n",
       " 6: (1, 2),\n",
       " 7: (0, 3),\n",
       " 8: (0, 4),\n",
       " 9: (1, 3),\n",
       " 10: (0, 5),\n",
       " 11: (1, 4),\n",
       " 12: (1, 5)}"
      ]
     },
     "execution_count": 15,
     "metadata": {},
     "output_type": "execute_result"
    }
   ],
   "source": [
    "o.o2i"
   ]
  },
  {
   "cell_type": "code",
   "execution_count": null,
   "metadata": {},
   "outputs": [],
   "source": []
  }
 ],
 "metadata": {
  "kernelspec": {
   "display_name": "venv",
   "language": "python",
   "name": "python3"
  },
  "language_info": {
   "codemirror_mode": {
    "name": "ipython",
    "version": 3
   },
   "file_extension": ".py",
   "mimetype": "text/x-python",
   "name": "python",
   "nbconvert_exporter": "python",
   "pygments_lexer": "ipython3",
   "version": "3.10.12"
  },
  "orig_nbformat": 4
 },
 "nbformat": 4,
 "nbformat_minor": 2
}
