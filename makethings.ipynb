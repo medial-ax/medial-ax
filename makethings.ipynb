{
 "cells": [
  {
   "cell_type": "markdown",
   "metadata": {},
   "source": [
    "## init"
   ]
  },
  {
   "cell_type": "code",
   "execution_count": 33,
   "metadata": {},
   "outputs": [
    {
     "name": "stdout",
     "output_type": "stream",
     "text": [
      "The autoreload extension is already loaded. To reload it, use:\n",
      "  %reload_ext autoreload\n"
     ]
    }
   ],
   "source": [
    "# import sys \n",
    "# sys.path.append('pyfiles/')\n",
    "\n",
    "from pyfiles import (parametrics as par,\n",
    "    complex as cplx,\n",
    "    matrix as mat,\n",
    "    vineyard as vin,\n",
    "    input as inp,\n",
    "    plot as ourplot\n",
    ")\n",
    "\n",
    "# so we don't have to reboot kernel every time we modify classes.py\n",
    "%load_ext autoreload\n",
    "%autoreload 2\n",
    "\n",
    "# math stuff\n",
    "import numpy as np\n",
    "import math\n",
    "# visualization\n",
    "from scipy.spatial import Voronoi, voronoi_plot_2d\n",
    "from scipy.ndimage import gaussian_filter1d\n",
    "from scipy.spatial import distance\n",
    "from scipy.stats import qmc\n",
    "from copy import deepcopy\n",
    "\n",
    "import matplotlib.pyplot as plt\n",
    "%matplotlib inline\n",
    "\n",
    "import csv\n",
    "import string\n",
    "\n",
    "# for polygon grid\n",
    "from matplotlib.path import Path as mplPath\n",
    "\n",
    "######## NOTE: from this point on, order is important. \n",
    "# it would be good to make the code more robust, but right\n",
    "# now, there are ordered dependencies between functions."
   ]
  },
  {
   "cell_type": "markdown",
   "metadata": {},
   "source": [
    "## this is the new, streamlined thing"
   ]
  },
  {
   "cell_type": "code",
   "execution_count": 45,
   "metadata": {},
   "outputs": [
    {
     "ename": "TypeError",
     "evalue": "PandasMatrix.__init__() missing 1 required positional argument: 'ord'",
     "output_type": "error",
     "traceback": [
      "\u001b[0;31m---------------------------------------------------------------------------\u001b[0m",
      "\u001b[0;31mTypeError\u001b[0m                                 Traceback (most recent call last)",
      "Cell \u001b[0;32mIn[45], line 5\u001b[0m\n\u001b[1;32m      3\u001b[0m o \u001b[39m=\u001b[39m cplx\u001b[39m.\u001b[39mordering\u001b[39m.\u001b[39mby_dist_to(our_complex, (\u001b[39m0.75\u001b[39m, \u001b[39m0.40\u001b[39m))\n\u001b[1;32m      4\u001b[0m matrix \u001b[39m=\u001b[39m mat\u001b[39m.\u001b[39mbdmatrix\u001b[39m.\u001b[39mfrom_ordering(o)\n\u001b[0;32m----> 5\u001b[0m \u001b[39mwith\u001b[39;00m ourplot\u001b[39m.\u001b[39;49mPandasMatrix(matrix) \u001b[39mas\u001b[39;00m p:\n\u001b[1;32m      6\u001b[0m     matrix\u001b[39m.\u001b[39mreduce(every_step\u001b[39m=\u001b[39mp\u001b[39m.\u001b[39mevery_step)\n\u001b[1;32m      8\u001b[0m \u001b[39mdef\u001b[39;00m \u001b[39mevery_step\u001b[39m(mat, indices, old_j):\n",
      "\u001b[0;31mTypeError\u001b[0m: PandasMatrix.__init__() missing 1 required positional argument: 'ord'"
     ]
    }
   ],
   "source": [
    "# read in .obj file\n",
    "our_complex = inp.read_obj(\"input/two_triangles.obj\")\n",
    "o = cplx.ordering.by_dist_to(our_complex, (0.75, 0.40))\n",
    "matrix = mat.bdmatrix.from_ordering(o)\n",
    "with ourplot.PandasMatrix(matrix, o) as p:\n",
    "    matrix.reduce(every_step=p.every_step)\n",
    "\n",
    "def every_step(mat, indices, old_j):\n",
    "    (j, j0) = indices # col(j) ^= col(j0)\n",
    "    if not mat[j]:\n",
    "        # print(f'{j0} killed {j}')\n",
    "        pass\n",
    "\n",
    "def after_column_reduced(mat, j):\n",
    "    if mat[j]:\n",
    "        death = o.simplex(j)\n",
    "        birth = o.simplex(max(mat.get(j, set())))\n",
    "        print('reduced to not zero')\n",
    "        print(f'  birth={birth}')\n",
    "        print(f'  death={death}')\n",
    "    else:\n",
    "        s = o.simplex(j)\n",
    "        print(f'{s} was reduced to zero')\n",
    "\n",
    "matrix.reduce(every_step=every_step, \n",
    "              after_column_reduced=after_column_reduced)\n",
    "\n",
    "# plot the complex with a heatmap from the key point\n",
    "# ourplot.plot_complex(our_complex)\n",
    "\n",
    "\n"
   ]
  },
  {
   "cell_type": "code",
   "execution_count": 15,
   "metadata": {},
   "outputs": [
    {
     "data": {
      "text/plain": [
       "{1: (0, 1),\n",
       " 2: (0, 2),\n",
       " 3: (1, 1),\n",
       " 4: (0, 0),\n",
       " 5: (1, 0),\n",
       " 6: (1, 2),\n",
       " 7: (0, 3),\n",
       " 8: (0, 4),\n",
       " 9: (1, 3),\n",
       " 10: (0, 5),\n",
       " 11: (1, 4),\n",
       " 12: (1, 5)}"
      ]
     },
     "execution_count": 15,
     "metadata": {},
     "output_type": "execute_result"
    }
   ],
   "source": [
    "o.o2i"
   ]
  },
  {
   "cell_type": "code",
   "execution_count": null,
   "metadata": {},
   "outputs": [],
   "source": []
  }
 ],
 "metadata": {
  "kernelspec": {
   "display_name": "venv",
   "language": "python",
   "name": "python3"
  },
  "language_info": {
   "codemirror_mode": {
    "name": "ipython",
    "version": 3
   },
   "file_extension": ".py",
   "mimetype": "text/x-python",
   "name": "python",
   "nbconvert_exporter": "python",
   "pygments_lexer": "ipython3",
   "version": "3.10.12"
  },
  "orig_nbformat": 4
 },
 "nbformat": 4,
 "nbformat_minor": 2
}
