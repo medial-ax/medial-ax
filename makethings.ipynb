{
 "cells": [
  {
   "cell_type": "markdown",
   "metadata": {},
   "source": [
    "## init"
   ]
  },
  {
   "cell_type": "code",
   "execution_count": 2,
   "metadata": {},
   "outputs": [],
   "source": [
    "# import sys \n",
    "# sys.path.append('pyfiles/')\n",
    "\n",
    "from pyfiles import (parametrics as par,\n",
    "    complex as cplx,\n",
    "    matrix as mat,\n",
    "    vineyard as vin,\n",
    "    input as inp,\n",
    "    plot as ourplot\n",
    ")\n",
    "\n",
    "# so we don't have to reboot kernel every time we modify classes.py\n",
    "%load_ext autoreload\n",
    "%autoreload 2\n",
    "\n",
    "# math stuff\n",
    "import numpy as np\n",
    "import math\n",
    "# visualization\n",
    "from scipy.spatial import Voronoi, voronoi_plot_2d\n",
    "from scipy.ndimage import gaussian_filter1d\n",
    "from scipy.spatial import distance\n",
    "from scipy.stats import qmc\n",
    "from copy import deepcopy\n",
    "\n",
    "import matplotlib.pyplot as plt\n",
    "%matplotlib inline\n",
    "\n",
    "import csv\n",
    "import string\n",
    "\n",
    "# for polygon grid\n",
    "from matplotlib.path import Path as mplPath\n",
    "\n",
    "######## NOTE: from this point on, order is important. \n",
    "# it would be good to make the code more robust, but right\n",
    "# now, there are ordered dependencies between functions."
   ]
  },
  {
   "cell_type": "markdown",
   "metadata": {},
   "source": [
    "## this is the new, streamlined thing"
   ]
  },
  {
   "cell_type": "code",
   "execution_count": 18,
   "metadata": {},
   "outputs": [
    {
     "name": "stdout",
     "output_type": "stream",
     "text": [
      "{'col': [1, 3, 5, 9, 11], 'row': [0, 2, 4, 8, 10], 'dim': [-1, 0, 0, 0, 0], 'col_index': [0, 0, 1, 3, 4], 'row_index': [-1, 1, 2, 4, 5]}\n",
      "{'col': [2, 4, 6, 7, 8, 10, 12], 'dim': [0, 0, 1, 0, 0, 0, 1], 'col_index': [1, 2, 2, 3, 4, 5, 5]}\n"
     ]
    }
   ],
   "source": [
    "# read in .obj file\n",
    "our_complex = inp.read_obj(\"input/two_triangles.obj\")\n",
    "\n",
    "\n",
    "# set the key point from which we measure radial dist\n",
    "our_complex.key_point = (.4, .3)\n",
    "# sort\n",
    "distlist = cplx.augment_with_radialdist(our_complex)\n",
    "all_simplices = our_complex.sort_by_dist(distlist)\n",
    "\n",
    "# plot the complex with a heatmap from the key point\n",
    "# ourplot.plot_complex(our_complex)\n",
    "\n",
    "matrix = mat.bdmatrix()\n",
    "# matrix.initmatrix = np.array(\n",
    "#             [\n",
    "#                 [0, 1, 1, 1, 0, 0, 0],\n",
    "#                 [0, 0, 0, 0, 1, 0, 1],\n",
    "#                 [0, 0, 0, 0, 1, 1, 0],\n",
    "#                 [0, 0, 0, 0, 0, 1, 1],\n",
    "#                 [0, 0, 0, 0, 0, 0, 0],\n",
    "#                 [0, 0, 0, 0, 0, 0, 0],\n",
    "#                 [0, 0, 0, 0, 0, 0, 0],\n",
    "#             ]\n",
    "#         )\n",
    "matrix.make_matrix(our_complex)\n",
    "matrix.initmatrix\n",
    "matrix.redmatrix = matrix.reduce()\n",
    "matrix.find_lows_zeros(all_simplices)\n",
    "print(matrix.lowestones)\n",
    "print(matrix.zerocolumns)\n"
   ]
  }
 ],
 "metadata": {
  "kernelspec": {
   "display_name": "venv",
   "language": "python",
   "name": "python3"
  },
  "language_info": {
   "codemirror_mode": {
    "name": "ipython",
    "version": 3
   },
   "file_extension": ".py",
   "mimetype": "text/x-python",
   "name": "python",
   "nbconvert_exporter": "python",
   "pygments_lexer": "ipython3",
   "version": "3.10.12"
  },
  "orig_nbformat": 4
 },
 "nbformat": 4,
 "nbformat_minor": 2
}
