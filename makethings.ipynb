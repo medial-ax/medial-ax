{
 "cells": [
  {
   "cell_type": "markdown",
   "metadata": {},
   "source": [
    "## init"
   ]
  },
  {
   "cell_type": "code",
   "execution_count": 9,
   "metadata": {},
   "outputs": [
    {
     "ename": "ImportError",
     "evalue": "cannot import name 'int' from 'typing' (/Library/Developer/CommandLineTools/Library/Frameworks/Python3.framework/Versions/3.9/lib/python3.9/typing.py)",
     "output_type": "error",
     "traceback": [
      "\u001b[0;31m---------------------------------------------------------------------------\u001b[0m",
      "\u001b[0;31mImportError\u001b[0m                               Traceback (most recent call last)",
      "Cell \u001b[0;32mIn[9], line 8\u001b[0m\n\u001b[1;32m      6\u001b[0m \u001b[39mimport\u001b[39;00m \u001b[39mmatrix\u001b[39;00m \u001b[39mas\u001b[39;00m \u001b[39mmat\u001b[39;00m\n\u001b[1;32m      7\u001b[0m \u001b[39mfrom\u001b[39;00m \u001b[39mpyfiles\u001b[39;00m\u001b[39m.\u001b[39;00m\u001b[39mmatrix\u001b[39;00m \u001b[39mimport\u001b[39;00m bdmatrix\n\u001b[0;32m----> 8\u001b[0m \u001b[39mimport\u001b[39;00m \u001b[39mvineyard\u001b[39;00m \u001b[39mas\u001b[39;00m \u001b[39mvin\u001b[39;00m \n\u001b[1;32m      9\u001b[0m \u001b[39mimport\u001b[39;00m \u001b[39minput\u001b[39;00m \u001b[39mas\u001b[39;00m \u001b[39minp\u001b[39;00m \n\u001b[1;32m     12\u001b[0m \u001b[39m# so we don't have to reboot kernel every time we modify classes.py\u001b[39;00m\n",
      "File \u001b[0;32m~/Desktop/coding/medial_ax/pyfiles/vineyard.py:5\u001b[0m\n\u001b[1;32m      2\u001b[0m \u001b[39mimport\u001b[39;00m \u001b[39mtime\u001b[39;00m\n\u001b[1;32m      3\u001b[0m \u001b[39mimport\u001b[39;00m \u001b[39mmath\u001b[39;00m\n\u001b[0;32m----> 5\u001b[0m \u001b[39mfrom\u001b[39;00m \u001b[39mtyping\u001b[39;00m \u001b[39mimport\u001b[39;00m Callable, List, \u001b[39mint\u001b[39m\n\u001b[1;32m      6\u001b[0m \u001b[39mimport\u001b[39;00m \u001b[39mnumpy\u001b[39;00m \u001b[39mas\u001b[39;00m \u001b[39mnp\u001b[39;00m\n\u001b[1;32m      8\u001b[0m \u001b[39mimport\u001b[39;00m \u001b[39mcomplex\u001b[39;00m \u001b[39mas\u001b[39;00m \u001b[39mcplx\u001b[39;00m\n",
      "\u001b[0;31mImportError\u001b[0m: cannot import name 'int' from 'typing' (/Library/Developer/CommandLineTools/Library/Frameworks/Python3.framework/Versions/3.9/lib/python3.9/typing.py)"
     ]
    }
   ],
   "source": [
    "import sys \n",
    "sys.path.append('pyfiles/')\n",
    "\n",
    "import parametrics as par\n",
    "import complex as cplx\n",
    "import matrix as mat\n",
    "from pyfiles.matrix import bdmatrix\n",
    "import vineyard as vin \n",
    "import input as inp \n",
    "\n",
    "\n",
    "# so we don't have to reboot kernel every time we modify classes.py\n",
    "%load_ext autoreload\n",
    "%autoreload 2\n",
    "\n",
    "# math stuff\n",
    "import numpy as np\n",
    "import math\n",
    "# visualization\n",
    "from scipy.spatial import Voronoi, voronoi_plot_2d\n",
    "from scipy.ndimage import gaussian_filter1d\n",
    "from scipy.spatial import distance\n",
    "from scipy.stats import qmc\n",
    "from copy import deepcopy\n",
    "\n",
    "import matplotlib.pyplot as plt\n",
    "%matplotlib inline\n",
    "\n",
    "import csv\n",
    "import string\n",
    "\n",
    "# for polygon grid\n",
    "from matplotlib.path import Path as mplPath\n",
    "\n",
    "######## NOTE: from this point on, order is important. \n",
    "# it would be good to make the code more robust, but right\n",
    "# now, there are ordered dependencies between functions."
   ]
  },
  {
   "cell_type": "markdown",
   "metadata": {},
   "source": [
    "## this is the new, streamlined thing"
   ]
  },
  {
   "cell_type": "code",
   "execution_count": null,
   "metadata": {},
   "outputs": [],
   "source": []
  }
 ],
 "metadata": {
  "kernelspec": {
   "display_name": "venv",
   "language": "python",
   "name": "python3"
  },
  "language_info": {
   "codemirror_mode": {
    "name": "ipython",
    "version": 3
   },
   "file_extension": ".py",
   "mimetype": "text/x-python",
   "name": "python",
   "nbconvert_exporter": "python",
   "pygments_lexer": "ipython3",
   "version": "3.9.6"
  },
  "orig_nbformat": 4
 },
 "nbformat": 4,
 "nbformat_minor": 2
}
