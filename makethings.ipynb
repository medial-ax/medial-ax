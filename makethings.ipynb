{
 "cells": [
  {
   "cell_type": "markdown",
   "metadata": {},
   "source": [
    "## init"
   ]
  },
  {
   "cell_type": "code",
   "execution_count": 24,
   "metadata": {},
   "outputs": [
    {
     "name": "stdout",
     "output_type": "stream",
     "text": [
      "The autoreload extension is already loaded. To reload it, use:\n",
      "  %reload_ext autoreload\n"
     ]
    }
   ],
   "source": [
    "import sys \n",
    "sys.path.append('pyfiles/')\n",
    "\n",
    "import parametrics as par\n",
    "import complex as cplx\n",
    "import matrix as mat\n",
    "from pyfiles.matrix import bdmatrix\n",
    "import vineyard as vin \n",
    "import input as inp \n",
    "import plot as ourplot\n",
    "\n",
    "\n",
    "# so we don't have to reboot kernel every time we modify classes.py\n",
    "%load_ext autoreload\n",
    "%autoreload 2\n",
    "\n",
    "# math stuff\n",
    "import numpy as np\n",
    "import math\n",
    "# visualization\n",
    "from scipy.spatial import Voronoi, voronoi_plot_2d\n",
    "from scipy.ndimage import gaussian_filter1d\n",
    "from scipy.spatial import distance\n",
    "from scipy.stats import qmc\n",
    "from copy import deepcopy\n",
    "\n",
    "import matplotlib.pyplot as plt\n",
    "%matplotlib inline\n",
    "\n",
    "import csv\n",
    "import string\n",
    "\n",
    "# for polygon grid\n",
    "from matplotlib.path import Path as mplPath\n",
    "\n",
    "######## NOTE: from this point on, order is important. \n",
    "# it would be good to make the code more robust, but right\n",
    "# now, there are ordered dependencies between functions."
   ]
  },
  {
   "cell_type": "markdown",
   "metadata": {},
   "source": [
    "## this is the new, streamlined thing"
   ]
  },
  {
   "cell_type": "code",
   "execution_count": 26,
   "metadata": {},
   "outputs": [
    {
     "ename": "AttributeError",
     "evalue": "'list' object has no attribute 'vertlist'",
     "output_type": "error",
     "traceback": [
      "\u001b[0;31m---------------------------------------------------------------------------\u001b[0m",
      "\u001b[0;31mAttributeError\u001b[0m                            Traceback (most recent call last)",
      "Cell \u001b[0;32mIn[26], line 5\u001b[0m\n\u001b[1;32m      2\u001b[0m distlist \u001b[39m=\u001b[39m cplx\u001b[39m.\u001b[39maugment_with_radialdist(our_complex)\n\u001b[1;32m      3\u001b[0m our_sorted_complex \u001b[39m=\u001b[39m our_complex\u001b[39m.\u001b[39msort_by_dist(distlist)\n\u001b[0;32m----> 5\u001b[0m ourplot\u001b[39m.\u001b[39;49mplot_complex(our_sorted_complex)\n\u001b[1;32m      6\u001b[0m \u001b[39m# BUG: apparently initializing complex from obj doesn't populate verts?\u001b[39;00m\n",
      "File \u001b[0;32m~/Desktop/coding/medial_ax/pyfiles/plot.py:40\u001b[0m, in \u001b[0;36mplot_complex\u001b[0;34m(complex, extras, label_edges, label_verts, sp_pt_color, filename)\u001b[0m\n\u001b[1;32m     32\u001b[0m \u001b[39mdef\u001b[39;00m \u001b[39mplot_complex\u001b[39m(\n\u001b[1;32m     33\u001b[0m     \u001b[39mcomplex\u001b[39m: \u001b[39mcomplex\u001b[39m,\n\u001b[1;32m     34\u001b[0m     extras\u001b[39m=\u001b[39m\u001b[39mTrue\u001b[39;00m,\n\u001b[0;32m   (...)\u001b[0m\n\u001b[1;32m     38\u001b[0m     filename\u001b[39m=\u001b[39m\u001b[39mNone\u001b[39;00m,\n\u001b[1;32m     39\u001b[0m ):\n\u001b[0;32m---> 40\u001b[0m     points \u001b[39m=\u001b[39m np\u001b[39m.\u001b[39marray([v\u001b[39m.\u001b[39mcoords \u001b[39mfor\u001b[39;00m v \u001b[39min\u001b[39;00m \u001b[39mcomplex\u001b[39;49m\u001b[39m.\u001b[39;49mvertlist])\n\u001b[1;32m     42\u001b[0m     x \u001b[39m=\u001b[39m points[:, \u001b[39m0\u001b[39m]\u001b[39m.\u001b[39mflatten()\n\u001b[1;32m     43\u001b[0m     y \u001b[39m=\u001b[39m points[:, \u001b[39m1\u001b[39m]\u001b[39m.\u001b[39mflatten()\n",
      "\u001b[0;31mAttributeError\u001b[0m: 'list' object has no attribute 'vertlist'"
     ]
    }
   ],
   "source": [
    "our_complex = inp.read_obj(\"input/blob.obj\")\n",
    "distlist = cplx.augment_with_radialdist(our_complex)\n",
    "our_sorted_complex = our_complex.sort_by_dist(distlist)\n",
    "\n",
    "ourplot.plot_complex(our_sorted_complex)\n",
    "# BUG: apparently initializing complex from obj doesn't populate verts?"
   ]
  }
 ],
 "metadata": {
  "kernelspec": {
   "display_name": "venv",
   "language": "python",
   "name": "python3"
  },
  "language_info": {
   "codemirror_mode": {
    "name": "ipython",
    "version": 3
   },
   "file_extension": ".py",
   "mimetype": "text/x-python",
   "name": "python",
   "nbconvert_exporter": "python",
   "pygments_lexer": "ipython3",
   "version": "3.9.6"
  },
  "orig_nbformat": 4
 },
 "nbformat": 4,
 "nbformat_minor": 2
}
