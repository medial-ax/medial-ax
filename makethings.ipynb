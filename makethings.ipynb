{
 "cells": [
  {
   "cell_type": "markdown",
   "metadata": {},
   "source": [
    "## init"
   ]
  },
  {
   "cell_type": "code",
   "execution_count": 38,
   "metadata": {},
   "outputs": [
    {
     "name": "stdout",
     "output_type": "stream",
     "text": [
      "The autoreload extension is already loaded. To reload it, use:\n",
      "  %reload_ext autoreload\n"
     ]
    }
   ],
   "source": [
    "# import sys \n",
    "# sys.path.append('pyfiles/')\n",
    "\n",
    "from pyfiles import (parametrics as par,\n",
    "    complex as cplx,\n",
    "    matrix as mat,\n",
    "    vineyard as vin,\n",
    "    input as inp,\n",
    "    plot as ourplot,\n",
    "    grid as grid\n",
    ")\n",
    "\n",
    "# so we don't have to reboot kernel every time we modify classes.py\n",
    "%load_ext autoreload\n",
    "%autoreload 2\n",
    "\n",
    "# math stuff\n",
    "import numpy as np\n",
    "import math\n",
    "from collections import defaultdict\n",
    "# visualization\n",
    "from scipy.spatial import Voronoi, voronoi_plot_2d\n",
    "from scipy.ndimage import gaussian_filter1d\n",
    "from scipy.spatial import distance\n",
    "from scipy.stats import qmc\n",
    "from copy import deepcopy\n",
    "\n",
    "import matplotlib.pyplot as plt\n",
    "%matplotlib inline\n",
    "\n",
    "import csv\n",
    "import string\n",
    "\n",
    "# for polygon grid\n",
    "from matplotlib.path import Path as mplPath\n",
    "\n",
    "######## NOTE: from this point on, order is important. \n",
    "# it would be good to make the code more robust, but right\n",
    "# now, there are ordered dependencies between functions."
   ]
  },
  {
   "cell_type": "markdown",
   "metadata": {},
   "source": [
    "## this is the new, streamlined thing"
   ]
  },
  {
   "cell_type": "code",
   "execution_count": null,
   "metadata": {},
   "outputs": [],
   "source": [
    "our_complex = inp.read_obj(\"input/blob.obj\")\n",
    "key_point1 = (0.4, 0.6)\n",
    "key_point2 = (0.6, 0.6)\n",
    "o = cplx.ordering.by_dist_to(our_complex, key_point1)\n",
    "o2 = cplx.ordering.by_dist_to(our_complex, key_point2)\n",
    "matrix = mat.bdmatrix.from_ordering(o)\n",
    "# with ourplot.PandasMatrix(matrix, o) as p:\n",
    "#     matrix.reduce(every_step=p.every_step)\n",
    "\n",
    "bettis = defaultdict(int)\n",
    "def after_column_reduced(mat, j):\n",
    "    if mat.get(j, set()):\n",
    "        death = o.get_simplex(j)\n",
    "        birth = o.get_simplex(max(mat.get(j, set())))\n",
    "        bettis[birth.dim()] -= 1\n",
    "        print(f'col {j}:')\n",
    "        print(f'  birth={birth}')\n",
    "        print(f'  death={death}')\n",
    "    else:\n",
    "        s = o.get_simplex(j)\n",
    "        bettis[s.dim()] += 1\n",
    "        print(f'col {j}: reduced to zero: {s}')\n",
    "\n",
    "ourplot.plot_orders_with_bubbles(o, o2)"
   ]
  },
  {
   "cell_type": "code",
   "execution_count": 110,
   "metadata": {},
   "outputs": [],
   "source": [
    "our_complex = inp.read_obj(\"input/blob.obj\")\n",
    "key_point1 = (0.75, 0.40)\n",
    "key_point2 = (0.75, 0.25)\n",
    "o = cplx.ordering.by_dist_to(our_complex, key_point1)\n",
    "o2 = cplx.ordering.by_dist_to(our_complex, key_point2)\n",
    "matrix = mat.bdmatrix.from_ordering(o)\n",
    "\n",
    "n = our_complex.nedges() + our_complex.nverts() + 1\n",
    "V = np.eye(n, dtype=int)\n",
    "def record_column_adds(sparsemat, indices, old_column):\n",
    "  V[:, indices[0]] = (V[:, indices[0]] + V[:, indices[1]]) % 2\n",
    "\n",
    "matrix.reduce(every_step=record_column_adds);\n",
    "assert (((matrix.initmatrix @ V) % 2) == matrix.reduced).all(), 'Something is wrong with the column reduction'\n",
    "\n",
    "U = np.absolute(np.linalg.inv(V).astype(int)) % 2\n",
    "\n",
    "assert (((U @ V) % 2) == np.eye(n, dtype=int)).all(), 'U@V didn\\'t give identity matrix'\n",
    "assert (((V @ U) % 2) == np.eye(n, dtype=int)).all(), 'V@U didn\\'t give identity matrix'\n",
    "\n"
   ]
  },
  {
   "cell_type": "code",
   "execution_count": 111,
   "metadata": {},
   "outputs": [],
   "source": [
    "our_complex = inp.read_obj(\"input/triangle.obj\")\n",
    "key_point1 = (0.75, 0.40)\n",
    "o = cplx.ordering.by_dist_to(our_complex, key_point1)\n",
    "matrix = mat.bdmatrix.from_ordering(o)\n",
    "\n",
    "knowledge = mat.reduction_knowledge(matrix, o)\n",
    "knowledge.run()\n",
    "\n",
    "# R = DV\n",
    "D = matrix.initmatrix\n",
    "R = matrix.reduced\n",
    "\n",
    "V = np.eye(D.shape[0], dtype=int);\n",
    "for (target, other) in knowledge.adds:\n",
    "  V[:, target] = (V[:, target] + V[:, other]) % 2\n",
    "assert (((D @ V) % 2) == R).all(), 'Something is wrong with the column reduction'\n",
    "\n",
    "# RU = D\n",
    "U = vin.matrix_inverse(V)\n",
    "\n",
    "assert (((R @ U) % 2) == D).all(), 'Something is wrong with the column reduction'\n",
    "\n",
    "\n",
    "for i in range(0, R.shape[0] - 1):\n",
    "  P = vin.permutation_matrix(R.shape[0], i, i + 1)\n",
    "  PDP = (P.T @ D @ P) % 2\n",
    "  (RR, UU, faustian_swap) = vin.perform_one_swap(i, knowledge, R, U)\n",
    "  RRUU = (RR @ UU) % 2\n",
    "  assert (RRUU == PDP).all(), 'Something is wrong with the column reduction'\n"
   ]
  },
  {
   "cell_type": "code",
   "execution_count": null,
   "metadata": {},
   "outputs": [],
   "source": [
    "\n",
    "our_complex = inp.read_obj(\"input/rectangle-4.obj\")\n",
    "ourplot.plot_complex(our_complex, label_edges=True, label_verts=True)\n",
    "key_point1 = (0.0, 0.6)\n",
    "\n",
    "N = 10\n",
    "for y in np.linspace(-1.0, 1, N):\n",
    "  print(f'y = {y}')\n",
    "  def get_pairs_of_points(i, n):\n",
    "    return (\n",
    "      [ -2 + 4 / n *  i, y],\n",
    "      [-2 + 4 / n * (i+1), y]\n",
    "    )\n",
    "\n",
    "  for pt_i in range(0, N):\n",
    "    print(f'pt_i = {pt_i}')\n",
    "    (key_point1, key_point2) = get_pairs_of_points(pt_i, N)\n",
    "    if pt_i == 0:\n",
    "      o1 = cplx.ordering.by_dist_to(our_complex, key_point1)\n",
    "\n",
    "      matrix = mat.bdmatrix.from_ordering(o1)\n",
    "      knowledge = mat.reduction_knowledge(matrix, o1)\n",
    "      print(f'reduction start')\n",
    "      knowledge.run()\n",
    "      print(f'reduction end')\n",
    "\n",
    "      # R = DV\n",
    "      D = matrix.initmatrix\n",
    "      R = matrix.reduced\n",
    "\n",
    "      V = np.eye(D.shape[0], dtype=int);\n",
    "      for (target, other) in knowledge.adds:\n",
    "        V[:, target] = (V[:, target] + V[:, other]) % 2\n",
    "      assert (((D @ V) % 2) == R).all(), 'Something is wrong with the column reduction'\n",
    "\n",
    "      # RU = D\n",
    "      print(f'inverse start')\n",
    "      U = vin.matrix_inverse(V)\n",
    "      print(f'inverse end')\n",
    "      assert (((R @ U) % 2) == D).all(), 'Something is wrong with the column reduction'\n",
    "\n",
    "    o1 = cplx.ordering.by_dist_to(our_complex, key_point1)\n",
    "    o2 = cplx.ordering.by_dist_to(our_complex, key_point2)\n",
    "    (swapped_simplices, _, swapped_indices) = o1.compute_transpositions(o2)\n",
    "\n",
    "    found_faustian = False\n",
    "    print(f'swapped_indices = #{len(swapped_indices)}')\n",
    "    for (swap_i, i) in enumerate(swapped_indices):\n",
    "      P = vin.permutation_matrix(R.shape[0], i, i + 1)\n",
    "      PDP = (P.T @ D @ P) % 2\n",
    "      (RR, UU, faustian_swap) = vin.perform_one_swap(i, knowledge, R, U)\n",
    "\n",
    "      if faustian_swap:\n",
    "        found_faustian = True\n",
    "\n",
    "      RRUU = (RR @ UU) % 2\n",
    "      # assert (RRUU == PDP).all(), 'Something is wrong with the column reduction'\n",
    "      R = RR\n",
    "      U = UU\n",
    "      D = PDP\n",
    "\n",
    "    # f = 0.5\n",
    "    # pt = (1 - f) * np.array(key_point1) + f * np.array(key_point2)\n",
    "    if found_faustian:\n",
    "      plt.plot([key_point1[0], key_point2[0]], [key_point1[1], key_point2[1]], 'o-', markersize=8, linewidth=4, color='red' )\n",
    "    else:\n",
    "      plt.plot([key_point1[0], key_point2[0]], [key_point1[1], key_point2[1]], '-', alpha=0.3, linewidth=4, color='gray' )\n",
    "\n"
   ]
  },
  {
   "cell_type": "code",
   "execution_count": 119,
   "metadata": {},
   "outputs": [
    {
     "data": {
      "image/png": "[encoded data removed]",
      "text/plain": [
       "<Figure size 640x480 with 1 Axes>"
      ]
     },
     "metadata": {},
     "output_type": "display_data"
    }
   ],
   "source": [
    "# # Load input file\n",
    "# our_complex = inp.read_obj(\"input/triangle.obj\")\n",
    "# key_point1 = (0.0, 0.6)\n",
    "# gridd = grid.Grid.from_complex(our_complex, 0.01, buffer=0.05)\n",
    "\n",
    "our_complex = inp.read_obj(\"input/rectangle-8.obj\")\n",
    "key_point1 = (0.0, 0.6)\n",
    "gridd = grid.Grid.from_complex(our_complex, 0.232123, buffer=0.19123)\n",
    "\n",
    "# Plot things\n",
    "fig,ax = plt.subplots()\n",
    "ax.set_aspect('equal')\n",
    "ourplot.plot_grid(ax, gridd)\n",
    "ourplot.plot_complex(our_complex, label_verts=False, ax=ax)\n",
    "\n",
    "\n",
    "for i in range(0, gridd.edge_indices.shape[0]):\n",
    "  if gridd.is_boundary_edge(i):\n",
    "    continue\n",
    "  [p1, p2] = gridd.edge_indices[i]\n",
    "\n",
    "  p = gridd.points[p1]\n",
    "  q = gridd.points[p2]\n",
    "\n",
    "  faustian = vin.do_vineyards_for_two_points(our_complex, p, q)\n",
    "\n",
    "  if faustian:\n",
    "    a, b = gridd.dual_edge(i)\n",
    "    ax.plot([a[0], b[0]], [a[1], b[1]], '-', linewidth=2, color='blue')\n",
    "  # else:\n",
    "  #   ax.plot([p[0], q[0]], [p[1], q[1]], '-', markersize=1, linewidth=1, color='gray')"
   ]
  },
  {
   "cell_type": "code",
   "execution_count": 120,
   "metadata": {},
   "outputs": [
    {
     "data": {
      "image/png": "[encoded data removed]",
      "text/plain": [
       "<Figure size 640x480 with 1 Axes>"
      ]
     },
     "metadata": {},
     "output_type": "display_data"
    }
   ],
   "source": [
    "from pyfiles import demo\n",
    "demo.make_demos()"
   ]
  },
  {
   "cell_type": "code",
   "execution_count": null,
   "metadata": {},
   "outputs": [],
   "source": []
  }
 ],
 "metadata": {
  "kernelspec": {
   "display_name": "venv",
   "language": "python",
   "name": "python3"
  },
  "language_info": {
   "codemirror_mode": {
    "name": "ipython",
    "version": 3
   },
   "file_extension": ".py",
   "mimetype": "text/x-python",
   "name": "python",
   "nbconvert_exporter": "python",
   "pygments_lexer": "ipython3",
   "version": "3.10.12"
  },
  "orig_nbformat": 4
 },
 "nbformat": 4,
 "nbformat_minor": 2
}
