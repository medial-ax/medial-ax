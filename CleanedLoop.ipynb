{
 "cells": [
  {
   "cell_type": "markdown",
   "id": "120919d3",
   "metadata": {},
   "source": [
    "# init"
   ]
  },
  {
   "cell_type": "code",
   "execution_count": 1,
   "id": "2e590221",
   "metadata": {
    "scrolled": true
   },
   "outputs": [],
   "source": [
    "import sys \n",
    "sys.path.append('pyfiles/')\n",
    "import classes_loop as cl\n",
    "# so we don't have to reboot kernel every time we modify classes.py\n",
    "%load_ext autoreload\n",
    "%autoreload 2\n",
    "\n",
    "# math stuff\n",
    "import numpy as np\n",
    "# visualization\n",
    "from scipy.spatial import Voronoi, voronoi_plot_2d\n",
    "from scipy.spatial import distance\n",
    "from copy import deepcopy\n",
    "\n",
    "import matplotlib.pyplot as plt\n",
    "%matplotlib inline\n",
    "# sliders\n",
    "from ipywidgets import interactive\n",
    "\n",
    "# for matrix import and display\n",
    "import pandas as pd\n",
    "from IPython.display import display_html \n",
    "import csv \n",
    "\n",
    "######## NOTE: from this point on, order is important. \n",
    "# it would be good to make the code more robust, but right\n",
    "# now, there are ordered dependencies between functions.\n",
    "\n",
    "# points = cl.ellipse_example(numpts = 6)\n",
    "# # note: 100 pts causes handling error"
   ]
  },
  {
   "cell_type": "code",
   "execution_count": 2,
   "id": "ca2654a1",
   "metadata": {
    "scrolled": false
   },
   "outputs": [
    {
     "name": "stdout",
     "output_type": "stream",
     "text": [
      "simplices labeled by initial val, not column:\n",
      "\n",
      "emptyset-1 birthed a -1dim h class killed by v1\n",
      "v0 birthed a 0dim h class killed by e0\n",
      "v5 birthed a 0dim h class killed by e5\n",
      "v2 birthed a 0dim h class killed by e1\n",
      "v4 birthed a 0dim h class killed by e4\n",
      "v3 birthed a 0dim h class killed by e2\n",
      "e3 birthed an inf 1dim h class\n",
      "\n",
      "\n",
      "birth : [-1, 0, 5, 2, 4, 3]\n",
      "death : [1, 0, 5, 1, 4, 2]\n",
      "classdim : [-1, 0, 0, 0, 0, 0]\n",
      "b_simplex : ['emptyset', 'v', 'v', 'v', 'v', 'v']\n",
      "d_simplex : ['v', 'e', 'e', 'e', 'e', 'e']\n",
      "simplices labeled by initial val, not column:\n",
      "\n",
      "emptyset-1 birthed a -1dim h class killed by v2\n",
      "v3 birthed a 0dim h class killed by e2\n",
      "v4 birthed a 0dim h class killed by e3\n",
      "v1 birthed a 0dim h class killed by e1\n",
      "v5 birthed a 0dim h class killed by e4\n",
      "v0 birthed a 0dim h class killed by e0\n",
      "e5 birthed an inf 1dim h class\n",
      "\n",
      "\n",
      "birth : [-1, 3, 4, 1, 5, 0]\n",
      "death : [2, 2, 3, 1, 4, 0]\n",
      "classdim : [-1, 0, 0, 0, 0, 0]\n",
      "b_simplex : ['emptyset', 'v', 'v', 'v', 'v', 'v']\n",
      "d_simplex : ['v', 'e', 'e', 'e', 'e', 'e']\n"
     ]
    }
   ],
   "source": [
    "vin = cl.vineyard()\n",
    "# re init these just to make sure we can run this multiple times\n",
    "vin.pointset = np.empty(2)\n",
    "vin.complexlist = []\n",
    "vin.matrixlist = []\n",
    "vin.keypointlist = []\n",
    "n = 6\n",
    "# note: double check that there's not any issues where complex forgets associated matrix\n",
    "vin.add_complex(cl.ellipse_example(numpts = n, display = False),(2,1))\n",
    "vin.add_complex(cl.ellipse_example(numpts = n, display = False),(-2,1))"
   ]
  },
  {
   "cell_type": "code",
   "execution_count": 3,
   "id": "43437a4a",
   "metadata": {
    "scrolled": false
   },
   "outputs": [
    {
     "data": {
      "image/png": "[encoded data removed]",
      "text/plain": [
       "<Figure size 432x288 with 1 Axes>"
      ]
     },
     "metadata": {
      "needs_background": "light"
     },
     "output_type": "display_data"
    },
    {
     "data": {
      "image/png": "[encoded data removed]",
      "text/plain": [
       "<Figure size 432x288 with 1 Axes>"
      ]
     },
     "metadata": {
      "needs_background": "light"
     },
     "output_type": "display_data"
    }
   ],
   "source": [
    "# not a bug: graph color seeming to either not update or have a wrong edge is due to \n",
    "# sparse sampling of input. Add 50 points to see that it captures distance properly.\n",
    "vin.complexlist[0].plot(extras = False, label_edges = False, label_verts = False)\n",
    "vin.complexlist[1].plot(extras = False, label_edges = False, label_verts = False)\n"
   ]
  },
  {
   "cell_type": "code",
   "execution_count": 7,
   "id": "6741f628",
   "metadata": {},
   "outputs": [
    {
     "name": "stdout",
     "output_type": "stream",
     "text": [
      "verts that killed the empy set: \n",
      " [1, 2]\n",
      "no type 3 knee for zero-homology (with epsilon nbhd of 1 )\n",
      "\n",
      "edges that birthed one-homology:\n",
      " [3, 5]\n",
      "type 3 knee between key points (2, 1) and (-2, 1) \n",
      "( with epsilon nbhd of 1 )\n"
     ]
    }
   ],
   "source": [
    "# later we'll put this pair into a for loop in which we compare a lot of pairs\n",
    "# maybe it would be nice to only ever store two complexes in a vineyard? Or do we need more? \n",
    "# what information can we safely delete and what do we still need? \n",
    "\n",
    "# QUESTION: does a b,d pairing HAVE to be dim i and dim i+1? In theory can a vertex \n",
    "# be paired with a triangle, and can the empty set be paired with an edge? \n",
    "# in simplicial complexes, always, YES ^_^ So we don't have to rewrite the code :) \n",
    "\n",
    "\n",
    "##############################################\n",
    "pair_of_grapes = [[vin.complexlist[0], vin.complexlist[1]], \\\n",
    "                  [vin.matrixlist[0], vin.matrixlist[1]]]\n",
    "\n",
    "pair_of_deaths = []\n",
    "dims_of_deaths = []\n",
    "pair_of_unpaired = []\n",
    "############################################\n",
    "# if it's an i-dimensional homology class, the birth simplex has dim i\n",
    "# I am not sure the death simplex is guaranteed to be dim i+1, so we might not have store\n",
    "# enough info earlier to look it up, as index is not unique without dimension\n",
    "\n",
    "# find the verts that kill the empty set\n",
    "# we can cheat a little on finding these types of knees, \n",
    "# because there's always exactly one vert that kills the empty set \n",
    "# if the complex is nonempty, and all the others give birth to 0 homology, \n",
    "# so instead of looking for cross dimensional birth death switches as such, \n",
    "# we can look just for the death of the empty simplex. \n",
    "\n",
    "for i in range(len(pair_of_grapes)):\n",
    "    # one grape is one complex\n",
    "    # all complexes have same underlying set, but different special point\n",
    "    deaths = pair_of_grapes[1][i].bd_pairs[\"death\"]\n",
    "    dims = pair_of_grapes[1][i].bd_pairs[\"classdim\"]\n",
    "    for j in range(len(deaths)):\n",
    "        # find the exactly one death of the empty simplex\n",
    "        if dims[j] == -1:\n",
    "            pair_of_deaths.append(deaths[j])\n",
    "            \n",
    "print(\"verts that killed the empy set: \\n\",pair_of_deaths)\n",
    "\n",
    "# note, we are already referring to the simplices by their index, \n",
    "# which was the initial parametric sampling, so they are in order\n",
    "# so we can use this number to find nearest neighbor relationship\n",
    "epsilon = 1\n",
    "if pair_of_deaths[0] not in range(pair_of_deaths[1] - epsilon, pair_of_deaths[1] + epsilon):\n",
    "    print(\"type 3 knee between key points\",\n",
    "          pair_of_grapes[0][0].key_point ,\n",
    "          \"and\",\n",
    "          pair_of_grapes[0][1].key_point,\n",
    "         \"\\n( with epsilon nbhd of\",\n",
    "         epsilon,\n",
    "         \")\")\n",
    "else:\n",
    "    print(\"no type 3 knee for zero-homology\",\n",
    "         \"(with epsilon nbhd of\",\n",
    "         epsilon,\n",
    "         \")\")\n",
    "\n",
    "##############################################\n",
    "# now that there are no triangles, we are looking at top-dimensional,\n",
    "# ie, unpaired, simplices (edges) instead of birth-death pairs. \n",
    "# this will need to be made more robust when we add triangles.\n",
    "\n",
    "for i in range(len(pair_of_grapes)):\n",
    "    # one grape is one complex\n",
    "    # all complexes have same underlying set, but different special point\n",
    "    one_d_births = pair_of_grapes[1][i].unpaired[\"birth\"]\n",
    "    dims = pair_of_grapes[1][i].unpaired[\"classdim\"]\n",
    "    for j in range(len(one_d_births)):\n",
    "        # find the exactly one death of the empty simplex\n",
    "        if dims[j] == 1:\n",
    "            pair_of_unpaired.append(one_d_births[j])\n",
    "\n",
    "print(\"\\nedges that birthed one-homology:\\n\",\n",
    "      pair_of_unpaired)\n",
    "\n",
    "\n",
    "if pair_of_unpaired[0] not in range(pair_of_unpaired[1] - epsilon, pair_of_unpaired[1] + epsilon):\n",
    "    print(\"type 3 knee between key points\",\n",
    "          pair_of_grapes[0][0].key_point ,\n",
    "          \"and\",\n",
    "          pair_of_grapes[0][1].key_point,\n",
    "         \"\\n( with epsilon nbhd of\",\n",
    "         epsilon,\n",
    "         \")\")\n",
    "else:\n",
    "    print(\"no type 3 knee for one-homology\",\n",
    "         \"(with epsilon nbhd of\",\n",
    "         epsilon,\n",
    "         \")\")\n"
   ]
  },
  {
   "cell_type": "markdown",
   "id": "3ad7139e",
   "metadata": {},
   "source": [
    "## check 0 death / 1 birth switch\n",
    "\n",
    "- if the simplex s in vin.matrixlist[0] that killed the empty set is much different than the one that killed the empty set in vin.matrixlist[1], then there is a dim 0 Type 3 Knee \n",
    "- this is easier to check than the next dimension of knee, because there's guaranteed to always be a simplex that kills the empty set if the complex isn't empty"
   ]
  },
  {
   "cell_type": "markdown",
   "id": "3ac6612d",
   "metadata": {},
   "source": [
    "# next: \n",
    "- pretty pictures. would be nice to visualize birth/death\n",
    "- animations?! showing growth of complext for one point, and also for moving point around\n",
    "- maths stuff: be able to tell if it's a type 3 knee\n",
    "- make things faster: sparse matrix\n",
    "- don't store things in duplicates\n",
    "- later: refinement"
   ]
  },
  {
   "cell_type": "markdown",
   "id": "6b45676f",
   "metadata": {},
   "source": [
    "# ToDo: \n",
    "- would be cool: replot the graph, but labeling mothers and murderers\n",
    "- also cool: make graph into an animation that shows whole process\n",
    "- separate voroni MA from example and add it as a graph option\n",
    "- be able to tell if multiple interchanges happened\n",
    "- if so, be able to find new special point and recompute things\n",
    "- be able to tell if interchange was type changing (maybe should think about this first, because if multiple non type changing interchanges happen, maybe we don't actually care about them, and don't need to move special point)\n",
    "\n",
    "-----\n",
    "\n",
    "- to sell the work better: start writing down all the problems we encountered to justify why we do things this way (try to remember why phat didn't work etc) "
   ]
  },
  {
   "cell_type": "code",
   "execution_count": null,
   "id": "45ce4dfe",
   "metadata": {},
   "outputs": [],
   "source": []
  },
  {
   "cell_type": "markdown",
   "id": "6ec478a3",
   "metadata": {},
   "source": [
    "- in sublime, alt shift arrows to have cursors appear all the places\n",
    "- ctrl shift arrows switchy switch\n",
    "- ctrl shift p to find the things"
   ]
  }
 ],
 "metadata": {
  "kernelspec": {
   "display_name": "Python 3",
   "language": "python",
   "name": "python3"
  },
  "language_info": {
   "codemirror_mode": {
    "name": "ipython",
    "version": 3
   },
   "file_extension": ".py",
   "mimetype": "text/x-python",
   "name": "python",
   "nbconvert_exporter": "python",
   "pygments_lexer": "ipython3",
   "version": "3.9.13"
  }
 },
 "nbformat": 4,
 "nbformat_minor": 5
}
