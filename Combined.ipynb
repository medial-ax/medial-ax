{
 "cells": [
  {
   "cell_type": "markdown",
   "id": "507c8cf5",
   "metadata": {},
   "source": [
    "# init"
   ]
  },
  {
   "cell_type": "code",
   "execution_count": 1,
   "id": "b9415219",
   "metadata": {},
   "outputs": [],
   "source": [
    "# math stuff\n",
    "import numpy as np\n",
    "# visualization\n",
    "from scipy.spatial import Voronoi, voronoi_plot_2d\n",
    "from scipy.spatial import distance\n",
    "from copy import deepcopy\n",
    "\n",
    "import matplotlib.pyplot as plt\n",
    "%matplotlib inline\n",
    "# sliders\n",
    "from ipywidgets import interactive\n",
    "\n",
    "# for matrix import and display\n",
    "import pandas as pd\n",
    "from IPython.display import display_html \n",
    "\n",
    "# to be able to use python files\n",
    "import sys \n",
    "sys.path.append('pyfiles/')\n",
    "import classes as cl\n",
    "# This reloads external modules every time a cell is run\n",
    "# so we don't have to reboot kernel every time we modify classes.py\n",
    "%load_ext autoreload\n",
    "%autoreload 2\n",
    "import csv #for loading function"
   ]
  },
  {
   "cell_type": "markdown",
   "id": "923a85eb",
   "metadata": {},
   "source": [
    "# input shape"
   ]
  },
  {
   "cell_type": "code",
   "execution_count": 2,
   "id": "34fd6053",
   "metadata": {
    "scrolled": false
   },
   "outputs": [
    {
     "data": {
      "image/png": "[encoded data removed]",
      "text/plain": [
       "<Figure size 1440x1440 with 2 Axes>"
      ]
     },
     "metadata": {
      "needs_background": "light"
     },
     "output_type": "display_data"
    }
   ],
   "source": [
    "points = cl.ellipse_example(numpts = 7)"
   ]
  },
  {
   "cell_type": "markdown",
   "id": "d9328696",
   "metadata": {},
   "source": [
    "# turn points into simplices, add connecting edges, order under dist sq"
   ]
  },
  {
   "cell_type": "code",
   "execution_count": 3,
   "id": "e1e18e7e",
   "metadata": {
    "scrolled": true
   },
   "outputs": [
    {
     "name": "stdout",
     "output_type": "stream",
     "text": [
      "[25.0, 12.17, 5.03, 21.01, 21.08, 5.06, 12.14]\n"
     ]
    },
    {
     "data": {
      "image/png": "[encoded data removed]",
      "text/plain": [
       "<Figure size 432x288 with 1 Axes>"
      ]
     },
     "metadata": {
      "needs_background": "light"
     },
     "output_type": "display_data"
    }
   ],
   "source": [
    "init_complex = cl.complex()\n",
    "init_complex.init_verts(points)\n",
    "\n",
    "# I don't remember if the deepcopy were to learn about \n",
    "# python linking things together, or if it served a later purpose\n",
    "complexx = deepcopy(init_complex)\n",
    "complexx.init_edges()\n",
    "# complexx.plot()\n",
    "\n",
    "# I don't remember why we need to deepcopy again. do we really?\n",
    "# I also don't remember why it works to deepcopy an empty cplx\n",
    "# is it getting the data from complexx, or initcomplex??\n",
    "orderedcplx = deepcopy(cl.complex())\n",
    "\n",
    "# the key point is the one we will take the squared dist from\n",
    "orderedcplx.key_point = (0,0)\n",
    "distlist = orderedcplx.find_sq_dist(init_complex)\n",
    "\n",
    "# PERMUTE indices\n",
    "orderedcplx.sort_inds(distlist)\n",
    "# orderedcplx.print_inds()\n",
    "# now, orderedcplx has a correct orderedindex for every vert\n",
    "# edges still need to be indexed based on this ordering\n",
    "\n",
    "# TODO: DECIDE ON RULE FOR THE BOUNDARY: INITIAL INPUT OR ORDERED\n",
    "# we want to put them into the matrix in order but we'll change it later\n",
    "\n",
    "orderedcplx.sort_edges()\n",
    "orderedcplx.plot()\n",
    "# print([v.index for v in orderedcplx.vertlist])"
   ]
  },
  {
   "cell_type": "markdown",
   "id": "bd47c09e",
   "metadata": {},
   "source": [
    "## Next we want to build the persistence matrix.\n",
    "this gives a total order on verts and edges, first by function value, and then by dimension, and then by initial index"
   ]
  },
  {
   "cell_type": "code",
   "execution_count": 4,
   "id": "8caac0d5",
   "metadata": {},
   "outputs": [],
   "source": [
    "all_simplices = orderedcplx.vertlist + orderedcplx.edgelist\n",
    "simplex_key = lambda simplex: (simplex.orderedindex, len(simplex.boundary), simplex.index)\n",
    "all_simplices.sort(key=simplex_key)\n",
    "\n",
    "for i in range(len(all_simplices)):\n",
    "    all_simplices[i].columnvalue = i + 1"
   ]
  },
  {
   "cell_type": "markdown",
   "id": "630c6ce9",
   "metadata": {},
   "source": [
    "## build the boundary matrix and reduce it"
   ]
  },
  {
   "cell_type": "markdown",
   "id": "8cbd34a0",
   "metadata": {},
   "source": [
    "NOTE: Matrix is for reduced homology, so it starts with the empty set in col 0.\n",
    "also to note: we use one big matrix for edges and verts, so they are intermingled.\n",
    "\n",
    "\n",
    "next we want to make a function that builds a np array from the ordered cplx. \n",
    "it will be a square matrix, with length nedges + nverts + 1 (because of empty simplex for reduced homology)\n",
    "NOTE: WE DON'T ALLOW FOR TRIANGLES YET BUT EVENTUALLY SHOULD\n",
    "\n",
    "simplices in filtration order across top and same order going down\n",
    "child is going down and parent is across \n",
    "if child i in parent j, (i,j) row,column gets a 1\n",
    "for all vert parents: they all get a 1 for empty set and 0 else\n",
    "\n",
    "note from Teresa: we can separate the matrices into one each for verts, edges, triangles, \n",
    "... not sure if this is better in practice"
   ]
  },
  {
   "cell_type": "code",
   "execution_count": 16,
   "id": "67b420d7",
   "metadata": {},
   "outputs": [
    {
     "name": "stdout",
     "output_type": "stream",
     "text": [
      "columns:  15  rows:  15\n"
     ]
    }
   ],
   "source": [
    "mat = cl.bdmatrix()\n",
    "mat.make_matrix(orderedcplx)\n",
    "reduced = mat.reduce(display = False)"
   ]
  },
  {
   "cell_type": "code",
   "execution_count": 20,
   "id": "4e1b91ab",
   "metadata": {
    "scrolled": true
   },
   "outputs": [
    {
     "name": "stdout",
     "output_type": "stream",
     "text": [
      "Zero Columns:\n",
      "col : [0, 2, 3, 5, 7, 9, 12, 14]\n",
      "dim : [-1, 0, 0, 0, 0, 0, 0, 1]\n",
      "index : [0, 5, 6, 1, 3, 4, 0, 6]\n",
      "\n",
      "Lowest Ones:\n",
      "col : [1, 4, 6, 8, 10, 11, 13]\n",
      "row : [0, 3, 5, 7, 9, 2, 12]\n",
      "dim : [-1, 0, 0, 0, 0, 0, 0]\n",
      "index : [2, 5, 1, 2, 3, 4, 0]\n",
      "dummy:  0 \n",
      "zero:  0 \n",
      "one: 1\n"
     ]
    }
   ],
   "source": [
    "# here, index refers as usual to the very initial index a simplex has\n",
    "# dim is the dim of column simplex, as in index\n",
    "\n",
    "# dim for lows is ROW DIM\n",
    "lowestones = {\n",
    "    \"col\" : [],\n",
    "    \"row\" : [],\n",
    "    \"dim\" : [],\n",
    "    \"index\" : []    \n",
    "}\n",
    "\n",
    "# dim here is COL DIM\n",
    "zerocolumns = {\n",
    "    \"col\" : [],\n",
    "    \"dim\" : [],\n",
    "    \"index\" : []    \n",
    "}\n",
    "\n",
    "##\n",
    "# next: in reduced matrix, count number of 0-columns for each dim\n",
    "# then count number of lowest ones for each dim\n",
    "length = len(reduced[:][0])\n",
    "# check that the first column is a 0 column\n",
    "# (reduced homology means it should always be a 0 col)\n",
    "for i in range(length):\n",
    "    if reduced[length - i - 1][0] == 1:\n",
    "        print(\"ERROR! this is supposed to be a zero column, but there is a 1 at row \", length - i -1)\n",
    "        break\n",
    "# if we didn't error out, we count the dummy column towards homology\n",
    "zerocolumns[\"col\"].append(0)\n",
    "zerocolumns[\"dim\"].append(-1)\n",
    "zerocolumns[\"index\"].append(0)\n",
    "\n",
    "# next, for column j in the matrix, check from bottom for lowest ones. \n",
    "# if no ones are found, then it is a zero column.\n",
    "# spits out row value for lowest one in a column\n",
    "zerocol = True\n",
    "for j in range(length):\n",
    "    # we know it's a square matrix by construction \n",
    "    for i in range(length):\n",
    "        # here we go backwards up the columns to search for lowest ones.\n",
    "        if reduced[length - i - 1][j] == 1:\n",
    "            # check what dimension it is\n",
    "            # find simplex in all_simplices s.t. simplex.columnvalue = j\n",
    "            for x in all_simplices: \n",
    "                # I think this is the only change we need to make.\n",
    "                if x.columnvalue == j:\n",
    "                    lowestones[\"col\"].append(j)\n",
    "                    lowestones[\"row\"].append(length - i -1)\n",
    "                    lowestones[\"index\"].append(x.index)\n",
    "                    # we subtract 2 because it is ROW dim not COL!!\n",
    "                    # this one took f*cking forever to find\n",
    "                    lowestones[\"dim\"].append(len(x.boundary) - 2)\n",
    "#                     print(x)\n",
    "            zerocol = False\n",
    "            break\n",
    "    if zerocol:\n",
    "        for x in all_simplices:\n",
    "                if x.columnvalue == j:\n",
    "                    zerocolumns[\"col\"].append(j)\n",
    "                    zerocolumns[\"dim\"].append(len(x.boundary) - 1)\n",
    "                    zerocolumns[\"index\"].append(x.index)\n",
    "#                     print(x)\n",
    "    zerocol = True\n",
    "    \n",
    "print(\"Zero Columns:\")\n",
    "for key, value in zerocolumns.items():\n",
    "    print(key, \":\", value)\n",
    "print(\"\\nLowest Ones:\")\n",
    "for key, value in lowestones.items():\n",
    "    print(key, \":\", value)\n",
    "    \n",
    "# Betti_p = #zero_p - #low_p\n",
    "\n",
    "betti_dummy = 0\n",
    "betti_zero = 0\n",
    "betti_one = 0\n",
    "\n",
    "for x in zerocolumns[\"dim\"]:\n",
    "    if x == -1:\n",
    "        betti_dummy += 1\n",
    "    if x == 0:\n",
    "        betti_zero += 1\n",
    "    if x == 1:\n",
    "        betti_one += 1\n",
    "        \n",
    "for x in lowestones[\"dim\"]:\n",
    "    if x == -1:\n",
    "        betti_dummy -= 1\n",
    "    if x == 0:\n",
    "        betti_zero -= 1\n",
    "    if x == 1:\n",
    "        betti_one -= 1\n",
    "print(\"dummy: \", betti_dummy, \"\\nzero: \", betti_zero, \"\\none:\" ,betti_one)"
   ]
  },
  {
   "cell_type": "code",
   "execution_count": null,
   "id": "87e3dcb7",
   "metadata": {},
   "outputs": [],
   "source": []
  },
  {
   "cell_type": "markdown",
   "id": "b18855f2",
   "metadata": {},
   "source": [
    "## next: use ordering obtained sorting via distance func to make matrix"
   ]
  },
  {
   "cell_type": "markdown",
   "id": "a968bcf2",
   "metadata": {},
   "source": [
    "# misc"
   ]
  },
  {
   "cell_type": "markdown",
   "id": "f97cb68e",
   "metadata": {},
   "source": [
    "note\n",
    "\n",
    " if column is repr as set of indices, max yields lowest one\n",
    " max can (maybe) be re-keyed to return max wrt ie radius instead of index\n",
    " max(column, key=...), key as lambda funcion like for enumerate\n",
    "\n",
    " consider redoing matrices? "
   ]
  },
  {
   "cell_type": "code",
   "execution_count": 8,
   "id": "f6f343d5",
   "metadata": {},
   "outputs": [
    {
     "data": {
      "text/plain": [
       "[0, 3, 6, 9, 12]"
      ]
     },
     "execution_count": 8,
     "metadata": {},
     "output_type": "execute_result"
    }
   ],
   "source": [
    "[i*3 for i in range(5)]"
   ]
  },
  {
   "cell_type": "code",
   "execution_count": 9,
   "id": "b3668d7d",
   "metadata": {},
   "outputs": [
    {
     "data": {
      "text/plain": [
       "{0, 1, 4, 9, 16, 25}"
      ]
     },
     "execution_count": 9,
     "metadata": {},
     "output_type": "execute_result"
    }
   ],
   "source": [
    "{i**2 for i in range(-5,6)}"
   ]
  }
 ],
 "metadata": {
  "kernelspec": {
   "display_name": "Python 3",
   "language": "python",
   "name": "python3"
  },
  "language_info": {
   "codemirror_mode": {
    "name": "ipython",
    "version": 3
   },
   "file_extension": ".py",
   "mimetype": "text/x-python",
   "name": "python",
   "nbconvert_exporter": "python",
   "pygments_lexer": "ipython3",
   "version": "3.9.13"
  }
 },
 "nbformat": 4,
 "nbformat_minor": 5
}
