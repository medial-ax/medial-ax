{
 "cells": [
  {
   "cell_type": "markdown",
   "id": "507c8cf5",
   "metadata": {},
   "source": [
    "# init"
   ]
  },
  {
   "cell_type": "code",
   "execution_count": 1,
   "id": "b9415219",
   "metadata": {},
   "outputs": [],
   "source": [
    "# math stuff\n",
    "import numpy as np\n",
    "# visualization\n",
    "from scipy.spatial import Voronoi, voronoi_plot_2d\n",
    "from scipy.spatial import distance\n",
    "from copy import deepcopy\n",
    "\n",
    "import matplotlib.pyplot as plt\n",
    "%matplotlib inline\n",
    "# sliders\n",
    "from ipywidgets import interactive\n",
    "\n",
    "# to be able to use python files\n",
    "import sys \n",
    "sys.path.append('pyfiles/')\n",
    "import classes as cl\n",
    "# This reloads external modules every time a cell is run\n",
    "# so we don't have to reboot kernel every time we modify classes.py\n",
    "%load_ext autoreload\n",
    "%autoreload 2\n",
    "import csv #for loading function\n",
    "\n",
    "# for matrix import and display\n",
    "import pandas as pd\n",
    "from IPython.display import display_html  # this is needed to display pretty matrices side by side"
   ]
  },
  {
   "cell_type": "markdown",
   "id": "923a85eb",
   "metadata": {},
   "source": [
    "# input shape\n",
    "\n",
    "### parametric eq for ellipse: \n",
    "$F(t) = (x(t), y(t))$, where $x(t) = a*cos(t)$ and $y(t) = b*sin(t)$"
   ]
  },
  {
   "cell_type": "code",
   "execution_count": 2,
   "id": "34fd6053",
   "metadata": {
    "scrolled": false
   },
   "outputs": [
    {
     "data": {
      "image/png": "[encoded data removed]",
      "text/plain": [
       "<Figure size 1440x1440 with 2 Axes>"
      ]
     },
     "metadata": {
      "needs_background": "light"
     },
     "output_type": "display_data"
    }
   ],
   "source": [
    "# parameters for ellipse shape and sampling density\n",
    "a = 5\n",
    "b = 2\n",
    "\n",
    "# c is sampling density: smaller is more dense\n",
    "# c = .01\n",
    "c = 9\n",
    "t = np.arange(0.0, 6.28, c/10)\n",
    "fig, (ax1, ax2) = plt.subplots(1,2, sharey = True)\n",
    "x = a*np.cos(t)\n",
    "y = b*np.sin(t)\n",
    "points = np.array(list(zip(x,y)))\n",
    "vor = Voronoi(points)\n",
    "\n",
    "# plot ellipse\n",
    "ax1.set_xlim(-(max(a,b) + 1), (max(a,b) + 1))\n",
    "ax1.set_ylim(-(max(a,b) + 1), (max(a,b) + 1))\n",
    "ax1.set_aspect('equal')\n",
    "ax1.plot(x,y,'o')\n",
    "\n",
    "# plot voronoi stuff\n",
    "ax2.set_xlim(-(max(a,b) + 1), (max(a,b) + 1))\n",
    "ax2.set_ylim(-(max(a,b) + 1), (max(a,b) + 1))\n",
    "ax2.set_aspect('equal')\n",
    "voronoi_plot_2d(vor, ax2, show_vertices=True, line_alpha = 0, show_points = True, point_colors='orange', point_size=10)\n",
    "\n",
    "fig.set_figwidth(20)\n",
    "fig.set_figheight(20)\n",
    "plt.show()"
   ]
  },
  {
   "cell_type": "markdown",
   "id": "d9328696",
   "metadata": {},
   "source": [
    "# turn points into simplices and add connecting edges "
   ]
  },
  {
   "cell_type": "code",
   "execution_count": 3,
   "id": "e1e18e7e",
   "metadata": {
    "scrolled": true
   },
   "outputs": [
    {
     "name": "stdout",
     "output_type": "stream",
     "text": [
      "number of verts is 7, and number of edges is 7\n",
      "number of verts is 7, and number of edges is 0\n"
     ]
    }
   ],
   "source": [
    "init_complex = cl.complex()\n",
    "i = 0\n",
    "# we give the complex vertices\n",
    "for point in points:\n",
    "    temp_simplex = cl.simplex()\n",
    "    temp_simplex.coords = [round(point[0],2), round(point[1],2)]\n",
    "    temp_simplex.index = i\n",
    "    temp_simplex.dim = 0\n",
    "    temp_simplex.boundary = [-1]\n",
    "    i += 1\n",
    "    init_complex.vertlist.append(temp_simplex)\n",
    "#     init_complex.nverts += 1\n",
    "\n",
    "\n",
    "complexx = deepcopy(init_complex)\n",
    "\n",
    "# add edges to complexx\n",
    "for i in range(len(init_complex.vertlist)):\n",
    "    temp_edge = cl.simplex()\n",
    "    temp_edge.boundary = [i, (i + 1)%(len(init_complex.vertlist))]\n",
    "    temp_edge.dim = 1\n",
    "    temp_edge.index = i + 1 # maybe this makes no sense\n",
    "    complexx.edgelist.append(temp_edge)\n",
    "#     complexx.nedges += 1\n",
    "    i += 1\n",
    "\n",
    "print(complexx)\n",
    "print(init_complex)"
   ]
  },
  {
   "cell_type": "code",
   "execution_count": 4,
   "id": "0b44f513",
   "metadata": {},
   "outputs": [
    {
     "name": "stdout",
     "output_type": "stream",
     "text": [
      "[-1.0, -1.0, -1.0, -1.0, -1.0, -1.0, -1.0]\n"
     ]
    },
    {
     "data": {
      "image/png": "[encoded data removed]",
      "text/plain": [
       "<Figure size 432x288 with 1 Axes>"
      ]
     },
     "metadata": {
      "needs_background": "light"
     },
     "output_type": "display_data"
    }
   ],
   "source": [
    "complexx.plot()"
   ]
  },
  {
   "cell_type": "markdown",
   "id": "cdaf86e4",
   "metadata": {},
   "source": [
    "# use distance from special point to create ordering on all simplices \n",
    "note: maybe don't start with point on curve"
   ]
  },
  {
   "cell_type": "code",
   "execution_count": 5,
   "id": "fdbb4a36",
   "metadata": {},
   "outputs": [
    {
     "name": "stdout",
     "output_type": "stream",
     "text": [
      "[25.0, 12.14, 5.1, 21.15, 20.86, 4.94, 12.45]\n"
     ]
    }
   ],
   "source": [
    "#repeating because maybe we can just do this at the same time\n",
    "\n",
    "orderedcplx = deepcopy(cl.complex())\n",
    "# the key point is the one we will take the squared dist from\n",
    "orderedcplx.key_point = init_complex.vertlist[0].coords\n",
    "orderedcplx.key_point = (0,0)\n",
    "distlist = []\n",
    "# find distance-squareds\n",
    "for i in range(len(init_complex.vertlist)):\n",
    "    temp_simplex = init_complex.vertlist[i]\n",
    "    dist = distance.euclidean(orderedcplx.key_point, temp_simplex.coords)\n",
    "    distsq = round(dist*dist,2)\n",
    "    temp_simplex.radialdist = distsq\n",
    "    distlist.append(distsq)\n",
    "    # reset the index\n",
    "    temp_simplex.index = i\n",
    "    orderedcplx.vertlist.append(temp_simplex)\n",
    "    i += 1\n",
    "# orderedcplx.vertlist\n",
    "print(distlist)\n",
    "# at this point, orderedcplx has the verts, and they each have .radialdist as their dist"
   ]
  },
  {
   "cell_type": "markdown",
   "id": "5f359ec5",
   "metadata": {},
   "source": [
    "## ondra's magical way to permute the indices"
   ]
  },
  {
   "cell_type": "code",
   "execution_count": 6,
   "id": "9cb05405",
   "metadata": {
    "scrolled": true
   },
   "outputs": [
    {
     "name": "stdout",
     "output_type": "stream",
     "text": [
      "<bound method complex.nverts of number of verts is 7, and number of edges is 0>  indices\n",
      "orig  0  new:  6\n",
      "orig  1  new:  2\n",
      "orig  2  new:  1\n",
      "orig  3  new:  5\n",
      "orig  4  new:  4\n",
      "orig  5  new:  0\n",
      "orig  6  new:  3\n"
     ]
    }
   ],
   "source": [
    "# sorts by distlist[ind] but in case of tie, ind breaks tie\n",
    "# \"\" sorts by radius, but then uses input index to consistently break ties\n",
    "\n",
    "# I think we have to make a new list here\n",
    "old_indices = []\n",
    "for i in range(len(orderedcplx.vertlist)):\n",
    "    old_indices.append(orderedcplx.vertlist[i].index)\n",
    "    \n",
    "for new_i, i in enumerate(sorted(old_indices, key = lambda ind: (distlist[ind], ind))):\n",
    "    orderedcplx.vertlist[i].orderedindex = new_i\n",
    "    \n",
    "orderedcplx.print_inds()\n",
    "# now, orderedcplx has a correct orderedindex for every vert\n",
    "# edges still need to be indexed based on this ordering"
   ]
  },
  {
   "cell_type": "markdown",
   "id": "b37efd9b",
   "metadata": {},
   "source": [
    "# sort the verts"
   ]
  },
  {
   "cell_type": "code",
   "execution_count": 7,
   "id": "3e08f991",
   "metadata": {},
   "outputs": [],
   "source": [
    "# note\n",
    "\n",
    "# if column is repr as set of indices, max yields lowest one\n",
    "# max can (maybe) be re-keyed to return max wrt ie radius instead of index\n",
    "# max(column, key=...), key as lambda funcion like for enumerate\n",
    "\n",
    "# consider redoing matrices? "
   ]
  },
  {
   "cell_type": "code",
   "execution_count": 8,
   "id": "2d600d3d",
   "metadata": {
    "scrolled": true
   },
   "outputs": [
    {
     "name": "stdout",
     "output_type": "stream",
     "text": [
      "[25.0, 12.14, 5.1, 21.15, 20.86, 4.94, 12.45]\n"
     ]
    },
    {
     "data": {
      "image/png": "[encoded data removed]",
      "text/plain": [
       "<Figure size 432x288 with 1 Axes>"
      ]
     },
     "metadata": {
      "needs_background": "light"
     },
     "output_type": "display_data"
    }
   ],
   "source": [
    "# TODO: DECIDE ON RULE FOR THE BOUNDARY: INITIAL INPUT OR ORDERED\n",
    "# we want to put them into the matrix in order but we'll change it later\n",
    "\n",
    "\n",
    "# add unordered edges\n",
    "# add edges to complexx\n",
    "\n",
    "# we initialize these empty here so we can rerun this without getting spurious values\n",
    "orderedcplx.edgelist = []\n",
    "for vert in orderedcplx.vertlist: \n",
    "    vert.parents = []\n",
    "    \n",
    "for i in range(len(orderedcplx.vertlist)):\n",
    "    temp_edge = cl.simplex()\n",
    "    j = (i + 1)%(len(init_complex.vertlist))\n",
    "    # i is the first vert in the edge, and j is the second. \n",
    "    # this assumes we are dealing with a closed loop, in which case\n",
    "    # the final vertex is the 0th vert.\n",
    "    \n",
    "    #NOTE: the boundary should be actual simplices, not just ints\n",
    "    temp_edge.boundary = [i, j]\n",
    "#     temp_edge.boundary = [orderedcplx.vertlist[i].orderedindex, orderedcplx.vertlist[j].orderedindex]\n",
    "    temp_edge.dim = 1\n",
    "    temp_edge.index = i # maybe this makes no sense\n",
    "    temp_edge.coords = [[orderedcplx.vertlist[i].coords],[orderedcplx.vertlist[j].coords]]\n",
    "    \n",
    "    # here the index of the edges is NOT unique over all simplices, because it's just in the for loop, so\n",
    "    # we can't tell the difference between an edge and a vertex by just the index\n",
    "    orderedcplx.vertlist[i].parents.append(i)\n",
    "    orderedcplx.vertlist[j].parents.append(i)\n",
    "    \n",
    "    # does this yield a unique ordering? \n",
    "    temp_edge.orderedindex = max(orderedcplx.vertlist[i].orderedindex, orderedcplx.vertlist[j].orderedindex )\n",
    "    orderedcplx.edgelist.append(temp_edge)\n",
    "    i += 1\n",
    "orderedcplx.plot()\n",
    "# print([v.index for v in orderedcplx.vertlist])"
   ]
  },
  {
   "cell_type": "markdown",
   "id": "bd47c09e",
   "metadata": {},
   "source": [
    "## parent labelling is consistent with boundary labelling, good. (note: both use initial index, not ordered index, and we do not intend to update)"
   ]
  },
  {
   "cell_type": "code",
   "execution_count": 9,
   "id": "3e8ddd7e",
   "metadata": {},
   "outputs": [
    {
     "name": "stdout",
     "output_type": "stream",
     "text": [
      "my index is  0  and my parents are  [0, 6]  my function value is  6\n",
      "my index is  1  and my parents are  [0, 1]  my function value is  2\n",
      "my index is  2  and my parents are  [1, 2]  my function value is  1\n",
      "my index is  3  and my parents are  [2, 3]  my function value is  5\n",
      "my index is  4  and my parents are  [3, 4]  my function value is  4\n",
      "my index is  5  and my parents are  [4, 5]  my function value is  0\n",
      "my index is  6  and my parents are  [5, 6]  my function value is  3\n"
     ]
    }
   ],
   "source": [
    "for vertex in orderedcplx.vertlist:\n",
    "    print(\"my index is \", vertex.index, \\\n",
    "          \" and my parents are \", vertex.parents, \\\n",
    "          \" my function value is \", vertex.orderedindex)"
   ]
  },
  {
   "cell_type": "markdown",
   "id": "ea737306",
   "metadata": {},
   "source": [
    "## at the moment, ordering is not unique. procedure: \n",
    "- try to use lambda functional that runs over both verts and edges. It sorts first by simplex.orderedindex, then by dimension (verts before edges), then by initial index (in case of ties between edges)"
   ]
  },
  {
   "cell_type": "code",
   "execution_count": 10,
   "id": "42ef6f67",
   "metadata": {
    "scrolled": false
   },
   "outputs": [
    {
     "name": "stdout",
     "output_type": "stream",
     "text": [
      "my index is  0  and my children are  [0, 1]  my function value is  6\n",
      "my index is  1  and my children are  [1, 2]  my function value is  2\n",
      "my index is  2  and my children are  [2, 3]  my function value is  5\n",
      "my index is  3  and my children are  [3, 4]  my function value is  5\n",
      "my index is  4  and my children are  [4, 5]  my function value is  4\n",
      "my index is  5  and my children are  [5, 6]  my function value is  3\n",
      "my index is  6  and my children are  [6, 0]  my function value is  6\n"
     ]
    }
   ],
   "source": [
    "for edge in orderedcplx.edgelist:\n",
    "    print(\"my index is \", edge.index, \\\n",
    "          \" and my children are \", edge.boundary, \\\n",
    "          \" my function value is \", edge.orderedindex)"
   ]
  },
  {
   "cell_type": "code",
   "execution_count": 11,
   "id": "d25ad69a",
   "metadata": {},
   "outputs": [
    {
     "data": {
      "text/plain": [
       "[1]"
      ]
     },
     "execution_count": 11,
     "metadata": {},
     "output_type": "execute_result"
    }
   ],
   "source": [
    "A = [1, 2]\n",
    "B = [3]\n",
    "C = A + B\n",
    "[i for i,x in enumerate([1,2,3,2]) if x==2]\n",
    "# this gives the index in orderedcplx.vertlist of the vert with ordered index of 2\n",
    "[i for i,x in enumerate(orderedcplx.vertlist) if x.orderedindex == 2]"
   ]
  },
  {
   "cell_type": "code",
   "execution_count": 12,
   "id": "2fc3581f",
   "metadata": {
    "scrolled": false
   },
   "outputs": [
    {
     "name": "stdout",
     "output_type": "stream",
     "text": [
      "5\n",
      "2\n",
      "1\n",
      "[None None None None None None None]\n"
     ]
    }
   ],
   "source": [
    "columns = np.empty(len(orderedcplx.vertlist), dtype = cl.simplex)\n",
    "for j in range(0,3):\n",
    "    [print(i) for i,x in enumerate(orderedcplx.vertlist) if x.orderedindex == j]\n",
    "#     columns[i] = x\n",
    "    \n",
    "print(columns)"
   ]
  },
  {
   "cell_type": "code",
   "execution_count": 24,
   "id": "59293611",
   "metadata": {},
   "outputs": [
    {
     "data": {
      "text/plain": [
       "[simplex ind is 5, dim is 0, boundary is [-1], ord ind is 0, and column val is -1.,\n",
       " simplex ind is 2, dim is 0, boundary is [-1], ord ind is 1, and column val is -1.,\n",
       " simplex ind is 1, dim is 0, boundary is [-1], ord ind is 2, and column val is -1.,\n",
       " simplex ind is 1, dim is 1, boundary is [1, 2], ord ind is 2, and column val is -1.,\n",
       " simplex ind is 6, dim is 0, boundary is [-1], ord ind is 3, and column val is -1.,\n",
       " simplex ind is 5, dim is 1, boundary is [5, 6], ord ind is 3, and column val is -1.,\n",
       " simplex ind is 4, dim is 0, boundary is [-1], ord ind is 4, and column val is -1.,\n",
       " simplex ind is 4, dim is 1, boundary is [4, 5], ord ind is 4, and column val is -1.,\n",
       " simplex ind is 3, dim is 0, boundary is [-1], ord ind is 5, and column val is -1.,\n",
       " simplex ind is 2, dim is 1, boundary is [2, 3], ord ind is 5, and column val is -1.,\n",
       " simplex ind is 3, dim is 1, boundary is [3, 4], ord ind is 5, and column val is -1.,\n",
       " simplex ind is 0, dim is 0, boundary is [-1], ord ind is 6, and column val is -1.,\n",
       " simplex ind is 0, dim is 1, boundary is [0, 1], ord ind is 6, and column val is -1.,\n",
       " simplex ind is 6, dim is 1, boundary is [6, 0], ord ind is 6, and column val is -1.]"
      ]
     },
     "execution_count": 24,
     "metadata": {},
     "output_type": "execute_result"
    }
   ],
   "source": [
    "all_simplices = orderedcplx.vertlist + orderedcplx.edgelist\n",
    "simplex_key = lambda simplex: (simplex.orderedindex, len(simplex.boundary), simplex.index)\n",
    "all_simplices.sort(key=simplex_key)\n",
    "all_simplices"
   ]
  },
  {
   "cell_type": "markdown",
   "id": "630c6ce9",
   "metadata": {},
   "source": [
    "## build the boundary matrix"
   ]
  },
  {
   "cell_type": "code",
   "execution_count": 13,
   "id": "ce77314d",
   "metadata": {},
   "outputs": [],
   "source": [
    "\n",
    "# NOTE: WE ARE ORDERING OUR MATRIX EMPTY, VERTS, EDGES. \n",
    "# CHECK IF EDGES SHOULD BE MINGLED WITH VERTS BY ORDERING."
   ]
  },
  {
   "cell_type": "code",
   "execution_count": 14,
   "id": "67b420d7",
   "metadata": {},
   "outputs": [
    {
     "data": {
      "text/plain": [
       "array([[0, 0, 0, 0, 0, 0, 0, 0, 0, 0, 0, 0, 0, 0, 0],\n",
       "       [0, 0, 0, 0, 0, 0, 0, 0, 0, 0, 0, 0, 0, 0, 0],\n",
       "       [0, 0, 0, 0, 0, 0, 0, 0, 0, 0, 0, 0, 0, 0, 0],\n",
       "       [0, 0, 0, 0, 0, 0, 0, 0, 0, 0, 0, 0, 0, 0, 0],\n",
       "       [0, 0, 0, 0, 0, 0, 0, 0, 0, 0, 0, 0, 0, 0, 0],\n",
       "       [0, 0, 0, 0, 0, 0, 0, 0, 0, 0, 0, 0, 0, 0, 0],\n",
       "       [0, 0, 0, 0, 0, 0, 0, 0, 0, 0, 0, 0, 0, 0, 0],\n",
       "       [0, 0, 0, 0, 0, 0, 0, 0, 0, 0, 0, 0, 0, 0, 0],\n",
       "       [0, 0, 0, 0, 0, 0, 0, 0, 0, 0, 0, 0, 0, 0, 0],\n",
       "       [0, 0, 0, 0, 0, 0, 0, 0, 0, 0, 0, 0, 0, 0, 0],\n",
       "       [0, 0, 0, 0, 0, 0, 0, 0, 0, 0, 0, 0, 0, 0, 0],\n",
       "       [0, 0, 0, 0, 0, 0, 0, 0, 0, 0, 0, 0, 0, 0, 0],\n",
       "       [0, 0, 0, 0, 0, 0, 0, 0, 0, 0, 0, 0, 0, 0, 0],\n",
       "       [0, 0, 0, 0, 0, 0, 0, 0, 0, 0, 0, 0, 0, 0, 0],\n",
       "       [0, 0, 0, 0, 0, 0, 0, 0, 0, 0, 0, 0, 0, 0, 0]])"
      ]
     },
     "execution_count": 14,
     "metadata": {},
     "output_type": "execute_result"
    }
   ],
   "source": [
    "mat = cl.bdmatrix()\n",
    "mat.initmatrix = np.array([\\\n",
    "[0,1,0,0,0,0,0,0],\\\n",
    "[0,1,1,0,0,0,0,0],\\\n",
    "[0,0,0,1,0,0,0,0],\\\n",
    "[0,0,0,1,1,0,0,0],\\\n",
    "[0,0,0,0,1,1,0,0],\\\n",
    "[0,0,0,0,0,0,1,0],\\\n",
    "[0,0,0,0,0,0,1,1],\\\n",
    "[0,0,0,0,0,0,0,0]])\n",
    "\n",
    "# next we want to make a function that builds a np array from the ordered cplx. \n",
    "# it will be a square matrix, with length nedges + nverts + 1 (because of empty simplex for reduced homology)\n",
    "# NOTE: WE DON'T ALLOW FOR TRIANGLES YET BUT EVENTUALLY SHOULD\n",
    "\n",
    "# simplices in filtration order across top and same order going down\n",
    "# child is going down and parent is across \n",
    "# if child i in parent j, (i,j) row,column gets a 1\n",
    "# for all vert parents: they all get a 1 for empty set and 0 else\n",
    "# all edge parents: add a 1 if self.boundary matches. \n",
    "# NOTE: THIS ONLY WORKS WITH CURRENT .BOUNDARY BEING UPDATED PROPERLY\n",
    "\n",
    "# note from Teresa: we can separate the matrices into one each for verts, edges, triangles, ... not sure if this is better in practice\n",
    "\n",
    "# how do we keep track of indices? \n",
    "# in matrix M0, column i corresponds to simplex with entrance value i \n",
    "# after M is reduced, \n",
    "n = len(orderedcplx.vertlist) + len(orderedcplx.edgelist) + 1\n",
    "orderedmat = np.zeros((n,n), dtype=int)\n",
    "\n",
    "# give all verts columns a 1 at position 0\n",
    "orderedmat\n"
   ]
  },
  {
   "cell_type": "code",
   "execution_count": 15,
   "id": "9ef8bd44",
   "metadata": {},
   "outputs": [
    {
     "name": "stdout",
     "output_type": "stream",
     "text": [
      "columns:  8  rows:  8\n"
     ]
    },
    {
     "data": {
      "text/html": [
       "<style type=\"text/css\">\n",
       "#T_475dd td:hover {\n",
       "  background-color: #ffffb3;\n",
       "}\n",
       "#T_475dd_row0_col0, #T_475dd_row0_col2, #T_475dd_row0_col3, #T_475dd_row0_col4, #T_475dd_row0_col5, #T_475dd_row0_col6, #T_475dd_row0_col7, #T_475dd_row1_col0, #T_475dd_row1_col3, #T_475dd_row1_col4, #T_475dd_row1_col5, #T_475dd_row1_col6, #T_475dd_row1_col7, #T_475dd_row2_col0, #T_475dd_row2_col1, #T_475dd_row2_col2, #T_475dd_row2_col4, #T_475dd_row2_col5, #T_475dd_row2_col6, #T_475dd_row2_col7, #T_475dd_row3_col0, #T_475dd_row3_col1, #T_475dd_row3_col2, #T_475dd_row3_col5, #T_475dd_row3_col6, #T_475dd_row3_col7, #T_475dd_row4_col0, #T_475dd_row4_col1, #T_475dd_row4_col2, #T_475dd_row4_col3, #T_475dd_row4_col6, #T_475dd_row4_col7, #T_475dd_row5_col0, #T_475dd_row5_col1, #T_475dd_row5_col2, #T_475dd_row5_col3, #T_475dd_row5_col4, #T_475dd_row5_col5, #T_475dd_row5_col7, #T_475dd_row6_col0, #T_475dd_row6_col1, #T_475dd_row6_col2, #T_475dd_row6_col3, #T_475dd_row6_col4, #T_475dd_row6_col5, #T_475dd_row7_col0, #T_475dd_row7_col1, #T_475dd_row7_col2, #T_475dd_row7_col3, #T_475dd_row7_col4, #T_475dd_row7_col5, #T_475dd_row7_col6, #T_475dd_row7_col7 {\n",
       "  background-color: ;\n",
       "}\n",
       "#T_475dd_row0_col1, #T_475dd_row1_col1, #T_475dd_row1_col2, #T_475dd_row2_col3, #T_475dd_row3_col3, #T_475dd_row3_col4, #T_475dd_row4_col4, #T_475dd_row4_col5, #T_475dd_row5_col6, #T_475dd_row6_col6, #T_475dd_row6_col7 {\n",
       "  background-color: #FFC6c4;\n",
       "}\n",
       "</style>\n",
       "<table id=\"T_475dd\" style='display:inline'>\n",
       "  <caption>Initial matrix</caption>\n",
       "  <thead>\n",
       "    <tr>\n",
       "      <th class=\"blank level0\" >&nbsp;</th>\n",
       "      <th id=\"T_475dd_level0_col0\" class=\"col_heading level0 col0\" >0</th>\n",
       "      <th id=\"T_475dd_level0_col1\" class=\"col_heading level0 col1\" >1</th>\n",
       "      <th id=\"T_475dd_level0_col2\" class=\"col_heading level0 col2\" >2</th>\n",
       "      <th id=\"T_475dd_level0_col3\" class=\"col_heading level0 col3\" >3</th>\n",
       "      <th id=\"T_475dd_level0_col4\" class=\"col_heading level0 col4\" >4</th>\n",
       "      <th id=\"T_475dd_level0_col5\" class=\"col_heading level0 col5\" >5</th>\n",
       "      <th id=\"T_475dd_level0_col6\" class=\"col_heading level0 col6\" >6</th>\n",
       "      <th id=\"T_475dd_level0_col7\" class=\"col_heading level0 col7\" >7</th>\n",
       "    </tr>\n",
       "  </thead>\n",
       "  <tbody>\n",
       "    <tr>\n",
       "      <th id=\"T_475dd_level0_row0\" class=\"row_heading level0 row0\" >0</th>\n",
       "      <td id=\"T_475dd_row0_col0\" class=\"data row0 col0\" >0</td>\n",
       "      <td id=\"T_475dd_row0_col1\" class=\"data row0 col1\" >1</td>\n",
       "      <td id=\"T_475dd_row0_col2\" class=\"data row0 col2\" >0</td>\n",
       "      <td id=\"T_475dd_row0_col3\" class=\"data row0 col3\" >0</td>\n",
       "      <td id=\"T_475dd_row0_col4\" class=\"data row0 col4\" >0</td>\n",
       "      <td id=\"T_475dd_row0_col5\" class=\"data row0 col5\" >0</td>\n",
       "      <td id=\"T_475dd_row0_col6\" class=\"data row0 col6\" >0</td>\n",
       "      <td id=\"T_475dd_row0_col7\" class=\"data row0 col7\" >0</td>\n",
       "    </tr>\n",
       "    <tr>\n",
       "      <th id=\"T_475dd_level0_row1\" class=\"row_heading level0 row1\" >1</th>\n",
       "      <td id=\"T_475dd_row1_col0\" class=\"data row1 col0\" >0</td>\n",
       "      <td id=\"T_475dd_row1_col1\" class=\"data row1 col1\" >1</td>\n",
       "      <td id=\"T_475dd_row1_col2\" class=\"data row1 col2\" >1</td>\n",
       "      <td id=\"T_475dd_row1_col3\" class=\"data row1 col3\" >0</td>\n",
       "      <td id=\"T_475dd_row1_col4\" class=\"data row1 col4\" >0</td>\n",
       "      <td id=\"T_475dd_row1_col5\" class=\"data row1 col5\" >0</td>\n",
       "      <td id=\"T_475dd_row1_col6\" class=\"data row1 col6\" >0</td>\n",
       "      <td id=\"T_475dd_row1_col7\" class=\"data row1 col7\" >0</td>\n",
       "    </tr>\n",
       "    <tr>\n",
       "      <th id=\"T_475dd_level0_row2\" class=\"row_heading level0 row2\" >2</th>\n",
       "      <td id=\"T_475dd_row2_col0\" class=\"data row2 col0\" >0</td>\n",
       "      <td id=\"T_475dd_row2_col1\" class=\"data row2 col1\" >0</td>\n",
       "      <td id=\"T_475dd_row2_col2\" class=\"data row2 col2\" >0</td>\n",
       "      <td id=\"T_475dd_row2_col3\" class=\"data row2 col3\" >1</td>\n",
       "      <td id=\"T_475dd_row2_col4\" class=\"data row2 col4\" >0</td>\n",
       "      <td id=\"T_475dd_row2_col5\" class=\"data row2 col5\" >0</td>\n",
       "      <td id=\"T_475dd_row2_col6\" class=\"data row2 col6\" >0</td>\n",
       "      <td id=\"T_475dd_row2_col7\" class=\"data row2 col7\" >0</td>\n",
       "    </tr>\n",
       "    <tr>\n",
       "      <th id=\"T_475dd_level0_row3\" class=\"row_heading level0 row3\" >3</th>\n",
       "      <td id=\"T_475dd_row3_col0\" class=\"data row3 col0\" >0</td>\n",
       "      <td id=\"T_475dd_row3_col1\" class=\"data row3 col1\" >0</td>\n",
       "      <td id=\"T_475dd_row3_col2\" class=\"data row3 col2\" >0</td>\n",
       "      <td id=\"T_475dd_row3_col3\" class=\"data row3 col3\" >1</td>\n",
       "      <td id=\"T_475dd_row3_col4\" class=\"data row3 col4\" >1</td>\n",
       "      <td id=\"T_475dd_row3_col5\" class=\"data row3 col5\" >0</td>\n",
       "      <td id=\"T_475dd_row3_col6\" class=\"data row3 col6\" >0</td>\n",
       "      <td id=\"T_475dd_row3_col7\" class=\"data row3 col7\" >0</td>\n",
       "    </tr>\n",
       "    <tr>\n",
       "      <th id=\"T_475dd_level0_row4\" class=\"row_heading level0 row4\" >4</th>\n",
       "      <td id=\"T_475dd_row4_col0\" class=\"data row4 col0\" >0</td>\n",
       "      <td id=\"T_475dd_row4_col1\" class=\"data row4 col1\" >0</td>\n",
       "      <td id=\"T_475dd_row4_col2\" class=\"data row4 col2\" >0</td>\n",
       "      <td id=\"T_475dd_row4_col3\" class=\"data row4 col3\" >0</td>\n",
       "      <td id=\"T_475dd_row4_col4\" class=\"data row4 col4\" >1</td>\n",
       "      <td id=\"T_475dd_row4_col5\" class=\"data row4 col5\" >1</td>\n",
       "      <td id=\"T_475dd_row4_col6\" class=\"data row4 col6\" >0</td>\n",
       "      <td id=\"T_475dd_row4_col7\" class=\"data row4 col7\" >0</td>\n",
       "    </tr>\n",
       "    <tr>\n",
       "      <th id=\"T_475dd_level0_row5\" class=\"row_heading level0 row5\" >5</th>\n",
       "      <td id=\"T_475dd_row5_col0\" class=\"data row5 col0\" >0</td>\n",
       "      <td id=\"T_475dd_row5_col1\" class=\"data row5 col1\" >0</td>\n",
       "      <td id=\"T_475dd_row5_col2\" class=\"data row5 col2\" >0</td>\n",
       "      <td id=\"T_475dd_row5_col3\" class=\"data row5 col3\" >0</td>\n",
       "      <td id=\"T_475dd_row5_col4\" class=\"data row5 col4\" >0</td>\n",
       "      <td id=\"T_475dd_row5_col5\" class=\"data row5 col5\" >0</td>\n",
       "      <td id=\"T_475dd_row5_col6\" class=\"data row5 col6\" >1</td>\n",
       "      <td id=\"T_475dd_row5_col7\" class=\"data row5 col7\" >0</td>\n",
       "    </tr>\n",
       "    <tr>\n",
       "      <th id=\"T_475dd_level0_row6\" class=\"row_heading level0 row6\" >6</th>\n",
       "      <td id=\"T_475dd_row6_col0\" class=\"data row6 col0\" >0</td>\n",
       "      <td id=\"T_475dd_row6_col1\" class=\"data row6 col1\" >0</td>\n",
       "      <td id=\"T_475dd_row6_col2\" class=\"data row6 col2\" >0</td>\n",
       "      <td id=\"T_475dd_row6_col3\" class=\"data row6 col3\" >0</td>\n",
       "      <td id=\"T_475dd_row6_col4\" class=\"data row6 col4\" >0</td>\n",
       "      <td id=\"T_475dd_row6_col5\" class=\"data row6 col5\" >0</td>\n",
       "      <td id=\"T_475dd_row6_col6\" class=\"data row6 col6\" >1</td>\n",
       "      <td id=\"T_475dd_row6_col7\" class=\"data row6 col7\" >1</td>\n",
       "    </tr>\n",
       "    <tr>\n",
       "      <th id=\"T_475dd_level0_row7\" class=\"row_heading level0 row7\" >7</th>\n",
       "      <td id=\"T_475dd_row7_col0\" class=\"data row7 col0\" >0</td>\n",
       "      <td id=\"T_475dd_row7_col1\" class=\"data row7 col1\" >0</td>\n",
       "      <td id=\"T_475dd_row7_col2\" class=\"data row7 col2\" >0</td>\n",
       "      <td id=\"T_475dd_row7_col3\" class=\"data row7 col3\" >0</td>\n",
       "      <td id=\"T_475dd_row7_col4\" class=\"data row7 col4\" >0</td>\n",
       "      <td id=\"T_475dd_row7_col5\" class=\"data row7 col5\" >0</td>\n",
       "      <td id=\"T_475dd_row7_col6\" class=\"data row7 col6\" >0</td>\n",
       "      <td id=\"T_475dd_row7_col7\" class=\"data row7 col7\" >0</td>\n",
       "    </tr>\n",
       "  </tbody>\n",
       "</table>\n",
       "<style type=\"text/css\">\n",
       "#T_5c62a td:hover {\n",
       "  background-color: #ffffb3;\n",
       "}\n",
       "#T_5c62a_row0_col0, #T_5c62a_row0_col3, #T_5c62a_row0_col4, #T_5c62a_row0_col5, #T_5c62a_row0_col6, #T_5c62a_row0_col7, #T_5c62a_row1_col0, #T_5c62a_row1_col2, #T_5c62a_row1_col3, #T_5c62a_row1_col4, #T_5c62a_row1_col5, #T_5c62a_row1_col6, #T_5c62a_row1_col7, #T_5c62a_row2_col0, #T_5c62a_row2_col1, #T_5c62a_row2_col2, #T_5c62a_row2_col4, #T_5c62a_row2_col5, #T_5c62a_row2_col6, #T_5c62a_row2_col7, #T_5c62a_row3_col0, #T_5c62a_row3_col1, #T_5c62a_row3_col2, #T_5c62a_row3_col5, #T_5c62a_row3_col6, #T_5c62a_row3_col7, #T_5c62a_row4_col0, #T_5c62a_row4_col1, #T_5c62a_row4_col2, #T_5c62a_row4_col3, #T_5c62a_row4_col6, #T_5c62a_row4_col7, #T_5c62a_row5_col0, #T_5c62a_row5_col1, #T_5c62a_row5_col2, #T_5c62a_row5_col3, #T_5c62a_row5_col4, #T_5c62a_row5_col5, #T_5c62a_row5_col7, #T_5c62a_row6_col0, #T_5c62a_row6_col1, #T_5c62a_row6_col2, #T_5c62a_row6_col3, #T_5c62a_row6_col4, #T_5c62a_row6_col5, #T_5c62a_row7_col0, #T_5c62a_row7_col1, #T_5c62a_row7_col2, #T_5c62a_row7_col3, #T_5c62a_row7_col4, #T_5c62a_row7_col5, #T_5c62a_row7_col6, #T_5c62a_row7_col7 {\n",
       "  background-color: ;\n",
       "}\n",
       "#T_5c62a_row0_col1, #T_5c62a_row0_col2, #T_5c62a_row1_col1, #T_5c62a_row2_col3, #T_5c62a_row3_col3, #T_5c62a_row3_col4, #T_5c62a_row4_col4, #T_5c62a_row4_col5, #T_5c62a_row5_col6, #T_5c62a_row6_col6, #T_5c62a_row6_col7 {\n",
       "  background-color: #FFC6c4;\n",
       "}\n",
       "</style>\n",
       "<table id=\"T_5c62a\" style='display:inline'>\n",
       "  <caption>column 1 added to column 2</caption>\n",
       "  <thead>\n",
       "    <tr>\n",
       "      <th class=\"blank level0\" >&nbsp;</th>\n",
       "      <th id=\"T_5c62a_level0_col0\" class=\"col_heading level0 col0\" >0</th>\n",
       "      <th id=\"T_5c62a_level0_col1\" class=\"col_heading level0 col1\" >1</th>\n",
       "      <th id=\"T_5c62a_level0_col2\" class=\"col_heading level0 col2\" >2</th>\n",
       "      <th id=\"T_5c62a_level0_col3\" class=\"col_heading level0 col3\" >3</th>\n",
       "      <th id=\"T_5c62a_level0_col4\" class=\"col_heading level0 col4\" >4</th>\n",
       "      <th id=\"T_5c62a_level0_col5\" class=\"col_heading level0 col5\" >5</th>\n",
       "      <th id=\"T_5c62a_level0_col6\" class=\"col_heading level0 col6\" >6</th>\n",
       "      <th id=\"T_5c62a_level0_col7\" class=\"col_heading level0 col7\" >7</th>\n",
       "    </tr>\n",
       "  </thead>\n",
       "  <tbody>\n",
       "    <tr>\n",
       "      <th id=\"T_5c62a_level0_row0\" class=\"row_heading level0 row0\" >0</th>\n",
       "      <td id=\"T_5c62a_row0_col0\" class=\"data row0 col0\" >0</td>\n",
       "      <td id=\"T_5c62a_row0_col1\" class=\"data row0 col1\" >1</td>\n",
       "      <td id=\"T_5c62a_row0_col2\" class=\"data row0 col2\" >1</td>\n",
       "      <td id=\"T_5c62a_row0_col3\" class=\"data row0 col3\" >0</td>\n",
       "      <td id=\"T_5c62a_row0_col4\" class=\"data row0 col4\" >0</td>\n",
       "      <td id=\"T_5c62a_row0_col5\" class=\"data row0 col5\" >0</td>\n",
       "      <td id=\"T_5c62a_row0_col6\" class=\"data row0 col6\" >0</td>\n",
       "      <td id=\"T_5c62a_row0_col7\" class=\"data row0 col7\" >0</td>\n",
       "    </tr>\n",
       "    <tr>\n",
       "      <th id=\"T_5c62a_level0_row1\" class=\"row_heading level0 row1\" >1</th>\n",
       "      <td id=\"T_5c62a_row1_col0\" class=\"data row1 col0\" >0</td>\n",
       "      <td id=\"T_5c62a_row1_col1\" class=\"data row1 col1\" >1</td>\n",
       "      <td id=\"T_5c62a_row1_col2\" class=\"data row1 col2\" >0</td>\n",
       "      <td id=\"T_5c62a_row1_col3\" class=\"data row1 col3\" >0</td>\n",
       "      <td id=\"T_5c62a_row1_col4\" class=\"data row1 col4\" >0</td>\n",
       "      <td id=\"T_5c62a_row1_col5\" class=\"data row1 col5\" >0</td>\n",
       "      <td id=\"T_5c62a_row1_col6\" class=\"data row1 col6\" >0</td>\n",
       "      <td id=\"T_5c62a_row1_col7\" class=\"data row1 col7\" >0</td>\n",
       "    </tr>\n",
       "    <tr>\n",
       "      <th id=\"T_5c62a_level0_row2\" class=\"row_heading level0 row2\" >2</th>\n",
       "      <td id=\"T_5c62a_row2_col0\" class=\"data row2 col0\" >0</td>\n",
       "      <td id=\"T_5c62a_row2_col1\" class=\"data row2 col1\" >0</td>\n",
       "      <td id=\"T_5c62a_row2_col2\" class=\"data row2 col2\" >0</td>\n",
       "      <td id=\"T_5c62a_row2_col3\" class=\"data row2 col3\" >1</td>\n",
       "      <td id=\"T_5c62a_row2_col4\" class=\"data row2 col4\" >0</td>\n",
       "      <td id=\"T_5c62a_row2_col5\" class=\"data row2 col5\" >0</td>\n",
       "      <td id=\"T_5c62a_row2_col6\" class=\"data row2 col6\" >0</td>\n",
       "      <td id=\"T_5c62a_row2_col7\" class=\"data row2 col7\" >0</td>\n",
       "    </tr>\n",
       "    <tr>\n",
       "      <th id=\"T_5c62a_level0_row3\" class=\"row_heading level0 row3\" >3</th>\n",
       "      <td id=\"T_5c62a_row3_col0\" class=\"data row3 col0\" >0</td>\n",
       "      <td id=\"T_5c62a_row3_col1\" class=\"data row3 col1\" >0</td>\n",
       "      <td id=\"T_5c62a_row3_col2\" class=\"data row3 col2\" >0</td>\n",
       "      <td id=\"T_5c62a_row3_col3\" class=\"data row3 col3\" >1</td>\n",
       "      <td id=\"T_5c62a_row3_col4\" class=\"data row3 col4\" >1</td>\n",
       "      <td id=\"T_5c62a_row3_col5\" class=\"data row3 col5\" >0</td>\n",
       "      <td id=\"T_5c62a_row3_col6\" class=\"data row3 col6\" >0</td>\n",
       "      <td id=\"T_5c62a_row3_col7\" class=\"data row3 col7\" >0</td>\n",
       "    </tr>\n",
       "    <tr>\n",
       "      <th id=\"T_5c62a_level0_row4\" class=\"row_heading level0 row4\" >4</th>\n",
       "      <td id=\"T_5c62a_row4_col0\" class=\"data row4 col0\" >0</td>\n",
       "      <td id=\"T_5c62a_row4_col1\" class=\"data row4 col1\" >0</td>\n",
       "      <td id=\"T_5c62a_row4_col2\" class=\"data row4 col2\" >0</td>\n",
       "      <td id=\"T_5c62a_row4_col3\" class=\"data row4 col3\" >0</td>\n",
       "      <td id=\"T_5c62a_row4_col4\" class=\"data row4 col4\" >1</td>\n",
       "      <td id=\"T_5c62a_row4_col5\" class=\"data row4 col5\" >1</td>\n",
       "      <td id=\"T_5c62a_row4_col6\" class=\"data row4 col6\" >0</td>\n",
       "      <td id=\"T_5c62a_row4_col7\" class=\"data row4 col7\" >0</td>\n",
       "    </tr>\n",
       "    <tr>\n",
       "      <th id=\"T_5c62a_level0_row5\" class=\"row_heading level0 row5\" >5</th>\n",
       "      <td id=\"T_5c62a_row5_col0\" class=\"data row5 col0\" >0</td>\n",
       "      <td id=\"T_5c62a_row5_col1\" class=\"data row5 col1\" >0</td>\n",
       "      <td id=\"T_5c62a_row5_col2\" class=\"data row5 col2\" >0</td>\n",
       "      <td id=\"T_5c62a_row5_col3\" class=\"data row5 col3\" >0</td>\n",
       "      <td id=\"T_5c62a_row5_col4\" class=\"data row5 col4\" >0</td>\n",
       "      <td id=\"T_5c62a_row5_col5\" class=\"data row5 col5\" >0</td>\n",
       "      <td id=\"T_5c62a_row5_col6\" class=\"data row5 col6\" >1</td>\n",
       "      <td id=\"T_5c62a_row5_col7\" class=\"data row5 col7\" >0</td>\n",
       "    </tr>\n",
       "    <tr>\n",
       "      <th id=\"T_5c62a_level0_row6\" class=\"row_heading level0 row6\" >6</th>\n",
       "      <td id=\"T_5c62a_row6_col0\" class=\"data row6 col0\" >0</td>\n",
       "      <td id=\"T_5c62a_row6_col1\" class=\"data row6 col1\" >0</td>\n",
       "      <td id=\"T_5c62a_row6_col2\" class=\"data row6 col2\" >0</td>\n",
       "      <td id=\"T_5c62a_row6_col3\" class=\"data row6 col3\" >0</td>\n",
       "      <td id=\"T_5c62a_row6_col4\" class=\"data row6 col4\" >0</td>\n",
       "      <td id=\"T_5c62a_row6_col5\" class=\"data row6 col5\" >0</td>\n",
       "      <td id=\"T_5c62a_row6_col6\" class=\"data row6 col6\" >1</td>\n",
       "      <td id=\"T_5c62a_row6_col7\" class=\"data row6 col7\" >1</td>\n",
       "    </tr>\n",
       "    <tr>\n",
       "      <th id=\"T_5c62a_level0_row7\" class=\"row_heading level0 row7\" >7</th>\n",
       "      <td id=\"T_5c62a_row7_col0\" class=\"data row7 col0\" >0</td>\n",
       "      <td id=\"T_5c62a_row7_col1\" class=\"data row7 col1\" >0</td>\n",
       "      <td id=\"T_5c62a_row7_col2\" class=\"data row7 col2\" >0</td>\n",
       "      <td id=\"T_5c62a_row7_col3\" class=\"data row7 col3\" >0</td>\n",
       "      <td id=\"T_5c62a_row7_col4\" class=\"data row7 col4\" >0</td>\n",
       "      <td id=\"T_5c62a_row7_col5\" class=\"data row7 col5\" >0</td>\n",
       "      <td id=\"T_5c62a_row7_col6\" class=\"data row7 col6\" >0</td>\n",
       "      <td id=\"T_5c62a_row7_col7\" class=\"data row7 col7\" >0</td>\n",
       "    </tr>\n",
       "  </tbody>\n",
       "</table>\n",
       "<style type=\"text/css\">\n",
       "#T_c6cac td:hover {\n",
       "  background-color: #ffffb3;\n",
       "}\n",
       "#T_c6cac_row0_col0, #T_c6cac_row0_col3, #T_c6cac_row0_col4, #T_c6cac_row0_col5, #T_c6cac_row0_col6, #T_c6cac_row0_col7, #T_c6cac_row1_col0, #T_c6cac_row1_col2, #T_c6cac_row1_col3, #T_c6cac_row1_col4, #T_c6cac_row1_col5, #T_c6cac_row1_col6, #T_c6cac_row1_col7, #T_c6cac_row2_col0, #T_c6cac_row2_col1, #T_c6cac_row2_col2, #T_c6cac_row2_col4, #T_c6cac_row2_col5, #T_c6cac_row2_col6, #T_c6cac_row2_col7, #T_c6cac_row3_col0, #T_c6cac_row3_col1, #T_c6cac_row3_col2, #T_c6cac_row3_col6, #T_c6cac_row3_col7, #T_c6cac_row4_col0, #T_c6cac_row4_col1, #T_c6cac_row4_col2, #T_c6cac_row4_col3, #T_c6cac_row4_col5, #T_c6cac_row4_col6, #T_c6cac_row4_col7, #T_c6cac_row5_col0, #T_c6cac_row5_col1, #T_c6cac_row5_col2, #T_c6cac_row5_col3, #T_c6cac_row5_col4, #T_c6cac_row5_col5, #T_c6cac_row5_col7, #T_c6cac_row6_col0, #T_c6cac_row6_col1, #T_c6cac_row6_col2, #T_c6cac_row6_col3, #T_c6cac_row6_col4, #T_c6cac_row6_col5, #T_c6cac_row7_col0, #T_c6cac_row7_col1, #T_c6cac_row7_col2, #T_c6cac_row7_col3, #T_c6cac_row7_col4, #T_c6cac_row7_col5, #T_c6cac_row7_col6, #T_c6cac_row7_col7 {\n",
       "  background-color: ;\n",
       "}\n",
       "#T_c6cac_row0_col1, #T_c6cac_row0_col2, #T_c6cac_row1_col1, #T_c6cac_row2_col3, #T_c6cac_row3_col3, #T_c6cac_row3_col4, #T_c6cac_row3_col5, #T_c6cac_row4_col4, #T_c6cac_row5_col6, #T_c6cac_row6_col6, #T_c6cac_row6_col7 {\n",
       "  background-color: #FFC6c4;\n",
       "}\n",
       "</style>\n",
       "<table id=\"T_c6cac\" style='display:inline'>\n",
       "  <caption>column 4 added to column 5</caption>\n",
       "  <thead>\n",
       "    <tr>\n",
       "      <th class=\"blank level0\" >&nbsp;</th>\n",
       "      <th id=\"T_c6cac_level0_col0\" class=\"col_heading level0 col0\" >0</th>\n",
       "      <th id=\"T_c6cac_level0_col1\" class=\"col_heading level0 col1\" >1</th>\n",
       "      <th id=\"T_c6cac_level0_col2\" class=\"col_heading level0 col2\" >2</th>\n",
       "      <th id=\"T_c6cac_level0_col3\" class=\"col_heading level0 col3\" >3</th>\n",
       "      <th id=\"T_c6cac_level0_col4\" class=\"col_heading level0 col4\" >4</th>\n",
       "      <th id=\"T_c6cac_level0_col5\" class=\"col_heading level0 col5\" >5</th>\n",
       "      <th id=\"T_c6cac_level0_col6\" class=\"col_heading level0 col6\" >6</th>\n",
       "      <th id=\"T_c6cac_level0_col7\" class=\"col_heading level0 col7\" >7</th>\n",
       "    </tr>\n",
       "  </thead>\n",
       "  <tbody>\n",
       "    <tr>\n",
       "      <th id=\"T_c6cac_level0_row0\" class=\"row_heading level0 row0\" >0</th>\n",
       "      <td id=\"T_c6cac_row0_col0\" class=\"data row0 col0\" >0</td>\n",
       "      <td id=\"T_c6cac_row0_col1\" class=\"data row0 col1\" >1</td>\n",
       "      <td id=\"T_c6cac_row0_col2\" class=\"data row0 col2\" >1</td>\n",
       "      <td id=\"T_c6cac_row0_col3\" class=\"data row0 col3\" >0</td>\n",
       "      <td id=\"T_c6cac_row0_col4\" class=\"data row0 col4\" >0</td>\n",
       "      <td id=\"T_c6cac_row0_col5\" class=\"data row0 col5\" >0</td>\n",
       "      <td id=\"T_c6cac_row0_col6\" class=\"data row0 col6\" >0</td>\n",
       "      <td id=\"T_c6cac_row0_col7\" class=\"data row0 col7\" >0</td>\n",
       "    </tr>\n",
       "    <tr>\n",
       "      <th id=\"T_c6cac_level0_row1\" class=\"row_heading level0 row1\" >1</th>\n",
       "      <td id=\"T_c6cac_row1_col0\" class=\"data row1 col0\" >0</td>\n",
       "      <td id=\"T_c6cac_row1_col1\" class=\"data row1 col1\" >1</td>\n",
       "      <td id=\"T_c6cac_row1_col2\" class=\"data row1 col2\" >0</td>\n",
       "      <td id=\"T_c6cac_row1_col3\" class=\"data row1 col3\" >0</td>\n",
       "      <td id=\"T_c6cac_row1_col4\" class=\"data row1 col4\" >0</td>\n",
       "      <td id=\"T_c6cac_row1_col5\" class=\"data row1 col5\" >0</td>\n",
       "      <td id=\"T_c6cac_row1_col6\" class=\"data row1 col6\" >0</td>\n",
       "      <td id=\"T_c6cac_row1_col7\" class=\"data row1 col7\" >0</td>\n",
       "    </tr>\n",
       "    <tr>\n",
       "      <th id=\"T_c6cac_level0_row2\" class=\"row_heading level0 row2\" >2</th>\n",
       "      <td id=\"T_c6cac_row2_col0\" class=\"data row2 col0\" >0</td>\n",
       "      <td id=\"T_c6cac_row2_col1\" class=\"data row2 col1\" >0</td>\n",
       "      <td id=\"T_c6cac_row2_col2\" class=\"data row2 col2\" >0</td>\n",
       "      <td id=\"T_c6cac_row2_col3\" class=\"data row2 col3\" >1</td>\n",
       "      <td id=\"T_c6cac_row2_col4\" class=\"data row2 col4\" >0</td>\n",
       "      <td id=\"T_c6cac_row2_col5\" class=\"data row2 col5\" >0</td>\n",
       "      <td id=\"T_c6cac_row2_col6\" class=\"data row2 col6\" >0</td>\n",
       "      <td id=\"T_c6cac_row2_col7\" class=\"data row2 col7\" >0</td>\n",
       "    </tr>\n",
       "    <tr>\n",
       "      <th id=\"T_c6cac_level0_row3\" class=\"row_heading level0 row3\" >3</th>\n",
       "      <td id=\"T_c6cac_row3_col0\" class=\"data row3 col0\" >0</td>\n",
       "      <td id=\"T_c6cac_row3_col1\" class=\"data row3 col1\" >0</td>\n",
       "      <td id=\"T_c6cac_row3_col2\" class=\"data row3 col2\" >0</td>\n",
       "      <td id=\"T_c6cac_row3_col3\" class=\"data row3 col3\" >1</td>\n",
       "      <td id=\"T_c6cac_row3_col4\" class=\"data row3 col4\" >1</td>\n",
       "      <td id=\"T_c6cac_row3_col5\" class=\"data row3 col5\" >1</td>\n",
       "      <td id=\"T_c6cac_row3_col6\" class=\"data row3 col6\" >0</td>\n",
       "      <td id=\"T_c6cac_row3_col7\" class=\"data row3 col7\" >0</td>\n",
       "    </tr>\n",
       "    <tr>\n",
       "      <th id=\"T_c6cac_level0_row4\" class=\"row_heading level0 row4\" >4</th>\n",
       "      <td id=\"T_c6cac_row4_col0\" class=\"data row4 col0\" >0</td>\n",
       "      <td id=\"T_c6cac_row4_col1\" class=\"data row4 col1\" >0</td>\n",
       "      <td id=\"T_c6cac_row4_col2\" class=\"data row4 col2\" >0</td>\n",
       "      <td id=\"T_c6cac_row4_col3\" class=\"data row4 col3\" >0</td>\n",
       "      <td id=\"T_c6cac_row4_col4\" class=\"data row4 col4\" >1</td>\n",
       "      <td id=\"T_c6cac_row4_col5\" class=\"data row4 col5\" >0</td>\n",
       "      <td id=\"T_c6cac_row4_col6\" class=\"data row4 col6\" >0</td>\n",
       "      <td id=\"T_c6cac_row4_col7\" class=\"data row4 col7\" >0</td>\n",
       "    </tr>\n",
       "    <tr>\n",
       "      <th id=\"T_c6cac_level0_row5\" class=\"row_heading level0 row5\" >5</th>\n",
       "      <td id=\"T_c6cac_row5_col0\" class=\"data row5 col0\" >0</td>\n",
       "      <td id=\"T_c6cac_row5_col1\" class=\"data row5 col1\" >0</td>\n",
       "      <td id=\"T_c6cac_row5_col2\" class=\"data row5 col2\" >0</td>\n",
       "      <td id=\"T_c6cac_row5_col3\" class=\"data row5 col3\" >0</td>\n",
       "      <td id=\"T_c6cac_row5_col4\" class=\"data row5 col4\" >0</td>\n",
       "      <td id=\"T_c6cac_row5_col5\" class=\"data row5 col5\" >0</td>\n",
       "      <td id=\"T_c6cac_row5_col6\" class=\"data row5 col6\" >1</td>\n",
       "      <td id=\"T_c6cac_row5_col7\" class=\"data row5 col7\" >0</td>\n",
       "    </tr>\n",
       "    <tr>\n",
       "      <th id=\"T_c6cac_level0_row6\" class=\"row_heading level0 row6\" >6</th>\n",
       "      <td id=\"T_c6cac_row6_col0\" class=\"data row6 col0\" >0</td>\n",
       "      <td id=\"T_c6cac_row6_col1\" class=\"data row6 col1\" >0</td>\n",
       "      <td id=\"T_c6cac_row6_col2\" class=\"data row6 col2\" >0</td>\n",
       "      <td id=\"T_c6cac_row6_col3\" class=\"data row6 col3\" >0</td>\n",
       "      <td id=\"T_c6cac_row6_col4\" class=\"data row6 col4\" >0</td>\n",
       "      <td id=\"T_c6cac_row6_col5\" class=\"data row6 col5\" >0</td>\n",
       "      <td id=\"T_c6cac_row6_col6\" class=\"data row6 col6\" >1</td>\n",
       "      <td id=\"T_c6cac_row6_col7\" class=\"data row6 col7\" >1</td>\n",
       "    </tr>\n",
       "    <tr>\n",
       "      <th id=\"T_c6cac_level0_row7\" class=\"row_heading level0 row7\" >7</th>\n",
       "      <td id=\"T_c6cac_row7_col0\" class=\"data row7 col0\" >0</td>\n",
       "      <td id=\"T_c6cac_row7_col1\" class=\"data row7 col1\" >0</td>\n",
       "      <td id=\"T_c6cac_row7_col2\" class=\"data row7 col2\" >0</td>\n",
       "      <td id=\"T_c6cac_row7_col3\" class=\"data row7 col3\" >0</td>\n",
       "      <td id=\"T_c6cac_row7_col4\" class=\"data row7 col4\" >0</td>\n",
       "      <td id=\"T_c6cac_row7_col5\" class=\"data row7 col5\" >0</td>\n",
       "      <td id=\"T_c6cac_row7_col6\" class=\"data row7 col6\" >0</td>\n",
       "      <td id=\"T_c6cac_row7_col7\" class=\"data row7 col7\" >0</td>\n",
       "    </tr>\n",
       "  </tbody>\n",
       "</table>\n",
       "<style type=\"text/css\">\n",
       "#T_5c056 td:hover {\n",
       "  background-color: #ffffb3;\n",
       "}\n",
       "#T_5c056_row0_col0, #T_5c056_row0_col3, #T_5c056_row0_col4, #T_5c056_row0_col5, #T_5c056_row0_col6, #T_5c056_row0_col7, #T_5c056_row1_col0, #T_5c056_row1_col2, #T_5c056_row1_col3, #T_5c056_row1_col4, #T_5c056_row1_col5, #T_5c056_row1_col6, #T_5c056_row1_col7, #T_5c056_row2_col0, #T_5c056_row2_col1, #T_5c056_row2_col2, #T_5c056_row2_col4, #T_5c056_row2_col6, #T_5c056_row2_col7, #T_5c056_row3_col0, #T_5c056_row3_col1, #T_5c056_row3_col2, #T_5c056_row3_col5, #T_5c056_row3_col6, #T_5c056_row3_col7, #T_5c056_row4_col0, #T_5c056_row4_col1, #T_5c056_row4_col2, #T_5c056_row4_col3, #T_5c056_row4_col5, #T_5c056_row4_col6, #T_5c056_row4_col7, #T_5c056_row5_col0, #T_5c056_row5_col1, #T_5c056_row5_col2, #T_5c056_row5_col3, #T_5c056_row5_col4, #T_5c056_row5_col5, #T_5c056_row5_col7, #T_5c056_row6_col0, #T_5c056_row6_col1, #T_5c056_row6_col2, #T_5c056_row6_col3, #T_5c056_row6_col4, #T_5c056_row6_col5, #T_5c056_row7_col0, #T_5c056_row7_col1, #T_5c056_row7_col2, #T_5c056_row7_col3, #T_5c056_row7_col4, #T_5c056_row7_col5, #T_5c056_row7_col6, #T_5c056_row7_col7 {\n",
       "  background-color: ;\n",
       "}\n",
       "#T_5c056_row0_col1, #T_5c056_row0_col2, #T_5c056_row1_col1, #T_5c056_row2_col3, #T_5c056_row2_col5, #T_5c056_row3_col3, #T_5c056_row3_col4, #T_5c056_row4_col4, #T_5c056_row5_col6, #T_5c056_row6_col6, #T_5c056_row6_col7 {\n",
       "  background-color: #FFC6c4;\n",
       "}\n",
       "</style>\n",
       "<table id=\"T_5c056\" style='display:inline'>\n",
       "  <caption>column 3 added to column 5</caption>\n",
       "  <thead>\n",
       "    <tr>\n",
       "      <th class=\"blank level0\" >&nbsp;</th>\n",
       "      <th id=\"T_5c056_level0_col0\" class=\"col_heading level0 col0\" >0</th>\n",
       "      <th id=\"T_5c056_level0_col1\" class=\"col_heading level0 col1\" >1</th>\n",
       "      <th id=\"T_5c056_level0_col2\" class=\"col_heading level0 col2\" >2</th>\n",
       "      <th id=\"T_5c056_level0_col3\" class=\"col_heading level0 col3\" >3</th>\n",
       "      <th id=\"T_5c056_level0_col4\" class=\"col_heading level0 col4\" >4</th>\n",
       "      <th id=\"T_5c056_level0_col5\" class=\"col_heading level0 col5\" >5</th>\n",
       "      <th id=\"T_5c056_level0_col6\" class=\"col_heading level0 col6\" >6</th>\n",
       "      <th id=\"T_5c056_level0_col7\" class=\"col_heading level0 col7\" >7</th>\n",
       "    </tr>\n",
       "  </thead>\n",
       "  <tbody>\n",
       "    <tr>\n",
       "      <th id=\"T_5c056_level0_row0\" class=\"row_heading level0 row0\" >0</th>\n",
       "      <td id=\"T_5c056_row0_col0\" class=\"data row0 col0\" >0</td>\n",
       "      <td id=\"T_5c056_row0_col1\" class=\"data row0 col1\" >1</td>\n",
       "      <td id=\"T_5c056_row0_col2\" class=\"data row0 col2\" >1</td>\n",
       "      <td id=\"T_5c056_row0_col3\" class=\"data row0 col3\" >0</td>\n",
       "      <td id=\"T_5c056_row0_col4\" class=\"data row0 col4\" >0</td>\n",
       "      <td id=\"T_5c056_row0_col5\" class=\"data row0 col5\" >0</td>\n",
       "      <td id=\"T_5c056_row0_col6\" class=\"data row0 col6\" >0</td>\n",
       "      <td id=\"T_5c056_row0_col7\" class=\"data row0 col7\" >0</td>\n",
       "    </tr>\n",
       "    <tr>\n",
       "      <th id=\"T_5c056_level0_row1\" class=\"row_heading level0 row1\" >1</th>\n",
       "      <td id=\"T_5c056_row1_col0\" class=\"data row1 col0\" >0</td>\n",
       "      <td id=\"T_5c056_row1_col1\" class=\"data row1 col1\" >1</td>\n",
       "      <td id=\"T_5c056_row1_col2\" class=\"data row1 col2\" >0</td>\n",
       "      <td id=\"T_5c056_row1_col3\" class=\"data row1 col3\" >0</td>\n",
       "      <td id=\"T_5c056_row1_col4\" class=\"data row1 col4\" >0</td>\n",
       "      <td id=\"T_5c056_row1_col5\" class=\"data row1 col5\" >0</td>\n",
       "      <td id=\"T_5c056_row1_col6\" class=\"data row1 col6\" >0</td>\n",
       "      <td id=\"T_5c056_row1_col7\" class=\"data row1 col7\" >0</td>\n",
       "    </tr>\n",
       "    <tr>\n",
       "      <th id=\"T_5c056_level0_row2\" class=\"row_heading level0 row2\" >2</th>\n",
       "      <td id=\"T_5c056_row2_col0\" class=\"data row2 col0\" >0</td>\n",
       "      <td id=\"T_5c056_row2_col1\" class=\"data row2 col1\" >0</td>\n",
       "      <td id=\"T_5c056_row2_col2\" class=\"data row2 col2\" >0</td>\n",
       "      <td id=\"T_5c056_row2_col3\" class=\"data row2 col3\" >1</td>\n",
       "      <td id=\"T_5c056_row2_col4\" class=\"data row2 col4\" >0</td>\n",
       "      <td id=\"T_5c056_row2_col5\" class=\"data row2 col5\" >1</td>\n",
       "      <td id=\"T_5c056_row2_col6\" class=\"data row2 col6\" >0</td>\n",
       "      <td id=\"T_5c056_row2_col7\" class=\"data row2 col7\" >0</td>\n",
       "    </tr>\n",
       "    <tr>\n",
       "      <th id=\"T_5c056_level0_row3\" class=\"row_heading level0 row3\" >3</th>\n",
       "      <td id=\"T_5c056_row3_col0\" class=\"data row3 col0\" >0</td>\n",
       "      <td id=\"T_5c056_row3_col1\" class=\"data row3 col1\" >0</td>\n",
       "      <td id=\"T_5c056_row3_col2\" class=\"data row3 col2\" >0</td>\n",
       "      <td id=\"T_5c056_row3_col3\" class=\"data row3 col3\" >1</td>\n",
       "      <td id=\"T_5c056_row3_col4\" class=\"data row3 col4\" >1</td>\n",
       "      <td id=\"T_5c056_row3_col5\" class=\"data row3 col5\" >0</td>\n",
       "      <td id=\"T_5c056_row3_col6\" class=\"data row3 col6\" >0</td>\n",
       "      <td id=\"T_5c056_row3_col7\" class=\"data row3 col7\" >0</td>\n",
       "    </tr>\n",
       "    <tr>\n",
       "      <th id=\"T_5c056_level0_row4\" class=\"row_heading level0 row4\" >4</th>\n",
       "      <td id=\"T_5c056_row4_col0\" class=\"data row4 col0\" >0</td>\n",
       "      <td id=\"T_5c056_row4_col1\" class=\"data row4 col1\" >0</td>\n",
       "      <td id=\"T_5c056_row4_col2\" class=\"data row4 col2\" >0</td>\n",
       "      <td id=\"T_5c056_row4_col3\" class=\"data row4 col3\" >0</td>\n",
       "      <td id=\"T_5c056_row4_col4\" class=\"data row4 col4\" >1</td>\n",
       "      <td id=\"T_5c056_row4_col5\" class=\"data row4 col5\" >0</td>\n",
       "      <td id=\"T_5c056_row4_col6\" class=\"data row4 col6\" >0</td>\n",
       "      <td id=\"T_5c056_row4_col7\" class=\"data row4 col7\" >0</td>\n",
       "    </tr>\n",
       "    <tr>\n",
       "      <th id=\"T_5c056_level0_row5\" class=\"row_heading level0 row5\" >5</th>\n",
       "      <td id=\"T_5c056_row5_col0\" class=\"data row5 col0\" >0</td>\n",
       "      <td id=\"T_5c056_row5_col1\" class=\"data row5 col1\" >0</td>\n",
       "      <td id=\"T_5c056_row5_col2\" class=\"data row5 col2\" >0</td>\n",
       "      <td id=\"T_5c056_row5_col3\" class=\"data row5 col3\" >0</td>\n",
       "      <td id=\"T_5c056_row5_col4\" class=\"data row5 col4\" >0</td>\n",
       "      <td id=\"T_5c056_row5_col5\" class=\"data row5 col5\" >0</td>\n",
       "      <td id=\"T_5c056_row5_col6\" class=\"data row5 col6\" >1</td>\n",
       "      <td id=\"T_5c056_row5_col7\" class=\"data row5 col7\" >0</td>\n",
       "    </tr>\n",
       "    <tr>\n",
       "      <th id=\"T_5c056_level0_row6\" class=\"row_heading level0 row6\" >6</th>\n",
       "      <td id=\"T_5c056_row6_col0\" class=\"data row6 col0\" >0</td>\n",
       "      <td id=\"T_5c056_row6_col1\" class=\"data row6 col1\" >0</td>\n",
       "      <td id=\"T_5c056_row6_col2\" class=\"data row6 col2\" >0</td>\n",
       "      <td id=\"T_5c056_row6_col3\" class=\"data row6 col3\" >0</td>\n",
       "      <td id=\"T_5c056_row6_col4\" class=\"data row6 col4\" >0</td>\n",
       "      <td id=\"T_5c056_row6_col5\" class=\"data row6 col5\" >0</td>\n",
       "      <td id=\"T_5c056_row6_col6\" class=\"data row6 col6\" >1</td>\n",
       "      <td id=\"T_5c056_row6_col7\" class=\"data row6 col7\" >1</td>\n",
       "    </tr>\n",
       "    <tr>\n",
       "      <th id=\"T_5c056_level0_row7\" class=\"row_heading level0 row7\" >7</th>\n",
       "      <td id=\"T_5c056_row7_col0\" class=\"data row7 col0\" >0</td>\n",
       "      <td id=\"T_5c056_row7_col1\" class=\"data row7 col1\" >0</td>\n",
       "      <td id=\"T_5c056_row7_col2\" class=\"data row7 col2\" >0</td>\n",
       "      <td id=\"T_5c056_row7_col3\" class=\"data row7 col3\" >0</td>\n",
       "      <td id=\"T_5c056_row7_col4\" class=\"data row7 col4\" >0</td>\n",
       "      <td id=\"T_5c056_row7_col5\" class=\"data row7 col5\" >0</td>\n",
       "      <td id=\"T_5c056_row7_col6\" class=\"data row7 col6\" >0</td>\n",
       "      <td id=\"T_5c056_row7_col7\" class=\"data row7 col7\" >0</td>\n",
       "    </tr>\n",
       "  </tbody>\n",
       "</table>\n",
       "<style type=\"text/css\">\n",
       "#T_b9aa2 td:hover {\n",
       "  background-color: #ffffb3;\n",
       "}\n",
       "#T_b9aa2_row0_col0, #T_b9aa2_row0_col3, #T_b9aa2_row0_col4, #T_b9aa2_row0_col5, #T_b9aa2_row0_col6, #T_b9aa2_row0_col7, #T_b9aa2_row1_col0, #T_b9aa2_row1_col2, #T_b9aa2_row1_col3, #T_b9aa2_row1_col4, #T_b9aa2_row1_col5, #T_b9aa2_row1_col6, #T_b9aa2_row1_col7, #T_b9aa2_row2_col0, #T_b9aa2_row2_col1, #T_b9aa2_row2_col2, #T_b9aa2_row2_col4, #T_b9aa2_row2_col6, #T_b9aa2_row2_col7, #T_b9aa2_row3_col0, #T_b9aa2_row3_col1, #T_b9aa2_row3_col2, #T_b9aa2_row3_col5, #T_b9aa2_row3_col6, #T_b9aa2_row3_col7, #T_b9aa2_row4_col0, #T_b9aa2_row4_col1, #T_b9aa2_row4_col2, #T_b9aa2_row4_col3, #T_b9aa2_row4_col5, #T_b9aa2_row4_col6, #T_b9aa2_row4_col7, #T_b9aa2_row5_col0, #T_b9aa2_row5_col1, #T_b9aa2_row5_col2, #T_b9aa2_row5_col3, #T_b9aa2_row5_col4, #T_b9aa2_row5_col5, #T_b9aa2_row6_col0, #T_b9aa2_row6_col1, #T_b9aa2_row6_col2, #T_b9aa2_row6_col3, #T_b9aa2_row6_col4, #T_b9aa2_row6_col5, #T_b9aa2_row6_col7, #T_b9aa2_row7_col0, #T_b9aa2_row7_col1, #T_b9aa2_row7_col2, #T_b9aa2_row7_col3, #T_b9aa2_row7_col4, #T_b9aa2_row7_col5, #T_b9aa2_row7_col6, #T_b9aa2_row7_col7 {\n",
       "  background-color: ;\n",
       "}\n",
       "#T_b9aa2_row0_col1, #T_b9aa2_row0_col2, #T_b9aa2_row1_col1, #T_b9aa2_row2_col3, #T_b9aa2_row2_col5, #T_b9aa2_row3_col3, #T_b9aa2_row3_col4, #T_b9aa2_row4_col4, #T_b9aa2_row5_col6, #T_b9aa2_row5_col7, #T_b9aa2_row6_col6 {\n",
       "  background-color: #FFC6c4;\n",
       "}\n",
       "</style>\n",
       "<table id=\"T_b9aa2\" style='display:inline'>\n",
       "  <caption>column 6 added to column 7</caption>\n",
       "  <thead>\n",
       "    <tr>\n",
       "      <th class=\"blank level0\" >&nbsp;</th>\n",
       "      <th id=\"T_b9aa2_level0_col0\" class=\"col_heading level0 col0\" >0</th>\n",
       "      <th id=\"T_b9aa2_level0_col1\" class=\"col_heading level0 col1\" >1</th>\n",
       "      <th id=\"T_b9aa2_level0_col2\" class=\"col_heading level0 col2\" >2</th>\n",
       "      <th id=\"T_b9aa2_level0_col3\" class=\"col_heading level0 col3\" >3</th>\n",
       "      <th id=\"T_b9aa2_level0_col4\" class=\"col_heading level0 col4\" >4</th>\n",
       "      <th id=\"T_b9aa2_level0_col5\" class=\"col_heading level0 col5\" >5</th>\n",
       "      <th id=\"T_b9aa2_level0_col6\" class=\"col_heading level0 col6\" >6</th>\n",
       "      <th id=\"T_b9aa2_level0_col7\" class=\"col_heading level0 col7\" >7</th>\n",
       "    </tr>\n",
       "  </thead>\n",
       "  <tbody>\n",
       "    <tr>\n",
       "      <th id=\"T_b9aa2_level0_row0\" class=\"row_heading level0 row0\" >0</th>\n",
       "      <td id=\"T_b9aa2_row0_col0\" class=\"data row0 col0\" >0</td>\n",
       "      <td id=\"T_b9aa2_row0_col1\" class=\"data row0 col1\" >1</td>\n",
       "      <td id=\"T_b9aa2_row0_col2\" class=\"data row0 col2\" >1</td>\n",
       "      <td id=\"T_b9aa2_row0_col3\" class=\"data row0 col3\" >0</td>\n",
       "      <td id=\"T_b9aa2_row0_col4\" class=\"data row0 col4\" >0</td>\n",
       "      <td id=\"T_b9aa2_row0_col5\" class=\"data row0 col5\" >0</td>\n",
       "      <td id=\"T_b9aa2_row0_col6\" class=\"data row0 col6\" >0</td>\n",
       "      <td id=\"T_b9aa2_row0_col7\" class=\"data row0 col7\" >0</td>\n",
       "    </tr>\n",
       "    <tr>\n",
       "      <th id=\"T_b9aa2_level0_row1\" class=\"row_heading level0 row1\" >1</th>\n",
       "      <td id=\"T_b9aa2_row1_col0\" class=\"data row1 col0\" >0</td>\n",
       "      <td id=\"T_b9aa2_row1_col1\" class=\"data row1 col1\" >1</td>\n",
       "      <td id=\"T_b9aa2_row1_col2\" class=\"data row1 col2\" >0</td>\n",
       "      <td id=\"T_b9aa2_row1_col3\" class=\"data row1 col3\" >0</td>\n",
       "      <td id=\"T_b9aa2_row1_col4\" class=\"data row1 col4\" >0</td>\n",
       "      <td id=\"T_b9aa2_row1_col5\" class=\"data row1 col5\" >0</td>\n",
       "      <td id=\"T_b9aa2_row1_col6\" class=\"data row1 col6\" >0</td>\n",
       "      <td id=\"T_b9aa2_row1_col7\" class=\"data row1 col7\" >0</td>\n",
       "    </tr>\n",
       "    <tr>\n",
       "      <th id=\"T_b9aa2_level0_row2\" class=\"row_heading level0 row2\" >2</th>\n",
       "      <td id=\"T_b9aa2_row2_col0\" class=\"data row2 col0\" >0</td>\n",
       "      <td id=\"T_b9aa2_row2_col1\" class=\"data row2 col1\" >0</td>\n",
       "      <td id=\"T_b9aa2_row2_col2\" class=\"data row2 col2\" >0</td>\n",
       "      <td id=\"T_b9aa2_row2_col3\" class=\"data row2 col3\" >1</td>\n",
       "      <td id=\"T_b9aa2_row2_col4\" class=\"data row2 col4\" >0</td>\n",
       "      <td id=\"T_b9aa2_row2_col5\" class=\"data row2 col5\" >1</td>\n",
       "      <td id=\"T_b9aa2_row2_col6\" class=\"data row2 col6\" >0</td>\n",
       "      <td id=\"T_b9aa2_row2_col7\" class=\"data row2 col7\" >0</td>\n",
       "    </tr>\n",
       "    <tr>\n",
       "      <th id=\"T_b9aa2_level0_row3\" class=\"row_heading level0 row3\" >3</th>\n",
       "      <td id=\"T_b9aa2_row3_col0\" class=\"data row3 col0\" >0</td>\n",
       "      <td id=\"T_b9aa2_row3_col1\" class=\"data row3 col1\" >0</td>\n",
       "      <td id=\"T_b9aa2_row3_col2\" class=\"data row3 col2\" >0</td>\n",
       "      <td id=\"T_b9aa2_row3_col3\" class=\"data row3 col3\" >1</td>\n",
       "      <td id=\"T_b9aa2_row3_col4\" class=\"data row3 col4\" >1</td>\n",
       "      <td id=\"T_b9aa2_row3_col5\" class=\"data row3 col5\" >0</td>\n",
       "      <td id=\"T_b9aa2_row3_col6\" class=\"data row3 col6\" >0</td>\n",
       "      <td id=\"T_b9aa2_row3_col7\" class=\"data row3 col7\" >0</td>\n",
       "    </tr>\n",
       "    <tr>\n",
       "      <th id=\"T_b9aa2_level0_row4\" class=\"row_heading level0 row4\" >4</th>\n",
       "      <td id=\"T_b9aa2_row4_col0\" class=\"data row4 col0\" >0</td>\n",
       "      <td id=\"T_b9aa2_row4_col1\" class=\"data row4 col1\" >0</td>\n",
       "      <td id=\"T_b9aa2_row4_col2\" class=\"data row4 col2\" >0</td>\n",
       "      <td id=\"T_b9aa2_row4_col3\" class=\"data row4 col3\" >0</td>\n",
       "      <td id=\"T_b9aa2_row4_col4\" class=\"data row4 col4\" >1</td>\n",
       "      <td id=\"T_b9aa2_row4_col5\" class=\"data row4 col5\" >0</td>\n",
       "      <td id=\"T_b9aa2_row4_col6\" class=\"data row4 col6\" >0</td>\n",
       "      <td id=\"T_b9aa2_row4_col7\" class=\"data row4 col7\" >0</td>\n",
       "    </tr>\n",
       "    <tr>\n",
       "      <th id=\"T_b9aa2_level0_row5\" class=\"row_heading level0 row5\" >5</th>\n",
       "      <td id=\"T_b9aa2_row5_col0\" class=\"data row5 col0\" >0</td>\n",
       "      <td id=\"T_b9aa2_row5_col1\" class=\"data row5 col1\" >0</td>\n",
       "      <td id=\"T_b9aa2_row5_col2\" class=\"data row5 col2\" >0</td>\n",
       "      <td id=\"T_b9aa2_row5_col3\" class=\"data row5 col3\" >0</td>\n",
       "      <td id=\"T_b9aa2_row5_col4\" class=\"data row5 col4\" >0</td>\n",
       "      <td id=\"T_b9aa2_row5_col5\" class=\"data row5 col5\" >0</td>\n",
       "      <td id=\"T_b9aa2_row5_col6\" class=\"data row5 col6\" >1</td>\n",
       "      <td id=\"T_b9aa2_row5_col7\" class=\"data row5 col7\" >1</td>\n",
       "    </tr>\n",
       "    <tr>\n",
       "      <th id=\"T_b9aa2_level0_row6\" class=\"row_heading level0 row6\" >6</th>\n",
       "      <td id=\"T_b9aa2_row6_col0\" class=\"data row6 col0\" >0</td>\n",
       "      <td id=\"T_b9aa2_row6_col1\" class=\"data row6 col1\" >0</td>\n",
       "      <td id=\"T_b9aa2_row6_col2\" class=\"data row6 col2\" >0</td>\n",
       "      <td id=\"T_b9aa2_row6_col3\" class=\"data row6 col3\" >0</td>\n",
       "      <td id=\"T_b9aa2_row6_col4\" class=\"data row6 col4\" >0</td>\n",
       "      <td id=\"T_b9aa2_row6_col5\" class=\"data row6 col5\" >0</td>\n",
       "      <td id=\"T_b9aa2_row6_col6\" class=\"data row6 col6\" >1</td>\n",
       "      <td id=\"T_b9aa2_row6_col7\" class=\"data row6 col7\" >0</td>\n",
       "    </tr>\n",
       "    <tr>\n",
       "      <th id=\"T_b9aa2_level0_row7\" class=\"row_heading level0 row7\" >7</th>\n",
       "      <td id=\"T_b9aa2_row7_col0\" class=\"data row7 col0\" >0</td>\n",
       "      <td id=\"T_b9aa2_row7_col1\" class=\"data row7 col1\" >0</td>\n",
       "      <td id=\"T_b9aa2_row7_col2\" class=\"data row7 col2\" >0</td>\n",
       "      <td id=\"T_b9aa2_row7_col3\" class=\"data row7 col3\" >0</td>\n",
       "      <td id=\"T_b9aa2_row7_col4\" class=\"data row7 col4\" >0</td>\n",
       "      <td id=\"T_b9aa2_row7_col5\" class=\"data row7 col5\" >0</td>\n",
       "      <td id=\"T_b9aa2_row7_col6\" class=\"data row7 col6\" >0</td>\n",
       "      <td id=\"T_b9aa2_row7_col7\" class=\"data row7 col7\" >0</td>\n",
       "    </tr>\n",
       "  </tbody>\n",
       "</table>\n"
      ]
     },
     "metadata": {},
     "output_type": "display_data"
    },
    {
     "data": {
      "text/plain": [
       "array([[0, 1, 1, 0, 0, 0, 0, 0],\n",
       "       [0, 1, 0, 0, 0, 0, 0, 0],\n",
       "       [0, 0, 0, 1, 0, 1, 0, 0],\n",
       "       [0, 0, 0, 1, 1, 0, 0, 0],\n",
       "       [0, 0, 0, 0, 1, 0, 0, 0],\n",
       "       [0, 0, 0, 0, 0, 0, 1, 1],\n",
       "       [0, 0, 0, 0, 0, 0, 1, 0],\n",
       "       [0, 0, 0, 0, 0, 0, 0, 0]])"
      ]
     },
     "execution_count": 15,
     "metadata": {},
     "output_type": "execute_result"
    }
   ],
   "source": [
    "mat.reduce()"
   ]
  },
  {
   "cell_type": "markdown",
   "id": "b18855f2",
   "metadata": {},
   "source": [
    "## next: use ordering obtained sorting via distance func to make matrix"
   ]
  },
  {
   "cell_type": "markdown",
   "id": "a968bcf2",
   "metadata": {},
   "source": [
    "# misc"
   ]
  },
  {
   "cell_type": "code",
   "execution_count": 16,
   "id": "f6f343d5",
   "metadata": {},
   "outputs": [
    {
     "data": {
      "text/plain": [
       "[0, 3, 6, 9, 12]"
      ]
     },
     "execution_count": 16,
     "metadata": {},
     "output_type": "execute_result"
    }
   ],
   "source": [
    "[i*3 for i in range(5)]"
   ]
  },
  {
   "cell_type": "code",
   "execution_count": 17,
   "id": "dd2c580e",
   "metadata": {},
   "outputs": [
    {
     "data": {
      "text/plain": [
       "[0, 3, 6, 9, 12]"
      ]
     },
     "execution_count": 17,
     "metadata": {},
     "output_type": "execute_result"
    }
   ],
   "source": [
    "list(i*3 for i in range(5))"
   ]
  },
  {
   "cell_type": "code",
   "execution_count": 18,
   "id": "406cea06",
   "metadata": {},
   "outputs": [
    {
     "data": {
      "text/plain": [
       "[25, 16, 9, 4, 1, 0, 1, 4, 9, 16, 25]"
      ]
     },
     "execution_count": 18,
     "metadata": {},
     "output_type": "execute_result"
    }
   ],
   "source": [
    "[i**2 for i in range(-5,6)]"
   ]
  },
  {
   "cell_type": "code",
   "execution_count": 19,
   "id": "b3668d7d",
   "metadata": {},
   "outputs": [
    {
     "data": {
      "text/plain": [
       "{0, 1, 4, 9, 16, 25}"
      ]
     },
     "execution_count": 19,
     "metadata": {},
     "output_type": "execute_result"
    }
   ],
   "source": [
    "{i**2 for i in range(-5,6)}"
   ]
  },
  {
   "cell_type": "code",
   "execution_count": 20,
   "id": "acdb281e",
   "metadata": {},
   "outputs": [
    {
     "data": {
      "text/plain": [
       "{0: 'first', 1: 'second', 2: 'third'}"
      ]
     },
     "execution_count": 20,
     "metadata": {},
     "output_type": "execute_result"
    }
   ],
   "source": [
    "{ key : value for key, value in enumerate(['first','second','third'])}"
   ]
  },
  {
   "cell_type": "code",
   "execution_count": 21,
   "id": "ac733372",
   "metadata": {
    "scrolled": true
   },
   "outputs": [
    {
     "data": {
      "text/plain": [
       "7"
      ]
     },
     "execution_count": 21,
     "metadata": {},
     "output_type": "execute_result"
    }
   ],
   "source": [
    "(lambda a: a+2)(5)"
   ]
  }
 ],
 "metadata": {
  "kernelspec": {
   "display_name": "Python 3",
   "language": "python",
   "name": "python3"
  },
  "language_info": {
   "codemirror_mode": {
    "name": "ipython",
    "version": 3
   },
   "file_extension": ".py",
   "mimetype": "text/x-python",
   "name": "python",
   "nbconvert_exporter": "python",
   "pygments_lexer": "ipython3",
   "version": "3.9.13"
  }
 },
 "nbformat": 4,
 "nbformat_minor": 5
}
