{
 "cells": [
  {
   "cell_type": "markdown",
   "id": "507c8cf5",
   "metadata": {},
   "source": [
    "# init"
   ]
  },
  {
   "cell_type": "code",
   "execution_count": 1,
   "id": "b9415219",
   "metadata": {},
   "outputs": [],
   "source": [
    "# math stuff\n",
    "import numpy as np\n",
    "# visualization\n",
    "from scipy.spatial import Voronoi, voronoi_plot_2d\n",
    "from scipy.spatial import distance\n",
    "from copy import deepcopy\n",
    "\n",
    "import matplotlib.pyplot as plt\n",
    "%matplotlib inline\n",
    "# sliders\n",
    "from ipywidgets import interactive\n",
    "\n",
    "# for matrix import and display\n",
    "import pandas as pd\n",
    "from IPython.display import display_html \n",
    "\n",
    "# to be able to use python files\n",
    "import sys \n",
    "sys.path.append('pyfiles/')\n",
    "import classes as cl\n",
    "# This reloads external modules every time a cell is run\n",
    "# so we don't have to reboot kernel every time we modify classes.py\n",
    "%load_ext autoreload\n",
    "%autoreload 2\n",
    "import csv #for loading function"
   ]
  },
  {
   "cell_type": "markdown",
   "id": "923a85eb",
   "metadata": {},
   "source": [
    "# input shape"
   ]
  },
  {
   "cell_type": "code",
   "execution_count": 2,
   "id": "34fd6053",
   "metadata": {
    "scrolled": false
   },
   "outputs": [
    {
     "data": {
      "image/png": "[encoded data removed]",
      "text/plain": [
       "<Figure size 1440x1440 with 2 Axes>"
      ]
     },
     "metadata": {
      "needs_background": "light"
     },
     "output_type": "display_data"
    }
   ],
   "source": [
    "points = cl.ellipse_example(numpts = 6)"
   ]
  },
  {
   "cell_type": "markdown",
   "id": "d9328696",
   "metadata": {},
   "source": [
    "# turn points into simplices, add connecting edges, order under dist sq"
   ]
  },
  {
   "cell_type": "code",
   "execution_count": 3,
   "id": "e1e18e7e",
   "metadata": {
    "scrolled": false
   },
   "outputs": [
    {
     "name": "stdout",
     "output_type": "stream",
     "text": [
      "init  number of verts is 6, and number of edges is 0 \n",
      "complexx  number of verts is 6, and number of edges is 6 \n",
      "ordered  number of verts is 0, and number of edges is 0\n",
      "[5.84, 0.62, 28.62, 61.84, 35.65, 7.55]\n"
     ]
    },
    {
     "data": {
      "image/png": "[encoded data removed]",
      "text/plain": [
       "<Figure size 432x288 with 1 Axes>"
      ]
     },
     "metadata": {
      "needs_background": "light"
     },
     "output_type": "display_data"
    },
    {
     "name": "stdout",
     "output_type": "stream",
     "text": [
      "init  number of verts is 6, and number of edges is 0 \n",
      "complexx  number of verts is 6, and number of edges is 6 \n",
      "ordered  number of verts is 6, and number of edges is 6\n"
     ]
    }
   ],
   "source": [
    "init_complex = cl.complex()\n",
    "init_complex.init_verts(points)\n",
    "\n",
    "# I don't remember if the deepcopy were to learn about \n",
    "# python linking things together, or if it served a later purpose\n",
    "complexx = deepcopy(init_complex)\n",
    "complexx.init_edges()\n",
    "# complexx.plot()\n",
    "\n",
    "# I don't remember why we need to deepcopy again. do we really?\n",
    "# I also don't remember why it works to deepcopy an empty cplx\n",
    "# is it getting the data from complexx, or initcomplex??\n",
    "#orderedcplx = deepcopy(cl.complex())\n",
    "orderedcplx = cl.complex()\n",
    "print(\"init \", init_complex, \"\\ncomplexx \", complexx, \"\\nordered \", orderedcplx)\n",
    "\n",
    "\n",
    "# the key point is the one we will take the squared dist from\n",
    "orderedcplx.key_point = (2.8,1)\n",
    "distlist = orderedcplx.find_sq_dist(init_complex)\n",
    "\n",
    "# PERMUTE indices\n",
    "orderedcplx.sort_inds(distlist)\n",
    "# orderedcplx.print_inds()\n",
    "# now, orderedcplx has a correct orderedindex for every vert\n",
    "# edges still need to be indexed based on this ordering\n",
    "\n",
    "# TODO: DECIDE ON RULE FOR THE BOUNDARY: INITIAL INPUT OR ORDERED\n",
    "# we want to put them into the matrix in order but we'll change it later\n",
    "\n",
    "orderedcplx.sort_edges()\n",
    "orderedcplx.plot()\n",
    "\n",
    "print(\"init \", init_complex, \"\\ncomplexx \", complexx, \"\\nordered \", orderedcplx)\n",
    "\n",
    "# print([v.index for v in orderedcplx.vertlist])"
   ]
  },
  {
   "cell_type": "markdown",
   "id": "bd47c09e",
   "metadata": {},
   "source": [
    "## Next we want to build the persistence matrix.\n",
    "this gives a total order on verts and edges, first by function value, and then by dimension, and then by initial index"
   ]
  },
  {
   "cell_type": "code",
   "execution_count": 4,
   "id": "43242ac9",
   "metadata": {},
   "outputs": [],
   "source": [
    "all_simplices = orderedcplx.vertlist + orderedcplx.edgelist\n",
    "simplex_key = lambda simplex: (simplex.orderedindex, len(simplex.boundary), simplex.index)\n",
    "all_simplices.sort(key=simplex_key)\n",
    "\n",
    "for i in range(len(all_simplices)):\n",
    "    all_simplices[i].columnvalue = i + 1"
   ]
  },
  {
   "cell_type": "code",
   "execution_count": 5,
   "id": "242322f7",
   "metadata": {},
   "outputs": [
    {
     "name": "stdout",
     "output_type": "stream",
     "text": [
      "[\n",
      "simplex ind 0, dim 0, bd [-1], ord ind 1, col val 2, \n",
      "simplex ind 1, dim 0, bd [-1], ord ind 0, col val 1, \n",
      "simplex ind 2, dim 0, bd [-1], ord ind 3, col val 6, \n",
      "simplex ind 3, dim 0, bd [-1], ord ind 5, col val 10, \n",
      "simplex ind 4, dim 0, bd [-1], ord ind 4, col val 8, \n",
      "simplex ind 5, dim 0, bd [-1], ord ind 2, col val 4]\n",
      "[\n",
      "simplex ind 0, dim 1, bd [0, 1], ord ind 1, col val 3, \n",
      "simplex ind 1, dim 1, bd [1, 2], ord ind 3, col val 7, \n",
      "simplex ind 2, dim 1, bd [2, 3], ord ind 5, col val 11, \n",
      "simplex ind 3, dim 1, bd [3, 4], ord ind 5, col val 12, \n",
      "simplex ind 4, dim 1, bd [4, 5], ord ind 4, col val 9, \n",
      "simplex ind 5, dim 1, bd [5, 0], ord ind 2, col val 5]\n"
     ]
    }
   ],
   "source": [
    "print(orderedcplx.vertlist)\n",
    "print(orderedcplx.edgelist)"
   ]
  },
  {
   "cell_type": "markdown",
   "id": "630c6ce9",
   "metadata": {},
   "source": [
    "## build the boundary matrix and reduce it"
   ]
  },
  {
   "cell_type": "markdown",
   "id": "d358eb7a",
   "metadata": {},
   "source": [
    "NOTE: Matrix is for reduced homology, so it starts with the empty set in col 0.\n",
    "also to note: we use one big matrix for edges and verts, so they are intermingled.\n",
    "\n",
    "Matrix is a square matrix, with length nedges + nverts + 1 (because of empty simplex for reduced homology)\n",
    "NOTE: WE DON'T ALLOW FOR TRIANGLES YET BUT EVENTUALLY SHOULD\n",
    "\n",
    "simplices in filtration order across top and same order going down\n",
    "child is going down and parent is across \n",
    "if child i in parent j, (i,j) row,column gets a 1\n",
    "for all vert parents: they all get a 1 for empty set and 0 else"
   ]
  },
  {
   "cell_type": "code",
   "execution_count": 6,
   "id": "67b420d7",
   "metadata": {},
   "outputs": [
    {
     "name": "stdout",
     "output_type": "stream",
     "text": [
      "columns:  13  rows:  13\n",
      "Zero Columns:\n",
      "col : [0, 2, 4, 6, 8, 10, 12]\n",
      "dim : [-1, 0, 0, 0, 0, 0, 1]\n",
      "col_index : [-1, 0, 5, 2, 4, 3, 3]\n",
      "\n",
      "Lowest Ones:\n",
      "col : [1, 3, 5, 7, 9, 11]\n",
      "row : [0, 2, 4, 6, 8, 10]\n",
      "dim : [-1, 0, 0, 0, 0, 0]\n",
      "col_index : [1, 0, 5, 1, 4, 2]\n",
      "row_index : [-1, 0, 5, 2, 4, 3]\n",
      "dummy:  0 \n",
      "zero:  0 \n",
      "one: 1\n"
     ]
    }
   ],
   "source": [
    "mat = cl.bdmatrix()\n",
    "mat.make_matrix(orderedcplx)\n",
    "\n",
    "reduced = mat.reduce(display = False)\n",
    "mat.redmatrix = reduced\n",
    "\n",
    "# this adds in a column for reduced homology\n",
    "mat.add_dummy_col()\n",
    "# do smart thing to get rid of all_simplices\n",
    "# maybe keep a list on the complex class?\n",
    "mat.find_lows_zeros(all_simplices)\n",
    "\n",
    "    \n",
    "print(\"Zero Columns:\")\n",
    "for key, value in mat.zerocolumns.items():\n",
    "    print(key, \":\", value)\n",
    "print(\"\\nLowest Ones:\")\n",
    "for key, value in mat.lowestones.items():\n",
    "    print(key, \":\", value)\n",
    "    \n",
    "\n",
    "betti_dummy, betti_zero, betti_one = mat.find_bettis()\n",
    "\n",
    "print(\"dummy: \", betti_dummy, \"\\nzero: \", betti_zero, \"\\none:\" ,betti_one)"
   ]
  },
  {
   "cell_type": "code",
   "execution_count": null,
   "id": "600ed0f6",
   "metadata": {},
   "outputs": [],
   "source": []
  },
  {
   "cell_type": "markdown",
   "id": "a968bcf2",
   "metadata": {},
   "source": [
    "# misc"
   ]
  },
  {
   "cell_type": "markdown",
   "id": "d0cf324c",
   "metadata": {},
   "source": [
    "note\n",
    "\n",
    " if column is repr as set of indices, max yields lowest one\n",
    " max can (maybe) be re-keyed to return max wrt ie radius instead of index\n",
    " max(column, key=...), key as lambda funcion like for enumerate\n",
    "\n",
    " consider redoing matrices? \n",
    " \n",
    " note from Teresa: we can separate the matrices into one each for verts, edges, triangles, \n",
    "... not sure if this is better in practice"
   ]
  },
  {
   "cell_type": "code",
   "execution_count": 7,
   "id": "f6f343d5",
   "metadata": {},
   "outputs": [
    {
     "data": {
      "text/plain": [
       "[0, 3, 6, 9, 12]"
      ]
     },
     "execution_count": 7,
     "metadata": {},
     "output_type": "execute_result"
    }
   ],
   "source": [
    "[i*3 for i in range(5)]"
   ]
  },
  {
   "cell_type": "code",
   "execution_count": 8,
   "id": "b3668d7d",
   "metadata": {},
   "outputs": [
    {
     "data": {
      "text/plain": [
       "{0, 1, 4, 9, 16, 25}"
      ]
     },
     "execution_count": 8,
     "metadata": {},
     "output_type": "execute_result"
    }
   ],
   "source": [
    "{i**2 for i in range(-5,6)}"
   ]
  }
 ],
 "metadata": {
  "kernelspec": {
   "display_name": "Python 3",
   "language": "python",
   "name": "python3"
  },
  "language_info": {
   "codemirror_mode": {
    "name": "ipython",
    "version": 3
   },
   "file_extension": ".py",
   "mimetype": "text/x-python",
   "name": "python",
   "nbconvert_exporter": "python",
   "pygments_lexer": "ipython3",
   "version": "3.9.13"
  }
 },
 "nbformat": 4,
 "nbformat_minor": 5
}
