{
 "cells": [
  {
   "cell_type": "markdown",
   "id": "507c8cf5",
   "metadata": {},
   "source": [
    "# init"
   ]
  },
  {
   "cell_type": "code",
   "execution_count": 1,
   "id": "b9415219",
   "metadata": {},
   "outputs": [],
   "source": [
    "# math stuff\n",
    "import numpy as np\n",
    "# visualization\n",
    "from scipy.spatial import Voronoi, voronoi_plot_2d\n",
    "from scipy.spatial import distance\n",
    "from copy import deepcopy\n",
    "\n",
    "import matplotlib.pyplot as plt\n",
    "%matplotlib inline\n",
    "# sliders\n",
    "from ipywidgets import interactive\n",
    "\n",
    "# to be able to use python files\n",
    "import sys \n",
    "sys.path.append('pyfiles/')\n",
    "import classes as cl\n",
    "# This reloads external modules every time a cell is run\n",
    "# so we don't have to reboot kernel every time we modify classes.py\n",
    "%load_ext autoreload\n",
    "%autoreload 2\n",
    "import csv #for loading function"
   ]
  },
  {
   "cell_type": "markdown",
   "id": "923a85eb",
   "metadata": {},
   "source": [
    "# input shape\n",
    "\n",
    "### parametric eq for ellipse: \n",
    "$F(t) = (x(t), y(t))$, where $x(t) = a*cos(t)$ and $y(t) = b*sin(t)$"
   ]
  },
  {
   "cell_type": "code",
   "execution_count": 2,
   "id": "34fd6053",
   "metadata": {
    "scrolled": false
   },
   "outputs": [
    {
     "data": {
      "image/png": "[encoded data removed]",
      "text/plain": [
       "<Figure size 1440x1440 with 2 Axes>"
      ]
     },
     "metadata": {
      "needs_background": "light"
     },
     "output_type": "display_data"
    }
   ],
   "source": [
    "# parameters for ellipse shape and sampling density\n",
    "a = 5\n",
    "b = 2\n",
    "\n",
    "# c is sampling density: smaller is more dense\n",
    "c = .01\n",
    "c = 1\n",
    "t = np.arange(0.0, 6.28, c/10)\n",
    "fig, (ax1, ax2) = plt.subplots(1,2, sharey = True)\n",
    "x = a*np.cos(t)\n",
    "y = b*np.sin(t)\n",
    "points = np.array(list(zip(x,y)))\n",
    "vor = Voronoi(points)\n",
    "\n",
    "# plot ellipse\n",
    "ax1.set_xlim(-(max(a,b) + 1), (max(a,b) + 1))\n",
    "ax1.set_ylim(-(max(a,b) + 1), (max(a,b) + 1))\n",
    "ax1.set_aspect('equal')\n",
    "ax1.plot(x,y,'o')\n",
    "\n",
    "# plot voronoi stuff\n",
    "ax2.set_xlim(-(max(a,b) + 1), (max(a,b) + 1))\n",
    "ax2.set_ylim(-(max(a,b) + 1), (max(a,b) + 1))\n",
    "ax2.set_aspect('equal')\n",
    "voronoi_plot_2d(vor, ax2, show_vertices=True, line_alpha = 0, show_points = True, point_colors='orange', point_size=10)\n",
    "\n",
    "fig.set_figwidth(20)\n",
    "fig.set_figheight(20)\n",
    "plt.show()"
   ]
  },
  {
   "cell_type": "markdown",
   "id": "d9328696",
   "metadata": {},
   "source": [
    "# turn points into simplices and add connecting edges "
   ]
  },
  {
   "cell_type": "code",
   "execution_count": 3,
   "id": "e1e18e7e",
   "metadata": {
    "scrolled": true
   },
   "outputs": [
    {
     "name": "stdout",
     "output_type": "stream",
     "text": [
      "number of verts is 63, and number of edges is 63\n",
      "number of verts is 63, and number of edges is 0\n"
     ]
    }
   ],
   "source": [
    "init_complex = cl.complex()\n",
    "i = 0\n",
    "# we give the complex vertices\n",
    "for point in points:\n",
    "    temp_simplex = cl.simplex()\n",
    "    temp_simplex.coords = [round(point[0],2), round(point[1],2)]\n",
    "    temp_simplex.index = i\n",
    "    temp_simplex.dim = 0\n",
    "    temp_simplex.boundary = [-1]\n",
    "    i += 1\n",
    "    init_complex.vertlist.append(temp_simplex)\n",
    "    init_complex.nverts += 1\n",
    "\n",
    "\n",
    "complexx = deepcopy(init_complex)\n",
    "\n",
    "# add edges to complexx\n",
    "for i in range(len(init_complex.vertlist)):\n",
    "    temp_edge = cl.simplex()\n",
    "    temp_edge.boundary = [i, (i + 1)%(len(init_complex.vertlist))]\n",
    "    temp_edge.dim = 1\n",
    "    temp_edge.index = i + 1 # maybe this makes no sense\n",
    "    complexx.edgelist.append(temp_edge)\n",
    "    complexx.nedges += 1\n",
    "    i += 1\n",
    "\n",
    "print(complexx)\n",
    "print(init_complex)"
   ]
  },
  {
   "cell_type": "code",
   "execution_count": 4,
   "id": "0b44f513",
   "metadata": {},
   "outputs": [
    {
     "name": "stdout",
     "output_type": "stream",
     "text": [
      "[-1.0, -1.0, -1.0, -1.0, -1.0, -1.0, -1.0, -1.0, -1.0, -1.0, -1.0, -1.0, -1.0, -1.0, -1.0, -1.0, -1.0, -1.0, -1.0, -1.0, -1.0, -1.0, -1.0, -1.0, -1.0, -1.0, -1.0, -1.0, -1.0, -1.0, -1.0, -1.0, -1.0, -1.0, -1.0, -1.0, -1.0, -1.0, -1.0, -1.0, -1.0, -1.0, -1.0, -1.0, -1.0, -1.0, -1.0, -1.0, -1.0, -1.0, -1.0, -1.0, -1.0, -1.0, -1.0, -1.0, -1.0, -1.0, -1.0, -1.0, -1.0, -1.0, -1.0]\n"
     ]
    },
    {
     "data": {
      "image/png": "[encoded data removed]",
      "text/plain": [
       "<Figure size 432x288 with 1 Axes>"
      ]
     },
     "metadata": {
      "needs_background": "light"
     },
     "output_type": "display_data"
    }
   ],
   "source": [
    "complexx.plot()"
   ]
  },
  {
   "cell_type": "markdown",
   "id": "cdaf86e4",
   "metadata": {},
   "source": [
    "# use distance from special point to create ordering on all simplices \n",
    "note: maybe don't start with point on curve"
   ]
  },
  {
   "cell_type": "code",
   "execution_count": 5,
   "id": "fdbb4a36",
   "metadata": {},
   "outputs": [
    {
     "name": "stdout",
     "output_type": "stream",
     "text": [
      "[25.0, 24.84, 24.17, 23.2, 21.86, 20.19, 18.33, 16.26, 14.16, 12.14, 10.11, 8.32, 6.74, 5.52, 4.6, 4.08, 4.02, 4.33, 5.1, 6.2, 7.64, 9.34, 11.27, 13.31, 15.44, 17.52, 19.38, 21.15, 22.63, 23.75, 24.58, 25.01, 24.91, 24.51, 23.59, 22.39, 20.86, 19.1, 17.09, 15.08, 12.97, 10.93, 9.03, 7.35, 5.98, 4.94, 4.27, 4.0, 4.15, 4.71, 5.7, 6.99, 8.61, 10.43, 12.45, 14.52, 16.64, 18.6, 20.49, 22.09, 23.35, 24.34, 24.83]\n"
     ]
    }
   ],
   "source": [
    "#repeating because maybe we can just do this at the same time\n",
    "\n",
    "orderedcplx = deepcopy(cl.complex())\n",
    "# the key point is the one we will take the squared dist from\n",
    "orderedcplx.key_point = init_complex.vertlist[0].coords\n",
    "orderedcplx.key_point = (0,0)\n",
    "distlist = []\n",
    "# find distance-squareds\n",
    "for i in range(len(init_complex.vertlist)):\n",
    "    temp_simplex = init_complex.vertlist[i]\n",
    "    dist = distance.euclidean(orderedcplx.key_point, temp_simplex.coords)\n",
    "    distsq = round(dist*dist,2)\n",
    "    temp_simplex.radialdist = distsq\n",
    "    distlist.append(distsq)\n",
    "    # reset the index\n",
    "#     temp_simplex.index = -1\n",
    "    temp_simplex.index = i\n",
    "    orderedcplx.vertlist.append(temp_simplex)\n",
    "    orderedcplx.nverts += 1\n",
    "    i += 1\n",
    "# orderedcplx.vertlist\n",
    "print(distlist)\n",
    "# at this point, orderedcplx has the verts, and they each have .radialdist as their di"
   ]
  },
  {
   "cell_type": "code",
   "execution_count": 6,
   "id": "9cb05405",
   "metadata": {
    "scrolled": true
   },
   "outputs": [
    {
     "name": "stdout",
     "output_type": "stream",
     "text": [
      "63  indices\n",
      "orig  0  new:  61\n",
      "orig  1  new:  59\n",
      "orig  2  new:  54\n",
      "orig  3  new:  50\n",
      "orig  4  new:  46\n",
      "orig  5  new:  42\n",
      "orig  6  new:  38\n",
      "orig  7  new:  34\n",
      "orig  8  new:  30\n",
      "orig  9  new:  26\n",
      "orig  10  new:  22\n",
      "orig  11  new:  18\n",
      "orig  12  new:  14\n",
      "orig  13  new:  10\n",
      "orig  14  new:  6\n",
      "orig  15  new:  2\n",
      "orig  16  new:  1\n",
      "orig  17  new:  5\n",
      "orig  18  new:  9\n",
      "orig  19  new:  13\n",
      "orig  20  new:  17\n",
      "orig  21  new:  21\n",
      "orig  22  new:  25\n",
      "orig  23  new:  29\n",
      "orig  24  new:  33\n",
      "orig  25  new:  37\n",
      "orig  26  new:  41\n",
      "orig  27  new:  45\n",
      "orig  28  new:  49\n",
      "orig  29  new:  53\n",
      "orig  30  new:  57\n",
      "orig  31  new:  62\n",
      "orig  32  new:  60\n",
      "orig  33  new:  56\n",
      "orig  34  new:  52\n",
      "orig  35  new:  48\n",
      "orig  36  new:  44\n",
      "orig  37  new:  40\n",
      "orig  38  new:  36\n",
      "orig  39  new:  32\n",
      "orig  40  new:  28\n",
      "orig  41  new:  24\n",
      "orig  42  new:  20\n",
      "orig  43  new:  16\n",
      "orig  44  new:  12\n",
      "orig  45  new:  8\n",
      "orig  46  new:  4\n",
      "orig  47  new:  0\n",
      "orig  48  new:  3\n",
      "orig  49  new:  7\n",
      "orig  50  new:  11\n",
      "orig  51  new:  15\n",
      "orig  52  new:  19\n",
      "orig  53  new:  23\n",
      "orig  54  new:  27\n",
      "orig  55  new:  31\n",
      "orig  56  new:  35\n",
      "orig  57  new:  39\n",
      "orig  58  new:  43\n",
      "orig  59  new:  47\n",
      "orig  60  new:  51\n",
      "orig  61  new:  55\n",
      "orig  62  new:  58\n"
     ]
    }
   ],
   "source": [
    "# sorts by distlist[ind] but in case of tie, ind breaks tie\n",
    "# \"\" sorts by radius, but then uses input index to consistently break ties\n",
    "\n",
    "# I think we have to make a new list here\n",
    "old_indices = []\n",
    "for i in range(len(orderedcplx.vertlist)):\n",
    "    old_indices.append(orderedcplx.vertlist[i].index)\n",
    "    \n",
    "for new_i, i in enumerate(sorted(old_indices, key = lambda ind: (distlist[ind], ind))):\n",
    "    orderedcplx.vertlist[i].orderedindex = new_i\n",
    "    \n",
    "orderedcplx.print_inds()\n"
   ]
  },
  {
   "cell_type": "markdown",
   "id": "b37efd9b",
   "metadata": {},
   "source": [
    "# sort the verts"
   ]
  },
  {
   "cell_type": "code",
   "execution_count": 7,
   "id": "3e08f991",
   "metadata": {},
   "outputs": [],
   "source": [
    "# # not actual code\n",
    "# for new_i, i in enumerate(thatlist):\n",
    "#     simplex[i].orderedindex = new_i\n",
    "    \n",
    "# # still not actual code\n",
    "# for new_i, i in enumerate(sorted(orig, key= lambda ind: distlist[ind])):\n",
    "#     simplex[i].orderedindex = new_i\n",
    "\n",
    "# # still still not actual code\n",
    "# sorts by distlist[ind] but in case of tie, ind breaks tie\n",
    "# \"\" sorts by radius, but then uses input index to consistently break ties\n",
    "# for new_i, i in enumerate(sorted(orig, key= lambda ind: (distlist[ind], ind))):\n",
    "#     simplex[i].orderedindex = new_i\n",
    "\n",
    "# if column is repr as set of indices, max yields lowest one\n",
    "# max can (maybe) be re-keyed to return max wrt ie radius instead of index\n",
    "# max(column, key=...), key as lambda funcion like for enumerate\n"
   ]
  },
  {
   "cell_type": "code",
   "execution_count": 8,
   "id": "57d08f0a",
   "metadata": {},
   "outputs": [],
   "source": [
    "# sorted(orig, key= lambda ind: distlist[ind])"
   ]
  },
  {
   "cell_type": "code",
   "execution_count": 9,
   "id": "2d600d3d",
   "metadata": {
    "scrolled": true
   },
   "outputs": [
    {
     "name": "stdout",
     "output_type": "stream",
     "text": [
      "[25.0, 24.84, 24.17, 23.2, 21.86, 20.19, 18.33, 16.26, 14.16, 12.14, 10.11, 8.32, 6.74, 5.52, 4.6, 4.08, 4.02, 4.33, 5.1, 6.2, 7.64, 9.34, 11.27, 13.31, 15.44, 17.52, 19.38, 21.15, 22.63, 23.75, 24.58, 25.01, 24.91, 24.51, 23.59, 22.39, 20.86, 19.1, 17.09, 15.08, 12.97, 10.93, 9.03, 7.35, 5.98, 4.94, 4.27, 4.0, 4.15, 4.71, 5.7, 6.99, 8.61, 10.43, 12.45, 14.52, 16.64, 18.6, 20.49, 22.09, 23.35, 24.34, 24.83]\n"
     ]
    },
    {
     "data": {
      "image/png": "[encoded data removed]",
      "text/plain": [
       "<Figure size 432x288 with 1 Axes>"
      ]
     },
     "metadata": {
      "needs_background": "light"
     },
     "output_type": "display_data"
    }
   ],
   "source": [
    "# add unordered edges\n",
    "# add edges to complexx\n",
    "for i in range(len(orderedcplx.vertlist)):\n",
    "    temp_edge = cl.simplex()\n",
    "    temp_edge.boundary = [i, (i + 1)%(len(init_complex.vertlist))]\n",
    "    temp_edge.dim = 1\n",
    "    temp_edge.index = i + 1 # maybe this makes no sense\n",
    "    orderedcplx.edgelist.append(temp_edge)\n",
    "    orderedcplx.nedges += 1\n",
    "    i += 1\n",
    "orderedcplx.plot()\n",
    "# print([v.index for v in orderedcplx.vertlist])"
   ]
  },
  {
   "cell_type": "markdown",
   "id": "b18855f2",
   "metadata": {},
   "source": [
    "## next: use ordering obtained sorting via distance func to make matrix"
   ]
  },
  {
   "cell_type": "markdown",
   "id": "bf6c3c46",
   "metadata": {},
   "source": [
    "## note to self: at this point, edges are not entered in new ordered complex"
   ]
  },
  {
   "cell_type": "markdown",
   "id": "a968bcf2",
   "metadata": {},
   "source": [
    "# misc"
   ]
  },
  {
   "cell_type": "code",
   "execution_count": 10,
   "id": "f6f343d5",
   "metadata": {},
   "outputs": [
    {
     "data": {
      "text/plain": [
       "[0, 3, 6, 9, 12]"
      ]
     },
     "execution_count": 10,
     "metadata": {},
     "output_type": "execute_result"
    }
   ],
   "source": [
    "[i*3 for i in range(5)]"
   ]
  },
  {
   "cell_type": "code",
   "execution_count": 11,
   "id": "dd2c580e",
   "metadata": {},
   "outputs": [
    {
     "data": {
      "text/plain": [
       "[0, 3, 6, 9, 12]"
      ]
     },
     "execution_count": 11,
     "metadata": {},
     "output_type": "execute_result"
    }
   ],
   "source": [
    "list(i*3 for i in range(5))"
   ]
  },
  {
   "cell_type": "code",
   "execution_count": 12,
   "id": "406cea06",
   "metadata": {},
   "outputs": [
    {
     "data": {
      "text/plain": [
       "[25, 16, 9, 4, 1, 0, 1, 4, 9, 16, 25]"
      ]
     },
     "execution_count": 12,
     "metadata": {},
     "output_type": "execute_result"
    }
   ],
   "source": [
    "[i**2 for i in range(-5,6)]"
   ]
  },
  {
   "cell_type": "code",
   "execution_count": 13,
   "id": "b3668d7d",
   "metadata": {},
   "outputs": [
    {
     "data": {
      "text/plain": [
       "{0, 1, 4, 9, 16, 25}"
      ]
     },
     "execution_count": 13,
     "metadata": {},
     "output_type": "execute_result"
    }
   ],
   "source": [
    "{i**2 for i in range(-5,6)}"
   ]
  },
  {
   "cell_type": "code",
   "execution_count": 14,
   "id": "acdb281e",
   "metadata": {},
   "outputs": [
    {
     "data": {
      "text/plain": [
       "{0: 'first', 1: 'second', 2: 'third'}"
      ]
     },
     "execution_count": 14,
     "metadata": {},
     "output_type": "execute_result"
    }
   ],
   "source": [
    "{ key : value for key, value in enumerate(['first','second','third'])}"
   ]
  },
  {
   "cell_type": "code",
   "execution_count": 15,
   "id": "ac733372",
   "metadata": {
    "scrolled": true
   },
   "outputs": [
    {
     "data": {
      "text/plain": [
       "7"
      ]
     },
     "execution_count": 15,
     "metadata": {},
     "output_type": "execute_result"
    }
   ],
   "source": [
    "(lambda a: a+2)(5)"
   ]
  }
 ],
 "metadata": {
  "kernelspec": {
   "display_name": "Python 3",
   "language": "python",
   "name": "python3"
  },
  "language_info": {
   "codemirror_mode": {
    "name": "ipython",
    "version": 3
   },
   "file_extension": ".py",
   "mimetype": "text/x-python",
   "name": "python",
   "nbconvert_exporter": "python",
   "pygments_lexer": "ipython3",
   "version": "3.9.13"
  }
 },
 "nbformat": 4,
 "nbformat_minor": 5
}
