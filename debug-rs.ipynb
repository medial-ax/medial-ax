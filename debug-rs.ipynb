{
 "cells": [
  {
   "cell_type": "code",
   "execution_count": 1,
   "metadata": {},
   "outputs": [
    {
     "name": "stdout",
     "output_type": "stream",
     "text": [
      "env: RUST_BACKTRACE=1\n"
     ]
    }
   ],
   "source": [
    "from pyfiles import (parametrics as par,\n",
    "    complex as cplx,\n",
    "    matrix as mat,\n",
    "    vineyard as vin,\n",
    "    input as inp,\n",
    "    plot as ourplot,\n",
    "    grid as grid,\n",
    "    utils as utils,\n",
    "    examples as ex,\n",
    "    sneaky_matrix as sneaky\n",
    ")\n",
    "from pyfiles.examples import CameraOpt\n",
    "\n",
    "# so we don't have to reboot kernel every time we modify classes.py\n",
    "%load_ext autoreload\n",
    "%autoreload 2\n",
    "%env RUST_BACKTRACE=1\n",
    "\n",
    "import numpy as np\n",
    "from copy import deepcopy\n",
    "\n",
    "from typing import *\n",
    "\n",
    "import matplotlib.pyplot as plt\n",
    "%matplotlib inline\n",
    "\n",
    "import mars"
   ]
  },
  {
   "cell_type": "code",
   "execution_count": 4,
   "metadata": {},
   "outputs": [
    {
     "name": "stdout",
     "output_type": "stream",
     "text": [
      "other_order\n",
      "[0, 1, 4, 5, 6, 8, 9, 11, 2, 7, 3, 10]\n",
      "[simplex ∅ bd [], simplex v0 bd [-1], simplex v1 bd [-1], simplex v3 bd [-1], simplex e0 bd [0, 1], simplex e3 bd [1, 3], simplex e4 bd [3, 0], simplex t1 bd [0, 3, 4], simplex v2 bd [-1], simplex e1 bd [1, 2], simplex e2 bd [2, 0], simplex t0 bd [0, 1, 2]]\n",
      "Python swaps\n",
      "#swaps = 1\n",
      "e2-e1\n",
      "Distances in compute_permutations: (key_point=[0.3, 0.3, 0.3])\n",
      "[FloatOrd(0.6699999999999999), FloatOrd(0.6699999999999999), FloatOrd(1.0699999999999998), FloatOrd(0.6699999999999999)]\n",
      "[FloatOrd(0.6699999999999999), FloatOrd(1.0699999999999998), FloatOrd(1.0699999999999998), FloatOrd(0.6699999999999999), FloatOrd(0.6699999999999999)]\n",
      "[FloatOrd(1.0699999999999998), FloatOrd(0.6699999999999999)]\n",
      "\n",
      "Rust swaps\n",
      "#swaps = 2\n",
      "e3-e4   e0-e4\n"
     ]
    },
    {
     "name": "stderr",
     "output_type": "stream",
     "text": [
      "[src/lib.rs:308] &vine_ordering0 = Permutation {\n",
      "    forwards: [\n",
      "        0,\n",
      "        3,\n",
      "        1,\n",
      "        2,\n",
      "    ],\n",
      "    backwards: [\n",
      "        0,\n",
      "        2,\n",
      "        3,\n",
      "        1,\n",
      "    ],\n",
      "}\n",
      "[src/lib.rs:309] &vine_ordering1 = Permutation {\n",
      "    forwards: [\n",
      "        4,\n",
      "        0,\n",
      "        3,\n",
      "        1,\n",
      "        2,\n",
      "    ],\n",
      "    backwards: [\n",
      "        1,\n",
      "        3,\n",
      "        4,\n",
      "        2,\n",
      "        0,\n",
      "    ],\n",
      "}\n",
      "[src/lib.rs:310] &vine_ordering2 = Permutation {\n",
      "    forwards: [\n",
      "        1,\n",
      "        0,\n",
      "    ],\n",
      "    backwards: [\n",
      "        1,\n",
      "        0,\n",
      "    ],\n",
      "}\n"
     ]
    },
    {
     "name": "stdout",
     "output_type": "stream",
     "text": [
      "Distances in compute_permutations: (key_point=[0.6, 0.3, 0.3])\n",
      "[FloatOrd(0.33999999999999997), FloatOrd(0.9399999999999998), FloatOrd(0.7399999999999999), FloatOrd(0.94)]\n",
      "[FloatOrd(0.9399999999999998), FloatOrd(0.9399999999999998), FloatOrd(0.7399999999999999), FloatOrd(0.94), FloatOrd(0.94)]\n",
      "[FloatOrd(0.9399999999999998), FloatOrd(0.94)]\n",
      "vineyards_123\n"
     ]
    }
   ],
   "source": [
    "filename = 'input/hinge.obj'\n",
    "\n",
    "class vineyard2(vin.vineyard):\n",
    "  def __init__(self, *args, **kwargs):\n",
    "    super().__init__(*args, **kwargs)\n",
    "    self.swaps = []\n",
    "\n",
    "  def get_point_key(self, point: np.ndarray):\n",
    "    return None\n",
    "  \n",
    "  def prune(self, s1: cplx.simplex, s2: cplx.simplex, old_state, new_state):\n",
    "    if s1.dim() == s2.dim():\n",
    "      self.swaps.append((s1, s2, old_state, new_state))\n",
    "    return True\n",
    "\n",
    "p0 = [0.3, 0.3, 0.3]\n",
    "p1 = [0.6, 0.3, 0.3]\n",
    "\n",
    "\n",
    "py_complex = inp.read_obj(filename)\n",
    "py_vineyard = vineyard2(py_complex)\n",
    "py_state0 = py_vineyard.reduce(p0)\n",
    "py_state1 = py_vineyard.reduce_vine(py_state0, p1)\n",
    "\n",
    "print('Python swaps')\n",
    "print(f'#swaps = {len(py_vineyard.swaps)}')\n",
    "print('   '.join([f'{a.prettyrepr()}-{b.prettyrepr()}' for (a, b, _, _) in py_vineyard.swaps]))\n",
    "\n",
    "\n",
    "rs_complex = mars.read_from_obj(filename)\n",
    "rs_state0 = mars.reduce_from_scratch(rs_complex, p0)\n",
    "swaps = mars.vineyards_123(rs_complex, rs_state0, p1)\n",
    "\n",
    "sdict = {0: 'v', 1: 'e', 2: 'f'}\n",
    "print()\n",
    "print('Rust swaps') \n",
    "print(f'#swaps = {len(swaps)}')\n",
    "print('   '.join([f'{sdict[dim]}{a}-{sdict[dim]}{b}' for (dim, (a, b)) in swaps]))\n"
   ]
  },
  {
   "cell_type": "code",
   "execution_count": 3,
   "metadata": {},
   "outputs": [
    {
     "name": "stdout",
     "output_type": "stream",
     "text": [
      "e(0; bnd=[0, 1])\n",
      "e(1; bnd=[1, 2])\n"
     ]
    }
   ],
   "source": [
    "print(rs_complex.simplices_per_dim[1][0])\n",
    "print(rs_complex.simplices_per_dim[1][1])\n",
    "\n",
    "# e0 = [0, 1]\n",
    "# e1 = [1, 2]\n",
    "\n",
    "# first point:\n",
    "# v0 0.669999\n",
    "# v1 0.669999\n",
    "# v2 1.069999\n",
    "# v3 0.669999\n",
    "\n",
    "# e0 = 0.6699\n",
    "# e1 = 1.0699\n",
    "\n",
    "# second point:\n",
    "# v0 0.429999\n",
    "# v1 0.83\n",
    "# v2 0.83\n",
    "# v3 0.829999\n",
    "\n",
    "# e0 = 0.83\n",
    "# e1 = 0.83"
   ]
  },
  {
   "cell_type": "code",
   "execution_count": null,
   "metadata": {},
   "outputs": [],
   "source": []
  },
  {
   "cell_type": "code",
   "execution_count": null,
   "metadata": {},
   "outputs": [],
   "source": []
  }
 ],
 "metadata": {
  "kernelspec": {
   "display_name": "venv",
   "language": "python",
   "name": "python3"
  },
  "language_info": {
   "codemirror_mode": {
    "name": "ipython",
    "version": 3
   },
   "file_extension": ".py",
   "mimetype": "text/x-python",
   "name": "python",
   "nbconvert_exporter": "python",
   "pygments_lexer": "ipython3",
   "version": "3.10.12"
  }
 },
 "nbformat": 4,
 "nbformat_minor": 2
}
