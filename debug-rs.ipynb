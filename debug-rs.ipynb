{
 "cells": [
  {
   "cell_type": "code",
   "execution_count": 2,
   "metadata": {},
   "outputs": [
    {
     "name": "stdout",
     "output_type": "stream",
     "text": [
      "env: RUST_BACKTRACE=1\n"
     ]
    }
   ],
   "source": [
    "from pyfiles import (parametrics as par,\n",
    "    complex as cplx,\n",
    "    matrix as mat,\n",
    "    vineyard as vin,\n",
    "    input as inp,\n",
    "    plot as ourplot,\n",
    "    grid as grid,\n",
    "    utils as utils,\n",
    "    examples as ex,\n",
    "    sneaky_matrix as sneaky\n",
    ")\n",
    "from pyfiles.examples import CameraOpt\n",
    "\n",
    "# so we don't have to reboot kernel every time we modify classes.py\n",
    "%load_ext autoreload\n",
    "%autoreload 2\n",
    "%env RUST_BACKTRACE=1\n",
    "\n",
    "import numpy as np\n",
    "from copy import deepcopy\n",
    "\n",
    "from typing import *\n",
    "\n",
    "import matplotlib.pyplot as plt\n",
    "%matplotlib inline\n",
    "\n",
    "import mars"
   ]
  },
  {
   "cell_type": "code",
   "execution_count": 3,
   "metadata": {},
   "outputs": [
    {
     "name": "stdout",
     "output_type": "stream",
     "text": [
      "Python swaps\n",
      "#swaps = 1\n",
      "e2-e1\n",
      "\n",
      "Rust swaps\n",
      "#swaps = 2\n",
      "e3-e4   e1-e3\n"
     ]
    }
   ],
   "source": [
    "filename = 'input/hinge.obj'\n",
    "\n",
    "class vineyard2(vin.vineyard):\n",
    "  def __init__(self, *args, **kwargs):\n",
    "    super().__init__(*args, **kwargs)\n",
    "    self.swaps = []\n",
    "\n",
    "  def get_point_key(self, point: np.ndarray):\n",
    "    return None\n",
    "  \n",
    "  def prune(self, s1: cplx.simplex, s2: cplx.simplex, old_state, new_state):\n",
    "    if s1.dim() == s2.dim():\n",
    "      self.swaps.append((s1, s2, old_state, new_state))\n",
    "    return True\n",
    "\n",
    "p0 = [0.3, 0.3, 0.3]\n",
    "p1 = [0.6, 0.3, 0.3]\n",
    "\n",
    "\n",
    "py_complex = inp.read_obj(filename)\n",
    "py_vineyard = vineyard2(py_complex)\n",
    "py_state0 = py_vineyard.reduce(p0)\n",
    "py_state1 = py_vineyard.reduce_vine(py_state0, p1)\n",
    "\n",
    "print('Python swaps')\n",
    "print(f'#swaps = {len(py_vineyard.swaps)}')\n",
    "print('   '.join([f'{a.prettyrepr()}-{b.prettyrepr()}' for (a, b, _, _) in py_vineyard.swaps]))\n",
    "\n",
    "\n",
    "rs_complex = mars.read_from_obj(filename)\n",
    "rs_state0 = mars.reduce_from_scratch(rs_complex, p0)\n",
    "(rs_state1, swaps) = mars.vineyards_123(rs_complex, rs_state0, p1)\n",
    "\n",
    "sdict = {0: 'v', 1: 'e', 2: 'f'}\n",
    "print()\n",
    "print('Rust swaps') \n",
    "print(f'#swaps = {len(swaps)}')\n",
    "print('   '.join([f'{sdict[dim]}{a}-{sdict[dim]}{b}' for (dim, (a, b)) in swaps]))\n"
   ]
  },
  {
   "cell_type": "code",
   "execution_count": 4,
   "metadata": {},
   "outputs": [
    {
     "name": "stdout",
     "output_type": "stream",
     "text": [
      "\n",
      "Reduce from scratch [0.8, 0.55, 0]\n",
      "\n",
      "vineyards to  [0.8, 0.45, 0]\n",
      "\n",
      "vineyards to  [0.8, 0.35, 0]\n",
      "\n"
     ]
    }
   ],
   "source": [
    "cplx = mars.read_from_obj('input/three-points.obj')\n",
    "\n",
    "pt0 = [0.8, 0.55, 0]\n",
    "pt1 = [0.8, 0.45, 0]\n",
    "pt2 = [0.8, 0.35, 0]\n",
    "\n",
    "state0 = mars.reduce_from_scratch(cplx, pt1)\n",
    "(state1, swaps) = mars.vineyards_123(cplx, state0, pt2)\n",
    "assert len(swaps) == 0\n",
    "\n",
    "##############################################################\n",
    "import sys\n",
    "\n",
    "sys.stdout.flush()\n",
    "print()\n",
    "print('Reduce from scratch', pt0)\n",
    "state0 = mars.reduce_from_scratch(cplx, pt0)\n",
    "sys.stdout.flush()\n",
    "print()\n",
    "\n",
    "print('vineyards to ', pt1)\n",
    "(state1, swaps1) = mars.vineyards_123(cplx, state0, pt1)\n",
    "sys.stdout.flush()\n",
    "assert len(swaps1) > 0, 'should have swaps'\n",
    "print()\n",
    "\n",
    "print('vineyards to ', pt2)\n",
    "(state2, swaps2) = mars.vineyards_123(cplx, state1, pt2)\n",
    "sys.stdout.flush()\n",
    "assert len(swaps2) == 0, 'should not have swaps'\n",
    "print()"
   ]
  },
  {
   "cell_type": "code",
   "execution_count": 5,
   "metadata": {},
   "outputs": [
    {
     "name": "stdout",
     "output_type": "stream",
     "text": [
      "|×  |\n",
      "|×× |\n",
      "|×××|\n",
      "\n",
      "|×  |\n",
      "|×× |\n",
      "|× ×|\n",
      "\n"
     ]
    }
   ],
   "source": [
    "print(str(state1.stacks[0].U_t))\n",
    "\n",
    "s1 = mars.reduce_from_scratch(cplx, pt1)\n",
    "print(str(s1.stacks[0].U_t))"
   ]
  },
  {
   "cell_type": "code",
   "execution_count": null,
   "metadata": {},
   "outputs": [],
   "source": []
  }
 ],
 "metadata": {
  "kernelspec": {
   "display_name": "venv",
   "language": "python",
   "name": "python3"
  },
  "language_info": {
   "codemirror_mode": {
    "name": "ipython",
    "version": 3
   },
   "file_extension": ".py",
   "mimetype": "text/x-python",
   "name": "python",
   "nbconvert_exporter": "python",
   "pygments_lexer": "ipython3",
   "version": "3.10.12"
  }
 },
 "nbformat": 4,
 "nbformat_minor": 2
}
