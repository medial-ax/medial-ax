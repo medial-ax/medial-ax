{
 "cells": [
  {
   "cell_type": "code",
   "execution_count": 1,
   "metadata": {},
   "outputs": [
    {
     "name": "stdout",
     "output_type": "stream",
     "text": [
      "env: RUST_BACKTRACE=1\n"
     ]
    }
   ],
   "source": [
    "from pyfiles import (parametrics as par,\n",
    "    complex as cplx,\n",
    "    matrix as mat,\n",
    "    vineyard as vin,\n",
    "    input as inp,\n",
    "    plot as ourplot,\n",
    "    grid as grid,\n",
    "    utils as utils,\n",
    "    examples as ex,\n",
    "    sneaky_matrix as sneaky\n",
    ")\n",
    "from pyfiles.examples import CameraOpt\n",
    "\n",
    "# so we don't have to reboot kernel every time we modify classes.py\n",
    "%load_ext autoreload\n",
    "%autoreload 2\n",
    "%env RUST_BACKTRACE=1\n",
    "\n",
    "import numpy as np\n",
    "from copy import deepcopy\n",
    "\n",
    "from typing import *\n",
    "\n",
    "import matplotlib.pyplot as plt\n",
    "%matplotlib inline\n",
    "\n",
    "import mars"
   ]
  },
  {
   "cell_type": "code",
   "execution_count": 4,
   "metadata": {},
   "outputs": [
    {
     "name": "stdout",
     "output_type": "stream",
     "text": [
      "other_order\n",
      "[0, 1, 4, 5, 6, 8, 9, 11, 2, 7, 3, 10]\n",
      "[simplex ∅ bd [], simplex v0 bd [-1], simplex v1 bd [-1], simplex v3 bd [-1], simplex e0 bd [0, 1], simplex e3 bd [1, 3], simplex e4 bd [3, 0], simplex t1 bd [0, 3, 4], simplex v2 bd [-1], simplex e1 bd [1, 2], simplex e2 bd [2, 0], simplex t0 bd [0, 1, 2]]\n",
      "Python swaps\n",
      "#swaps = 1\n",
      "e2-e1\n",
      "Distances in compute_permutations: (key_point=[0.3, 0.3, 0.3])\n",
      "[FloatOrd(0.6699999999999999), FloatOrd(0.6699999999999999), FloatOrd(1.0699999999999998), FloatOrd(0.6699999999999999)]\n",
      "[FloatOrd(0.6699999999999999), FloatOrd(1.0699999999999998), FloatOrd(1.0699999999999998), FloatOrd(0.6699999999999999), FloatOrd(0.6699999999999999)]\n",
      "[FloatOrd(1.0699999999999998), FloatOrd(0.6699999999999999)]\n",
      "\n",
      "Rust swaps\n",
      "#swaps = 2\n",
      "e3-e4   e0-e4\n",
      "Distances in compute_permutations: (key_point=[0.6, 0.3, 0.3])\n",
      "[FloatOrd(0.33999999999999997), FloatOrd(0.9399999999999998), FloatOrd(0.7399999999999999), FloatOrd(0.94)]\n",
      "[FloatOrd(0.9399999999999998), FloatOrd(0.9399999999999998), FloatOrd(0.7399999999999999), FloatOrd(0.94), FloatOrd(0.94)]\n",
      "[FloatOrd(0.9399999999999998), FloatOrd(0.94)]\n"
     ]
    }
   ],
   "source": [
    "filename = 'input/hinge.obj'\n",
    "\n",
    "class vineyard2(vin.vineyard):\n",
    "  def __init__(self, *args, **kwargs):\n",
    "    super().__init__(*args, **kwargs)\n",
    "    self.swaps = []\n",
    "\n",
    "  def get_point_key(self, point: np.ndarray):\n",
    "    return None\n",
    "  \n",
    "  def prune(self, s1: cplx.simplex, s2: cplx.simplex, old_state, new_state):\n",
    "    if s1.dim() == s2.dim():\n",
    "      self.swaps.append((s1, s2, old_state, new_state))\n",
    "    return True\n",
    "\n",
    "p0 = [0.3, 0.3, 0.3]\n",
    "p1 = [0.6, 0.3, 0.3]\n",
    "\n",
    "\n",
    "py_complex = inp.read_obj(filename)\n",
    "py_vineyard = vineyard2(py_complex)\n",
    "py_state0 = py_vineyard.reduce(p0)\n",
    "py_state1 = py_vineyard.reduce_vine(py_state0, p1)\n",
    "\n",
    "print('Python swaps')\n",
    "print(f'#swaps = {len(py_vineyard.swaps)}')\n",
    "print('   '.join([f'{a.prettyrepr()}-{b.prettyrepr()}' for (a, b, _, _) in py_vineyard.swaps]))\n",
    "\n",
    "\n",
    "rs_complex = mars.read_from_obj(filename)\n",
    "rs_state0 = mars.reduce_from_scratch(rs_complex, p0)\n",
    "(rs_state1, swaps) = mars.vineyards_123(rs_complex, rs_state0, p1)\n",
    "\n",
    "sdict = {0: 'v', 1: 'e', 2: 'f'}\n",
    "print()\n",
    "print('Rust swaps') \n",
    "print(f'#swaps = {len(swaps)}')\n",
    "print('   '.join([f'{sdict[dim]}{a}-{sdict[dim]}{b}' for (dim, (a, b)) in swaps]))\n"
   ]
  },
  {
   "cell_type": "code",
   "execution_count": 2,
   "metadata": {},
   "outputs": [
    {
     "name": "stdout",
     "output_type": "stream",
     "text": [
      "reduce_from_scratch: stack0.ordering: [0, 1, 2]\n",
      "vineyards: stack0.ordering: [0, 1, 2]\n",
      "vineyards: v_perm: [0, 1, 2]\n",
      "vineyards: vine_ordering0: [0, 1, 2]\n",
      "\n",
      "Reduce from scratch [0.8, 0.55, 0]\n",
      "reduce_from_scratch: stack0.ordering: [1, 0, 2]\n",
      "\n",
      "vineyards to  [0.8, 0.45, 0]\n",
      "vineyards: stack0.ordering: [1, 0, 2]\n",
      "vineyards: v_perm: [0, 1, 2]\n",
      "vineyards: vine_ordering0: [1, 0, 2]\n",
      "\n",
      "vineyards to  [0.8, 0.35, 0]\n",
      "vineyards: stack0.ordering: [0, 1, 2]\n",
      "vineyards: v_perm: [0, 1, 2]\n",
      "vineyards: vine_ordering0: [0, 1, 2]\n",
      "\n"
     ]
    }
   ],
   "source": [
    "cplx = mars.read_from_obj('input/three-points.obj')\n",
    "\n",
    "pt0 = [0.8, 0.55, 0]\n",
    "pt1 = [0.8, 0.45, 0]\n",
    "pt2 = [0.8, 0.35, 0]\n",
    "\n",
    "state0 = mars.reduce_from_scratch(cplx, pt1)\n",
    "(state1, swaps) = mars.vineyards_123(cplx, state0, pt2)\n",
    "assert len(swaps) == 0\n",
    "\n",
    "##############################################################\n",
    "import sys\n",
    "\n",
    "sys.stdout.flush()\n",
    "print()\n",
    "print('Reduce from scratch', pt0)\n",
    "state0 = mars.reduce_from_scratch(cplx, pt0)\n",
    "sys.stdout.flush()\n",
    "print()\n",
    "\n",
    "print('vineyards to ', pt1)\n",
    "(state1, swaps1) = mars.vineyards_123(cplx, state0, pt1)\n",
    "sys.stdout.flush()\n",
    "assert len(swaps1) > 0, 'should have swaps'\n",
    "print()\n",
    "\n",
    "print('vineyards to ', pt2)\n",
    "(state2, swaps2) = mars.vineyards_123(cplx, state1, pt2)\n",
    "sys.stdout.flush()\n",
    "assert len(swaps2) == 0, 'should not have swaps'\n",
    "print()"
   ]
  },
  {
   "cell_type": "code",
   "execution_count": 10,
   "metadata": {},
   "outputs": [
    {
     "name": "stdout",
     "output_type": "stream",
     "text": [
      "|×  |\n",
      "|×× |\n",
      "|×××|\n",
      "\n",
      "|×  |\n",
      "|×× |\n",
      "|× ×|\n",
      "\n"
     ]
    },
    {
     "data": {
      "text/plain": [
       "['__class__',\n",
       " '__delattr__',\n",
       " '__dir__',\n",
       " '__doc__',\n",
       " '__eq__',\n",
       " '__format__',\n",
       " '__ge__',\n",
       " '__getattribute__',\n",
       " '__gt__',\n",
       " '__hash__',\n",
       " '__init__',\n",
       " '__init_subclass__',\n",
       " '__le__',\n",
       " '__lt__',\n",
       " '__module__',\n",
       " '__ne__',\n",
       " '__new__',\n",
       " '__reduce__',\n",
       " '__reduce_ex__',\n",
       " '__repr__',\n",
       " '__setattr__',\n",
       " '__sizeof__',\n",
       " '__str__',\n",
       " '__subclasshook__']"
      ]
     },
     "execution_count": 10,
     "metadata": {},
     "output_type": "execute_result"
    }
   ],
   "source": [
    "print(str(state1.stacks[0].U_t))\n",
    "\n",
    "s1 = mars.reduce_from_scratch(cplx, pt1)\n",
    "print(str(s1.stacks[0].U_t))"
   ]
  },
  {
   "cell_type": "code",
   "execution_count": null,
   "metadata": {},
   "outputs": [],
   "source": []
  }
 ],
 "metadata": {
  "kernelspec": {
   "display_name": "venv",
   "language": "python",
   "name": "python3"
  },
  "language_info": {
   "codemirror_mode": {
    "name": "ipython",
    "version": 3
   },
   "file_extension": ".py",
   "mimetype": "text/x-python",
   "name": "python",
   "nbconvert_exporter": "python",
   "pygments_lexer": "ipython3",
   "version": "3.10.12"
  }
 },
 "nbformat": 4,
 "nbformat_minor": 2
}
