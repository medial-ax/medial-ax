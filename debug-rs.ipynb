{
 "cells": [
  {
   "cell_type": "code",
   "execution_count": 2,
   "metadata": {},
   "outputs": [
    {
     "name": "stdout",
     "output_type": "stream",
     "text": [
      "The autoreload extension is already loaded. To reload it, use:\n",
      "  %reload_ext autoreload\n",
      "env: RUST_BACKTRACE=1\n",
      "[(simplex e8 bd [6, 7], simplex e7 bd [4, 6]), (simplex v2 bd [-1], simplex v0 bd [-1])]\n",
      "[(0, (2, 5)), (1, (2, 14))]\n"
     ]
    }
   ],
   "source": [
    "from pyfiles import (parametrics as par,\n",
    "    complex as cplx,\n",
    "    matrix as mat,\n",
    "    vineyard as vin,\n",
    "    input as inp,\n",
    "    plot as ourplot,\n",
    "    grid as grid,\n",
    "    utils as utils,\n",
    "    examples as ex,\n",
    "    sneaky_matrix as sneaky\n",
    ")\n",
    "from pyfiles.examples import CameraOpt\n",
    "\n",
    "# so we don't have to reboot kernel every time we modify classes.py\n",
    "%load_ext autoreload\n",
    "%autoreload 2\n",
    "%env RUST_BACKTRACE=1\n",
    "\n",
    "import numpy as np\n",
    "from copy import deepcopy\n",
    "\n",
    "from typing import *\n",
    "\n",
    "import matplotlib.pyplot as plt\n",
    "%matplotlib inline\n",
    "\n",
    "import mars\n",
    "\n",
    "filename = 'input/cube.obj'\n",
    "\n",
    "class vineyard2(vin.vineyard):\n",
    "  def __init__(self, *args, **kwargs):\n",
    "    super().__init__(*args, **kwargs)\n",
    "    self.swaps = []\n",
    "\n",
    "  def get_point_key(self, point: np.ndarray):\n",
    "    return None\n",
    "  \n",
    "  def prune(self, s1: cplx.simplex, s2: cplx.simplex, old_state, new_state):\n",
    "    if s1.dim() == s2.dim():\n",
    "      self.swaps.append((s1, s2, old_state, new_state))\n",
    "    return True\n",
    "\n",
    "p0 = [0.0, 0.0, 0.0]\n",
    "p1 = [0.1, 0.0, 0.0]\n",
    "\n",
    "\n",
    "py_complex = inp.read_obj(filename)\n",
    "py_vineyard = vineyard2(py_complex)\n",
    "py_state0 = py_vineyard.reduce(p0)\n",
    "py_state1 = py_vineyard.reduce_vine(py_state0, p1)\n",
    "\n",
    "print([(a, b) for (a, b, _, _) in py_vineyard.swaps])\n",
    "\n",
    "\n",
    "rs_complex = mars.read_from_obj(filename)\n",
    "rs_state0 = mars.reduce_from_scratch(rs_complex, p0)\n",
    "swaps = mars.vineyards_123(rs_complex, rs_state0, p1)\n",
    "print(swaps)\n"
   ]
  },
  {
   "cell_type": "code",
   "execution_count": 8,
   "metadata": {},
   "outputs": [
    {
     "name": "stdout",
     "output_type": "stream",
     "text": [
      "v(2; pos=[1, 1, -1]\n",
      "v(5; pos=[-1, -1, 1]\n",
      "\n",
      "simplex v0 bd [-1] [-1.  1. -1.]\n",
      "simplex v2 bd [-1] [ 1.  1. -1.]\n"
     ]
    }
   ],
   "source": [
    "print(rs_complex.simplices_per_dim[0][2])\n",
    "print(rs_complex.simplices_per_dim[0][5])\n",
    "\n",
    "print()\n",
    "print(py_complex.vertlist[0], py_complex.vertlist[0].coords)\n",
    "print(py_complex.vertlist[2], py_complex.vertlist[2].coords)"
   ]
  },
  {
   "cell_type": "code",
   "execution_count": null,
   "metadata": {},
   "outputs": [],
   "source": []
  }
 ],
 "metadata": {
  "kernelspec": {
   "display_name": "venv",
   "language": "python",
   "name": "python3"
  },
  "language_info": {
   "codemirror_mode": {
    "name": "ipython",
    "version": 3
   },
   "file_extension": ".py",
   "mimetype": "text/x-python",
   "name": "python",
   "nbconvert_exporter": "python",
   "pygments_lexer": "ipython3",
   "version": "3.10.12"
  }
 },
 "nbformat": 4,
 "nbformat_minor": 2
}
