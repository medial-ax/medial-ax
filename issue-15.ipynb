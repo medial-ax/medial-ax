{
 "cells": [
  {
   "cell_type": "markdown",
   "metadata": {},
   "source": [
    "Here's trying to figure out what's going on in #15.\n",
    "\n",
    "FIrst off, permutation matrices.\n",
    "\n",
    "## Permutation Matrices\n",
    "\n",
    "We want to make a matrix $P$ such that $AP$ shuffles around the *columns* of $A$.  Let's make a sample matrix $A$ in which the columns are all of the same number."
   ]
  },
  {
   "cell_type": "code",
   "execution_count": 1,
   "metadata": {},
   "outputs": [
    {
     "name": "stdout",
     "output_type": "stream",
     "text": [
      "A=\n",
      "[[1. 2. 3. 4. 5.]\n",
      " [1. 2. 3. 4. 5.]\n",
      " [1. 2. 3. 4. 5.]\n",
      " [1. 2. 3. 4. 5.]\n",
      " [1. 2. 3. 4. 5.]]\n"
     ]
    }
   ],
   "source": [
    "import numpy as np\n",
    "A = np.zeros((5,5 ))\n",
    "for i in range(5):\n",
    "  A[:, i]  = i + 1\n",
    "print('A=')\n",
    "print(A)"
   ]
  },
  {
   "cell_type": "markdown",
   "metadata": {},
   "source": [
    "Now let's figure out $P$.  If we imagine performing the matrix mulitplication $AP$ we first take the first *row* of $A$, and dot it together with each *column* of $P$. The resulting 5 numbers are the first *row* of $AP$. \n",
    "\n",
    "If you stare at this long enough, you'll see that $P[0, 3]=1$ will mean to insert the `0`th column of $A$ into the `3`rd column of $AP$:"
   ]
  },
  {
   "cell_type": "code",
   "execution_count": 2,
   "metadata": {},
   "outputs": [
    {
     "name": "stdout",
     "output_type": "stream",
     "text": [
      "P=\n",
      "[[0. 0. 0. 1. 0.]\n",
      " [0. 0. 0. 0. 0.]\n",
      " [0. 0. 0. 0. 0.]\n",
      " [0. 0. 0. 0. 0.]\n",
      " [0. 0. 0. 0. 0.]]\n",
      "\n",
      "AP=\n",
      "[[0. 0. 0. 1. 0.]\n",
      " [0. 0. 0. 1. 0.]\n",
      " [0. 0. 0. 1. 0.]\n",
      " [0. 0. 0. 1. 0.]\n",
      " [0. 0. 0. 1. 0.]]\n"
     ]
    }
   ],
   "source": [
    "P = np.zeros((5, 5))\n",
    "P[0, 3] = 1\n",
    "\n",
    "print('P=')\n",
    "print(P)\n",
    "print()\n",
    "print('AP=')\n",
    "print(A @ P)"
   ]
  },
  {
   "cell_type": "markdown",
   "metadata": {},
   "source": [
    "Let's do this again, but reversing all of the columns:"
   ]
  },
  {
   "cell_type": "code",
   "execution_count": 3,
   "metadata": {},
   "outputs": [
    {
     "name": "stdout",
     "output_type": "stream",
     "text": [
      "P=\n",
      "[[0. 0. 0. 0. 1.]\n",
      " [0. 0. 0. 1. 0.]\n",
      " [0. 0. 1. 0. 0.]\n",
      " [0. 1. 0. 0. 0.]\n",
      " [1. 0. 0. 0. 0.]]\n",
      "\n",
      "AP=\n",
      "[[5. 4. 3. 2. 1.]\n",
      " [5. 4. 3. 2. 1.]\n",
      " [5. 4. 3. 2. 1.]\n",
      " [5. 4. 3. 2. 1.]\n",
      " [5. 4. 3. 2. 1.]]\n"
     ]
    }
   ],
   "source": [
    "P = np.zeros((5, 5))\n",
    "P[0, 4] = P[4, 0] = 1\n",
    "P[1, 3] = P[3, 1] = 1\n",
    "P[2, 2] = 1\n",
    "print('P=')\n",
    "print(P)\n",
    "print()\n",
    "print('AP=')\n",
    "print(A @ P)"
   ]
  },
  {
   "cell_type": "markdown",
   "metadata": {},
   "source": [
    "### Swapping Rows\n",
    "Okay, what about swapping rows? Let's first make another test matrix $B$ so that we can look at the rows:"
   ]
  },
  {
   "cell_type": "code",
   "execution_count": 4,
   "metadata": {},
   "outputs": [
    {
     "name": "stdout",
     "output_type": "stream",
     "text": [
      "B=\n",
      "[[1. 1. 1. 1. 1.]\n",
      " [2. 2. 2. 2. 2.]\n",
      " [3. 3. 3. 3. 3.]\n",
      " [4. 4. 4. 4. 4.]\n",
      " [5. 5. 5. 5. 5.]]\n"
     ]
    }
   ],
   "source": [
    "B = np.zeros((5,5 ))\n",
    "for i in range(5):\n",
    "  B[i, :]  = i + 1\n",
    "print('B=')\n",
    "print(B)"
   ]
  },
  {
   "cell_type": "markdown",
   "metadata": {},
   "source": [
    "Now the magic is that $P$ still works to shuffle aorund the things, but we have to multiply it from the other side. $PB$ is $B$ but with all *rows* shuffled."
   ]
  },
  {
   "cell_type": "code",
   "execution_count": 5,
   "metadata": {},
   "outputs": [
    {
     "name": "stdout",
     "output_type": "stream",
     "text": [
      "PB=\n",
      "[[5. 5. 5. 5. 5.]\n",
      " [4. 4. 4. 4. 4.]\n",
      " [3. 3. 3. 3. 3.]\n",
      " [2. 2. 2. 2. 2.]\n",
      " [1. 1. 1. 1. 1.]]\n"
     ]
    }
   ],
   "source": [
    "print(\"PB=\")\n",
    "print(P@B)"
   ]
  },
  {
   "cell_type": "markdown",
   "metadata": {},
   "source": [
    "We can also make another a little more interesting matrix $C$ with all different numbers in it. "
   ]
  },
  {
   "cell_type": "code",
   "execution_count": 6,
   "metadata": {},
   "outputs": [
    {
     "name": "stdout",
     "output_type": "stream",
     "text": [
      "C=\n",
      "[[ 0  1  2  3  4]\n",
      " [ 5  6  7  8  9]\n",
      " [10 11 12 13 14]\n",
      " [15 16 17 18 19]\n",
      " [20 21 22 23 24]]\n"
     ]
    }
   ],
   "source": [
    "C = np.array([i for i in range(25)]).reshape((5, 5))\n",
    "print('C=')\n",
    "print(C)"
   ]
  },
  {
   "cell_type": "markdown",
   "metadata": {},
   "source": [
    "Then we can multiply $P$ on both sides of $C$ to see what happens:"
   ]
  },
  {
   "cell_type": "code",
   "execution_count": 7,
   "metadata": {},
   "outputs": [
    {
     "name": "stdout",
     "output_type": "stream",
     "text": [
      "PCP=\n",
      "[[24. 23. 22. 21. 20.]\n",
      " [19. 18. 17. 16. 15.]\n",
      " [14. 13. 12. 11. 10.]\n",
      " [ 9.  8.  7.  6.  5.]\n",
      " [ 4.  3.  2.  1.  0.]]\n"
     ]
    }
   ],
   "source": [
    "print(\"PCP=\")\n",
    "print(P @ C @ P)"
   ]
  },
  {
   "cell_type": "markdown",
   "metadata": {},
   "source": [
    "We get both reversed rows and columns!\n",
    "\n",
    "## Composing\n",
    "Lastly, let's see what these things look like when we compose them.\n",
    "We'll reuse $Q$ from above, but we'll make two new transposition matrices, one that swaps $[2,3]$ and one that swaps [$1,2]$."
   ]
  },
  {
   "cell_type": "code",
   "execution_count": 8,
   "metadata": {},
   "outputs": [
    {
     "name": "stdout",
     "output_type": "stream",
     "text": [
      "swap_23=\n",
      "[[1. 0. 0. 0. 0.]\n",
      " [0. 1. 0. 0. 0.]\n",
      " [0. 0. 0. 1. 0.]\n",
      " [0. 0. 1. 0. 0.]\n",
      " [0. 0. 0. 0. 1.]]\n",
      "\n",
      "swap_12=\n",
      "[[1. 0. 0. 0. 0.]\n",
      " [0. 0. 1. 0. 0.]\n",
      " [0. 1. 0. 0. 0.]\n",
      " [0. 0. 0. 1. 0.]\n",
      " [0. 0. 0. 0. 1.]]\n"
     ]
    }
   ],
   "source": [
    "swap_23 = np.zeros((5, 5))\n",
    "swap_23[0, 0] = 1\n",
    "swap_23[1, 1] = 1\n",
    "swap_23[3, 2] = swap_23[2, 3] = 1\n",
    "swap_23[4, 4] = 1\n",
    "print('swap_23=')\n",
    "print(swap_23)\n",
    "print()\n",
    "\n",
    "swap_12 = np.zeros((5, 5))\n",
    "swap_12[0, 0] = 1\n",
    "swap_12[1, 2] = swap_12[2, 1] = 1\n",
    "swap_12[3, 3] = 1\n",
    "swap_12[4, 4] = 1\n",
    "print('swap_12=')\n",
    "print(swap_12)"
   ]
  },
  {
   "cell_type": "markdown",
   "metadata": {},
   "source": [
    "Let's first check that the order matters:"
   ]
  },
  {
   "cell_type": "code",
   "execution_count": 9,
   "metadata": {},
   "outputs": [
    {
     "name": "stdout",
     "output_type": "stream",
     "text": [
      "swap_12 * swap_23=\n",
      "[[1. 0. 0. 0. 0.]\n",
      " [0. 0. 0. 1. 0.]\n",
      " [0. 1. 0. 0. 0.]\n",
      " [0. 0. 1. 0. 0.]\n",
      " [0. 0. 0. 0. 1.]]\n",
      "\n",
      "swap_23 * swap_12=\n",
      "[[1. 0. 0. 0. 0.]\n",
      " [0. 0. 1. 0. 0.]\n",
      " [0. 0. 0. 1. 0.]\n",
      " [0. 1. 0. 0. 0.]\n",
      " [0. 0. 0. 0. 1.]]\n"
     ]
    }
   ],
   "source": [
    "print('swap_12 * swap_23=')\n",
    "print(swap_12 @ swap_23)\n",
    "print()\n",
    "print('swap_23 * swap_12=')\n",
    "print(swap_23 @ swap_12)"
   ]
  },
  {
   "cell_type": "markdown",
   "metadata": {},
   "source": [
    "The matrices are different, which makes sense, since swapping (2,3) and then (1,2) is different than swapping (1,2) and then (2,3).\n",
    "\n",
    "Furthermore, we can better understand if we were to use this, by looking at the matrix multiplication:\n",
    "\n",
    "$$ A (S_{12} S_{23}) = (A S_{12}) S_{23} $$\n",
    "\n",
    "I.e, if we mulitply $A$ by the composition of $S_{12}$ and $S_{23}$, we get the same result as if we first multiply $A$ by $S_{12}$ and then multiply the result by $S_{23}$.  This is multiplication from the *right*, so we are swapping *columns*.  The result is that we first swap column 1 and 2, and then swap column 2 and 3."
   ]
  },
  {
   "cell_type": "code",
   "execution_count": 10,
   "metadata": {},
   "outputs": [
    {
     "name": "stdout",
     "output_type": "stream",
     "text": [
      "A=\n",
      "[[1. 2. 3. 4. 5.]\n",
      " [1. 2. 3. 4. 5.]\n",
      " [1. 2. 3. 4. 5.]\n",
      " [1. 2. 3. 4. 5.]\n",
      " [1. 2. 3. 4. 5.]]\n",
      "\n",
      "A swap_12=\n",
      "[[1. 3. 2. 4. 5.]\n",
      " [1. 3. 2. 4. 5.]\n",
      " [1. 3. 2. 4. 5.]\n",
      " [1. 3. 2. 4. 5.]\n",
      " [1. 3. 2. 4. 5.]]\n",
      "\n",
      "A swap_12 swap_23=\n",
      "[[1. 3. 4. 2. 5.]\n",
      " [1. 3. 4. 2. 5.]\n",
      " [1. 3. 4. 2. 5.]\n",
      " [1. 3. 4. 2. 5.]\n",
      " [1. 3. 4. 2. 5.]]\n"
     ]
    }
   ],
   "source": [
    "print('A=')\n",
    "print(A)\n",
    "print()\n",
    "print('A swap_12=')\n",
    "print(A @ swap_12)\n",
    "print()\n",
    "print('A swap_12 swap_23=')\n",
    "print(A @ swap_12 @ swap_23)"
   ]
  }
 ],
 "metadata": {
  "kernelspec": {
   "display_name": "venv",
   "language": "python",
   "name": "python3"
  },
  "language_info": {
   "codemirror_mode": {
    "name": "ipython",
    "version": 3
   },
   "file_extension": ".py",
   "mimetype": "text/x-python",
   "name": "python",
   "nbconvert_exporter": "python",
   "pygments_lexer": "ipython3",
   "version": "3.10.12"
  }
 },
 "nbformat": 4,
 "nbformat_minor": 2
}
