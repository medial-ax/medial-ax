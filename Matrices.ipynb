{
 "cells": [
  {
   "cell_type": "markdown",
   "id": "774b36f7",
   "metadata": {},
   "source": [
    "## init"
   ]
  },
  {
   "cell_type": "code",
   "execution_count": 8,
   "id": "b93b765d",
   "metadata": {},
   "outputs": [
    {
     "name": "stdout",
     "output_type": "stream",
     "text": [
      "The autoreload extension is already loaded. To reload it, use:\n",
      "  %reload_ext autoreload\n"
     ]
    }
   ],
   "source": [
    "import sys \n",
    "sys.path.append('pyfiles/')\n",
    "import classes_loop as cl\n",
    "# so we don't have to reboot kernel every time we modify classes.py\n",
    "%load_ext autoreload\n",
    "%autoreload 2\n",
    "\n",
    "# math stuff\n",
    "import numpy as np\n",
    "# visualization\n",
    "from scipy.spatial import Voronoi, voronoi_plot_2d\n",
    "from scipy.spatial import distance\n",
    "from copy import deepcopy\n",
    "\n",
    "import matplotlib.pyplot as plt\n",
    "%matplotlib inline\n",
    "# sliders\n",
    "from ipywidgets import interactive\n",
    "\n",
    "# for matrix import and display\n",
    "import pandas as pd\n",
    "from IPython.display import display_html \n",
    "import csv \n",
    "import scipy.sparse\n",
    "######## NOTE: from this point on, order is important. \n",
    "# it would be good to make the code more robust, but right\n",
    "# now, there are ordered dependencies between functions.\n",
    "\n",
    "# points = cl.ellipse_example(numpts = 6)\n",
    "# # note: 100 pts causes handling error"
   ]
  },
  {
   "cell_type": "code",
   "execution_count": 36,
   "id": "58ef7b86",
   "metadata": {
    "scrolled": false
   },
   "outputs": [
    {
     "name": "stdout",
     "output_type": "stream",
     "text": [
      "[[0 1 0 0 0 0 0 0]\n",
      " [0 1 1 0 0 0 0 0]\n",
      " [0 0 1 1 0 0 0 0]\n",
      " [0 0 0 1 1 0 0 0]\n",
      " [0 0 0 0 1 1 0 0]\n",
      " [0 0 0 0 0 1 1 0]\n",
      " [0 0 0 0 0 0 1 1]\n",
      " [0 0 0 0 0 0 0 0]]\n"
     ]
    }
   ],
   "source": [
    "mat = cl.bdmatrix()\n",
    "print(mat.initmatrix)\n",
    "\n",
    "# matrix[i][j]\n",
    "# matrix1 +2 matrix2\n",
    "# matrix[i][j] = x"
   ]
  },
  {
   "cell_type": "code",
   "execution_count": 45,
   "id": "582fab89",
   "metadata": {
    "scrolled": true
   },
   "outputs": [
    {
     "name": "stdout",
     "output_type": "stream",
     "text": [
      "1\n"
     ]
    },
    {
     "data": {
      "text/plain": [
       "array([[0, 1, 0, 0, 0, 0, 0, 0],\n",
       "       [0, 1, 1, 0, 0, 0, 0, 0],\n",
       "       [0, 0, 1, 1, 0, 0, 0, 0],\n",
       "       [0, 0, 0, 1, 1, 0, 0, 0],\n",
       "       [0, 0, 0, 0, 1, 1, 0, 0],\n",
       "       [0, 0, 0, 0, 0, 1, 1, 0],\n",
       "       [0, 0, 0, 0, 0, 0, 1, 1],\n",
       "       [0, 0, 0, 0, 0, 0, 0, 0]])"
      ]
     },
     "execution_count": 45,
     "metadata": {},
     "output_type": "execute_result"
    }
   ],
   "source": [
    "sparsemat = scipy.sparse.dia_matrix(mat.initmatrix)\n",
    "print(sparsemat.toarray()[1][1])\n",
    "np.array(sparsemat.toarray())"
   ]
  },
  {
   "cell_type": "code",
   "execution_count": 49,
   "id": "f88868eb",
   "metadata": {},
   "outputs": [
    {
     "data": {
      "text/plain": [
       "array([[0, 4, 0, 0, 0, 0, 0, 0],\n",
       "       [0, 4, 4, 0, 0, 0, 0, 0],\n",
       "       [0, 0, 4, 4, 0, 0, 0, 0],\n",
       "       [0, 0, 0, 4, 4, 0, 0, 0],\n",
       "       [0, 0, 0, 0, 4, 4, 0, 0],\n",
       "       [0, 0, 0, 0, 0, 4, 4, 0],\n",
       "       [0, 0, 0, 0, 0, 0, 4, 4],\n",
       "       [0, 0, 0, 0, 0, 0, 0, 0]])"
      ]
     },
     "execution_count": 49,
     "metadata": {},
     "output_type": "execute_result"
    }
   ],
   "source": [
    "sparsemat = sparsemat + sparsemat\n",
    "sparsemat.toarray()"
   ]
  },
  {
   "cell_type": "markdown",
   "id": "8f103694",
   "metadata": {},
   "source": [
    "1. make 0 matrix from np array\n",
    "2. edit particular positions to 1\n",
    "3. reduce matrix \n",
    "    - +2 addition\n",
    "    - identify lowest ones in col\n",
    "    \n",
    "    \n",
    "dictionary where keys are indices (columns), values are sets of row indices with 1s (so max returns lowest one)"
   ]
  },
  {
   "cell_type": "code",
   "execution_count": 50,
   "id": "1155d27f",
   "metadata": {},
   "outputs": [],
   "source": [
    "d = {\n",
    "    10 : {1,2,3},\n",
    "    11 : {3,4,5},\n",
    "    12 : {1,4,5}\n",
    "}"
   ]
  },
  {
   "cell_type": "code",
   "execution_count": 72,
   "id": "68adf3f4",
   "metadata": {},
   "outputs": [],
   "source": [
    "d[11] |= {6}"
   ]
  },
  {
   "cell_type": "code",
   "execution_count": 70,
   "id": "285612f5",
   "metadata": {},
   "outputs": [
    {
     "ename": "KeyError",
     "evalue": "6",
     "output_type": "error",
     "traceback": [
      "\u001b[0;31m---------------------------------------------------------------------------\u001b[0m",
      "\u001b[0;31mKeyError\u001b[0m                                  Traceback (most recent call last)",
      "Input \u001b[0;32mIn [70]\u001b[0m, in \u001b[0;36m<cell line: 1>\u001b[0;34m()\u001b[0m\n\u001b[0;32m----> 1\u001b[0m \u001b[43md\u001b[49m\u001b[43m[\u001b[49m\u001b[38;5;241;43m11\u001b[39;49m\u001b[43m]\u001b[49m\u001b[38;5;241;43m.\u001b[39;49m\u001b[43mremove\u001b[49m\u001b[43m(\u001b[49m\u001b[38;5;241;43m6\u001b[39;49m\u001b[43m)\u001b[49m\n",
      "\u001b[0;31mKeyError\u001b[0m: 6"
     ]
    }
   ],
   "source": [
    "d[11].remove(6)\n",
    "# screams at you if was already 0"
   ]
  },
  {
   "cell_type": "code",
   "execution_count": 71,
   "id": "12f40707",
   "metadata": {},
   "outputs": [],
   "source": [
    "d[11] -= {6}\n",
    "# doesn't scream at you"
   ]
  },
  {
   "cell_type": "code",
   "execution_count": 65,
   "id": "e046f177",
   "metadata": {},
   "outputs": [
    {
     "data": {
      "text/plain": [
       "{10: {1, 2, 3}, 11: {3, 4, 5}, 12: {1, 4, 5}}"
      ]
     },
     "execution_count": 65,
     "metadata": {},
     "output_type": "execute_result"
    }
   ],
   "source": [
    "d"
   ]
  },
  {
   "cell_type": "code",
   "execution_count": 75,
   "id": "76c42bcf",
   "metadata": {},
   "outputs": [
    {
     "data": {
      "text/plain": [
       "{1, 3}"
      ]
     },
     "execution_count": 75,
     "metadata": {},
     "output_type": "execute_result"
    }
   ],
   "source": [
    "{1,2} ^ {2,3}\n",
    "# symm diff"
   ]
  },
  {
   "cell_type": "markdown",
   "id": "dabccb7d",
   "metadata": {},
   "source": [
    "simple effective time improvements\n",
    "1. \"inverse of low func\" eats row indices and spits out col inds, so you get col that has input row as lowest one; e.g. func(5)=7 menas that the 7th column has the lowest one in the 5th row. this eliminates loop of columns from start to my column. n^4 -> n^3\n",
    "Do just this in what I already have to see speedup\n",
    "Note: you can separately remember birth simplices so you have essential classes at the end\n",
    "\n",
    "2. clearing: work within dimension right to left, but inside a dimension, from top dim to bottom dim. if you find a death col, you automatically found a birth col for free, so you can set brth col to 0s. "
   ]
  },
  {
   "cell_type": "code",
   "execution_count": 76,
   "id": "30cbe366",
   "metadata": {},
   "outputs": [],
   "source": [
    "d = {7 : 5}"
   ]
  },
  {
   "cell_type": "code",
   "execution_count": 83,
   "id": "ab9000c9",
   "metadata": {},
   "outputs": [
    {
     "data": {
      "text/plain": [
       "5"
      ]
     },
     "execution_count": 83,
     "metadata": {},
     "output_type": "execute_result"
    }
   ],
   "source": [
    "# you can tell it what to tell you if not there, ie -1\n",
    "d.get(7, -1)"
   ]
  },
  {
   "cell_type": "markdown",
   "id": "5f16d689",
   "metadata": {},
   "source": [
    "# Timing thingz"
   ]
  },
  {
   "cell_type": "code",
   "execution_count": 90,
   "id": "6097e64d",
   "metadata": {},
   "outputs": [],
   "source": [
    "import time"
   ]
  },
  {
   "cell_type": "code",
   "execution_count": 93,
   "id": "8b676faf",
   "metadata": {},
   "outputs": [
    {
     "name": "stdout",
     "output_type": "stream",
     "text": [
      "It took this much time: 0.044 sec\n"
     ]
    }
   ],
   "source": [
    "start_time = time.perf_counter()\n",
    "for _ in range(1000000):\n",
    "    25**5\n",
    "print(f\"It took this much time: {time.perf_counter() - start_time :.3f} sec\")"
   ]
  },
  {
   "cell_type": "code",
   "execution_count": null,
   "id": "70376dc5",
   "metadata": {},
   "outputs": [],
   "source": []
  }
 ],
 "metadata": {
  "kernelspec": {
   "display_name": "Python 3",
   "language": "python",
   "name": "python3"
  },
  "language_info": {
   "codemirror_mode": {
    "name": "ipython",
    "version": 3
   },
   "file_extension": ".py",
   "mimetype": "text/x-python",
   "name": "python",
   "nbconvert_exporter": "python",
   "pygments_lexer": "ipython3",
   "version": "3.9.13"
  }
 },
 "nbformat": 4,
 "nbformat_minor": 5
}
