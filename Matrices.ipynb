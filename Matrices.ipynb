{
 "cells": [
  {
   "cell_type": "markdown",
   "id": "1e5256bb",
   "metadata": {},
   "source": [
    "## init"
   ]
  },
  {
   "cell_type": "code",
   "execution_count": 1,
   "id": "599dd148",
   "metadata": {},
   "outputs": [],
   "source": [
    "import sys \n",
    "sys.path.append('pyfiles/')\n",
    "import classes_loop as cl\n",
    "# so we don't have to reboot kernel every time we modify classes.py\n",
    "%load_ext autoreload\n",
    "%autoreload 2\n",
    "\n",
    "# math stuff\n",
    "import numpy as np\n",
    "# visualization\n",
    "from scipy.spatial import Voronoi, voronoi_plot_2d\n",
    "from scipy.spatial import distance\n",
    "from copy import deepcopy\n",
    "\n",
    "import matplotlib.pyplot as plt\n",
    "%matplotlib inline\n",
    "# sliders\n",
    "from ipywidgets import interactive\n",
    "\n",
    "# for matrix import and display\n",
    "import pandas as pd\n",
    "from IPython.display import display_html \n",
    "import csv \n",
    "import scipy.sparse\n",
    "######## NOTE: from this point on, order is important. \n",
    "# it would be good to make the code more robust, but right\n",
    "# now, there are ordered dependencies between functions.\n",
    "\n",
    "# points = cl.ellipse_example(numpts = 6)\n",
    "# # note: 100 pts causes handling error"
   ]
  },
  {
   "cell_type": "code",
   "execution_count": 2,
   "id": "712daf61",
   "metadata": {
    "scrolled": false
   },
   "outputs": [
    {
     "name": "stdout",
     "output_type": "stream",
     "text": [
      "[[0 1 0 0 0 0 0 0]\n",
      " [0 1 1 0 0 0 0 0]\n",
      " [0 0 1 1 0 0 0 0]\n",
      " [0 0 0 1 1 0 0 0]\n",
      " [0 0 0 0 1 1 0 0]\n",
      " [0 0 0 0 0 1 1 0]\n",
      " [0 0 0 0 0 0 1 1]\n",
      " [0 0 0 0 0 0 0 0]]\n"
     ]
    }
   ],
   "source": [
    "mat = cl.bdmatrix()\n",
    "print(mat.initmatrix)\n",
    "\n",
    "# matrix[i][j]\n",
    "# matrix1 +2 matrix2\n",
    "# matrix[i][j] = x"
   ]
  },
  {
   "cell_type": "code",
   "execution_count": 3,
   "id": "9ee72ca8",
   "metadata": {
    "scrolled": true
   },
   "outputs": [
    {
     "name": "stdout",
     "output_type": "stream",
     "text": [
      "1\n"
     ]
    },
    {
     "data": {
      "text/plain": [
       "array([[0, 1, 0, 0, 0, 0, 0, 0],\n",
       "       [0, 1, 1, 0, 0, 0, 0, 0],\n",
       "       [0, 0, 1, 1, 0, 0, 0, 0],\n",
       "       [0, 0, 0, 1, 1, 0, 0, 0],\n",
       "       [0, 0, 0, 0, 1, 1, 0, 0],\n",
       "       [0, 0, 0, 0, 0, 1, 1, 0],\n",
       "       [0, 0, 0, 0, 0, 0, 1, 1],\n",
       "       [0, 0, 0, 0, 0, 0, 0, 0]])"
      ]
     },
     "execution_count": 3,
     "metadata": {},
     "output_type": "execute_result"
    }
   ],
   "source": [
    "sparsemat = scipy.sparse.dia_matrix(mat.initmatrix)\n",
    "print(sparsemat.toarray()[1][1])\n",
    "np.array(sparsemat.toarray())"
   ]
  },
  {
   "cell_type": "code",
   "execution_count": 4,
   "id": "190d5ce8",
   "metadata": {},
   "outputs": [
    {
     "data": {
      "text/plain": [
       "array([[0, 2, 0, 0, 0, 0, 0, 0],\n",
       "       [0, 2, 2, 0, 0, 0, 0, 0],\n",
       "       [0, 0, 2, 2, 0, 0, 0, 0],\n",
       "       [0, 0, 0, 2, 2, 0, 0, 0],\n",
       "       [0, 0, 0, 0, 2, 2, 0, 0],\n",
       "       [0, 0, 0, 0, 0, 2, 2, 0],\n",
       "       [0, 0, 0, 0, 0, 0, 2, 2],\n",
       "       [0, 0, 0, 0, 0, 0, 0, 0]])"
      ]
     },
     "execution_count": 4,
     "metadata": {},
     "output_type": "execute_result"
    }
   ],
   "source": [
    "sparsemat = sparsemat + sparsemat\n",
    "sparsemat.toarray()"
   ]
  },
  {
   "cell_type": "markdown",
   "id": "ab4bb808",
   "metadata": {},
   "source": [
    "1. make 0 matrix from np array\n",
    "2. edit particular positions to 1\n",
    "3. reduce matrix \n",
    "    - +2 addition\n",
    "    - identify lowest ones in col\n",
    "    \n",
    "    \n",
    "dictionary where keys are indices (columns), values are sets of row indices with 1s (so max returns lowest one)"
   ]
  },
  {
   "cell_type": "code",
   "execution_count": 5,
   "id": "d72f59c2",
   "metadata": {},
   "outputs": [],
   "source": [
    "d = {\n",
    "    10 : {1,2,3},\n",
    "    11 : {3,4,5},\n",
    "    12 : {1,4,5}\n",
    "}"
   ]
  },
  {
   "cell_type": "code",
   "execution_count": 6,
   "id": "0cb60ecc",
   "metadata": {},
   "outputs": [],
   "source": [
    "d[11] |= {6}"
   ]
  },
  {
   "cell_type": "code",
   "execution_count": 7,
   "id": "2d9b7483",
   "metadata": {},
   "outputs": [],
   "source": [
    "d[11].remove(6)\n",
    "# screams at you if was already 0"
   ]
  },
  {
   "cell_type": "code",
   "execution_count": 8,
   "id": "41b0228a",
   "metadata": {},
   "outputs": [],
   "source": [
    "d[11] -= {6}\n",
    "# doesn't scream at you"
   ]
  },
  {
   "cell_type": "code",
   "execution_count": 9,
   "id": "031ebed6",
   "metadata": {},
   "outputs": [
    {
     "data": {
      "text/plain": [
       "{10: {1, 2, 3}, 11: {3, 4, 5}, 12: {1, 4, 5}}"
      ]
     },
     "execution_count": 9,
     "metadata": {},
     "output_type": "execute_result"
    }
   ],
   "source": [
    "d"
   ]
  },
  {
   "cell_type": "code",
   "execution_count": 10,
   "id": "d9831bd3",
   "metadata": {},
   "outputs": [
    {
     "data": {
      "text/plain": [
       "{1, 3}"
      ]
     },
     "execution_count": 10,
     "metadata": {},
     "output_type": "execute_result"
    }
   ],
   "source": [
    "{1,2} ^ {2,3}\n",
    "# symm diff"
   ]
  },
  {
   "cell_type": "markdown",
   "id": "5c826196",
   "metadata": {},
   "source": [
    "simple effective time improvements\n",
    "1. \"inverse of low func\" eats row indices and spits out col inds, so you get col that has input row as lowest one; e.g. func(5)=7 menas that the 7th column has the lowest one in the 5th row. this eliminates loop of columns from start to my column. n^4 -> n^3\n",
    "Do just this in what I already have to see speedup\n",
    "Note: you can separately remember birth simplices so you have essential classes at the end\n",
    "\n",
    "2. clearing: work within dimension right to left, but inside a dimension, from top dim to bottom dim. if you find a death col, you automatically found a birth col for free, so you can set brth col to 0s. "
   ]
  },
  {
   "cell_type": "code",
   "execution_count": 11,
   "id": "04df1847",
   "metadata": {},
   "outputs": [],
   "source": [
    "d = {7 : 5}"
   ]
  },
  {
   "cell_type": "code",
   "execution_count": 12,
   "id": "2fa43b86",
   "metadata": {},
   "outputs": [
    {
     "data": {
      "text/plain": [
       "5"
      ]
     },
     "execution_count": 12,
     "metadata": {},
     "output_type": "execute_result"
    }
   ],
   "source": [
    "# you can tell it what to tell you if not there, ie -1\n",
    "d.get(7, -1)"
   ]
  },
  {
   "cell_type": "code",
   "execution_count": 19,
   "id": "64257985",
   "metadata": {},
   "outputs": [
    {
     "data": {
      "text/plain": [
       "{1: {0, 1}, 2: {1, 2}, 3: {2, 3}, 4: {3, 4}, 5: {4, 5}, 6: {5, 6}, 7: {6}}"
      ]
     },
     "execution_count": 19,
     "metadata": {},
     "output_type": "execute_result"
    }
   ],
   "source": [
    "def array2sparse(matrix):\n",
    "#     we're going to make a better repr of a matrix. \n",
    "#     we'll have a dictionary, like this:\n",
    "#     d = {\n",
    "#     c : {r1, r2, r3},\n",
    "#     }\n",
    "#     where column:row indicates the location of a 1 in the matrix.\n",
    "#     this way we don't store zeros, and computation will be faster. \n",
    "    sparseboii = {}\n",
    "    height = len(matrix[:][0])\n",
    "    width = len(matrix[0][:])\n",
    "    for col_j in range(width):\n",
    "        for row_i in range(height):\n",
    "            if matrix[row_i][col_j] == 1:\n",
    "                if col_j not in sparseboii.keys():\n",
    "                    # initialize set \n",
    "                    sparseboii[col_j] = set()\n",
    "                sparseboii[col_j].add(row_i)\n",
    "    return sparseboii\n",
    "    \n",
    "matrix = np.array([\\\n",
    "     [0,1,0,0,0,0,0,0],\\\n",
    "     [0,1,1,0,0,0,0,0],\\\n",
    "     [0,0,1,1,0,0,0,0],\\\n",
    "     [0,0,0,1,1,0,0,0],\\\n",
    "     [0,0,0,0,1,1,0,0],\\\n",
    "     [0,0,0,0,0,1,1,0],\\\n",
    "     [0,0,0,0,0,0,1,1],\\\n",
    "     [0,0,0,0,0,0,0,0]])\n",
    "array2sparse(matrix)"
   ]
  },
  {
   "cell_type": "markdown",
   "id": "ff6ca124",
   "metadata": {},
   "source": [
    "# Timing thingz"
   ]
  },
  {
   "cell_type": "code",
   "execution_count": 14,
   "id": "c3f73eb4",
   "metadata": {},
   "outputs": [],
   "source": [
    "import time"
   ]
  },
  {
   "cell_type": "code",
   "execution_count": 15,
   "id": "6d83c688",
   "metadata": {},
   "outputs": [
    {
     "name": "stdout",
     "output_type": "stream",
     "text": [
      "It took this much time: 0.049 sec\n"
     ]
    }
   ],
   "source": [
    "start_time = time.perf_counter()\n",
    "for _ in range(1000000):\n",
    "    25**5\n",
    "print(f\"It took this much time: {time.perf_counter() - start_time :.3f} sec\")"
   ]
  },
  {
   "cell_type": "code",
   "execution_count": null,
   "id": "456f93c8",
   "metadata": {},
   "outputs": [],
   "source": []
  }
 ],
 "metadata": {
  "kernelspec": {
   "display_name": "Python 3",
   "language": "python",
   "name": "python3"
  },
  "language_info": {
   "codemirror_mode": {
    "name": "ipython",
    "version": 3
   },
   "file_extension": ".py",
   "mimetype": "text/x-python",
   "name": "python",
   "nbconvert_exporter": "python",
   "pygments_lexer": "ipython3",
   "version": "3.9.13"
  }
 },
 "nbformat": 4,
 "nbformat_minor": 5
}
