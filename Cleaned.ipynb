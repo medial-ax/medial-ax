{
 "cells": [
  {
   "cell_type": "markdown",
   "id": "120919d3",
   "metadata": {},
   "source": [
    "# init"
   ]
  },
  {
   "cell_type": "code",
   "execution_count": 1,
   "id": "2e590221",
   "metadata": {
    "scrolled": true
   },
   "outputs": [
    {
     "data": {
      "image/png": "[encoded data removed]",
      "text/plain": [
       "<Figure size 2160x2160 with 2 Axes>"
      ]
     },
     "metadata": {
      "needs_background": "light"
     },
     "output_type": "display_data"
    }
   ],
   "source": [
    "import sys \n",
    "sys.path.append('pyfiles/')\n",
    "import classes as cl\n",
    "# so we don't have to reboot kernel every time we modify classes.py\n",
    "%load_ext autoreload\n",
    "%autoreload 2\n",
    "\n",
    "# math stuff\n",
    "import numpy as np\n",
    "# visualization\n",
    "from scipy.spatial import Voronoi, voronoi_plot_2d\n",
    "from scipy.spatial import distance\n",
    "from copy import deepcopy\n",
    "\n",
    "import matplotlib.pyplot as plt\n",
    "%matplotlib inline\n",
    "# sliders\n",
    "from ipywidgets import interactive\n",
    "\n",
    "# for matrix import and display\n",
    "import pandas as pd\n",
    "from IPython.display import display_html \n",
    "import csv \n",
    "\n",
    "######## NOTE: from this point on, order is important. \n",
    "# it would be good to make the code more robust, but right\n",
    "# now, there are ordered dependencies between functions.\n",
    "\n",
    "points = cl.ellipse_example(numpts = 6)\n",
    "# note: 100 pts causes handling error"
   ]
  },
  {
   "cell_type": "code",
   "execution_count": 2,
   "id": "d3bf1322",
   "metadata": {
    "scrolled": false
   },
   "outputs": [
    {
     "name": "stdout",
     "output_type": "stream",
     "text": [
      "[5.84, 0.62, 28.62, 61.84, 35.65, 7.55]\n"
     ]
    },
    {
     "data": {
      "image/png": "[encoded data removed]",
      "text/plain": [
       "<Figure size 432x288 with 1 Axes>"
      ]
     },
     "metadata": {
      "needs_background": "light"
     },
     "output_type": "display_data"
    }
   ],
   "source": [
    "init_complex = cl.initcomplex(points)\n",
    "s_complex = cl.complex()\n",
    "s_complex.key_point = (2.8,1)\n",
    "\n",
    "# update this to .self so don't need input, except maybe key pt\n",
    "distlist = s_complex.find_sq_dist(init_complex)\n",
    "cl.sort_complex(s_complex, distlist, plot = True)\n",
    "\n",
    "# this is the permutation\n",
    "all_simplices = s_complex.order_all_simps()\n",
    "# I am pretty sure the simps are also ordered in s_complex, \n",
    "# not just all_simplices. make sure.\n",
    "# dummy_simplex = cl.simplex()\n",
    "# dummy_simplex.columnvalue = 0\n",
    "# all_simplices.append(dummy_simplex)"
   ]
  },
  {
   "cell_type": "code",
   "execution_count": 3,
   "id": "d59f6056",
   "metadata": {},
   "outputs": [
    {
     "name": "stdout",
     "output_type": "stream",
     "text": [
      "[\n",
      "simplex ind 1, dim 0, bd [-1], ord ind 0, col val 1, \n",
      "simplex ind 0, dim 0, bd [-1], ord ind 1, col val 2, \n",
      "simplex ind 0, dim 1, bd [0, 1], ord ind 1, col val 3, \n",
      "simplex ind 5, dim 0, bd [-1], ord ind 2, col val 4, \n",
      "simplex ind 5, dim 1, bd [5, 0], ord ind 2, col val 5, \n",
      "simplex ind 2, dim 0, bd [-1], ord ind 3, col val 6, \n",
      "simplex ind 1, dim 1, bd [1, 2], ord ind 3, col val 7, \n",
      "simplex ind 4, dim 0, bd [-1], ord ind 4, col val 8, \n",
      "simplex ind 4, dim 1, bd [4, 5], ord ind 4, col val 9, \n",
      "simplex ind 3, dim 0, bd [-1], ord ind 5, col val 10, \n",
      "simplex ind 2, dim 1, bd [2, 3], ord ind 5, col val 11, \n",
      "simplex ind 3, dim 1, bd [3, 4], ord ind 5, col val 12]\n"
     ]
    }
   ],
   "source": [
    "# print(s_complex.vertlist)\n",
    "# print(s_complex.edgelist)\n",
    "# CHANGELOG: here, edges start at index 1, and previously they started at 0. Temp change to cl file \n",
    "# to see if it fixes error. l172 roughly, init_edges()\n",
    "print(all_simplices)"
   ]
  },
  {
   "cell_type": "code",
   "execution_count": 4,
   "id": "84f94219",
   "metadata": {
    "scrolled": false
   },
   "outputs": [
    {
     "name": "stdout",
     "output_type": "stream",
     "text": [
      "columns:  13  rows:  13\n",
      "Zero Columns:\n",
      "col : [0, 2, 4, 6, 8, 10, 12]\n",
      "dim : [-1, 0, 0, 0, 0, 0, 1]\n",
      "col_index : [-1, 0, 5, 2, 4, 3, 3]\n",
      "\n",
      "Lowest Ones:\n",
      "col : [1, 3, 5, 7, 9, 11]\n",
      "row : [0, 2, 4, 6, 8, 10]\n",
      "dim : [-1, 0, 0, 0, 0, 0]\n",
      "col_index : [1, 0, 5, 1, 4, 2]\n",
      "row_index : [-1, 0, 5, 2, 4, 3]\n",
      "\n",
      "betti dummy:  0 \n",
      "betti zero:  0 \n",
      "betti one: 1\n"
     ]
    }
   ],
   "source": [
    "mat = cl.bdmatrix()\n",
    "mat.make_matrix(s_complex)\n",
    "\n",
    "mat.redmatrix = mat.reduce(display = False)\n",
    "\n",
    "\n",
    "########### test\n",
    "bd_pairs = {\n",
    "    # initial index. we can't differentiate vert/edge this way,\n",
    "    # but we can by knowing classdim, so it's fine.\n",
    "    \"birth\": [],\n",
    "    \"death\": [],\n",
    "    # always the dim of the \n",
    "    # birth simplex. \n",
    "    # the death simplex has dim +1 from birth. \n",
    "    \"classdim\": [],\n",
    "    \"b_simplex\": [],\n",
    "    \"d_simplex\": []\n",
    "}\n",
    "unpaired = {\n",
    "    # classdim is the same as dim of birth simplex.\n",
    "    # this is needed also so we know if it's a vert or edge,\n",
    "    # since the index alone doesn't tell us.\n",
    "    \"birth\": [],\n",
    "    \"classdim\": [],\n",
    "    \"b_simplex\": []\n",
    "}\n",
    "\n",
    "############3\n",
    "# this adds in a column for reduced homology\n",
    "mat.add_dummy_col()\n",
    "# do smart thing to get rid of all_simplices\n",
    "# maybe keep a list on the complex class?\n",
    "# I Think THE ERROR IS HERE. COL INDEX IS GETTING ASSIGNED WRONG.\n",
    "mat.find_lows_zeros(all_simplices)\n",
    "\n",
    "print(\"Zero Columns:\")\n",
    "for key, value in mat.zerocolumns.items():\n",
    "    print(key, \":\", value)\n",
    "print(\"\\nLowest Ones:\")\n",
    "for key, value in mat.lowestones.items():\n",
    "    print(key, \":\", value)\n",
    "    \n",
    "\n",
    "betti_dummy, betti_zero, betti_one = mat.find_bettis()\n",
    "\n",
    "print(\"\\nbetti dummy: \", betti_dummy, \"\\nbetti zero: \", betti_zero, \"\\nbetti one:\" ,betti_one)\n",
    "# print(all_simplices)\n",
    "\n",
    "## ISSUE?!? I don't think col 14 would only have index of 4. \n",
    "# Should be 6, right?!\n",
    "# print(all_simplices)\n",
    "# ah, should be fine bc is initialization index, not ordered.\n",
    "\n",
    "# ANOTHER ISSUE\n",
    "# here, col index should be -1 if it's the emptyset, fix this"
   ]
  },
  {
   "cell_type": "code",
   "execution_count": 5,
   "id": "7b7cab11",
   "metadata": {
    "scrolled": true
   },
   "outputs": [],
   "source": [
    "# we've counted birth death pairs, but now we\n",
    "# need to add in inf persistence (unpaired)\n",
    "died = True\n",
    "i = 0\n",
    "# j is row? I think\n",
    "j = 0\n",
    "for c in mat.zerocolumns[\"col\"]:\n",
    "    # this was the birth of an h class, so check if \n",
    "    # it is in row of lowest ones\n",
    "    \n",
    "    # col c in the matrix was a birth\n",
    "    # so we should check corresponding row to see\n",
    "    # if there is a bd pair there\n",
    "    died = False\n",
    "    # we assume first that it's an inf hom class (no death)\n",
    "    for r in mat.lowestones[\"row\"]:\n",
    "        if r == c:\n",
    "            died = True\n",
    "#             # j is the index\n",
    "#             j += 1\n",
    "            # break here?!\n",
    "            # this is an edit; didn't break previously\n",
    "#             break\n",
    "    # we found the birth value (r = c)\n",
    "    # now we want the death value\n",
    "    if died and j < len(mat.lowestones[\"row\"]): \n",
    "        # recheck if all the dims are right. \n",
    "        # might have mixed up rows and cols.\n",
    "        bd_pairs[\"classdim\"].append(mat.zerocolumns[\"dim\"][i])\n",
    "        \n",
    "        # NOTE: THIS IS PROBABLY WHERE THE PROBLEM IS\n",
    "#         bd_pairs[\"death\"].append(mat.lowestones[\"row_index\"][j])\n",
    "#         bd_pairs[\"birth\"].append(mat.zerocolumns[\"col_index\"][i])\n",
    "        bd_pairs[\"death\"].append(mat.lowestones[\"col_index\"][j])\n",
    "        bd_pairs[\"birth\"].append(mat.zerocolumns[\"col_index\"][i])\n",
    "        # edit: just added incrementing j here. \n",
    "        # I think it was incr too often above in if statement\n",
    "        # j is the index\n",
    "        j += 1\n",
    "        \n",
    "        if mat.zerocolumns[\"dim\"][i] == -1:\n",
    "            bd_pairs[\"b_simplex\"].append(\"emptyset\")\n",
    "            bd_pairs[\"d_simplex\"].append(\"v\")\n",
    "        if mat.zerocolumns[\"dim\"][i] == 0:\n",
    "            bd_pairs[\"b_simplex\"].append(\"v\")\n",
    "            bd_pairs[\"d_simplex\"].append(\"e\")\n",
    "        if mat.zerocolumns[\"dim\"][i] == 1:\n",
    "            bd_pairs[\"b_simplex\"].append(\"e\")\n",
    "    if died == False:\n",
    "        # check here too.\n",
    "#         unpaired[\"birth\"].append(mat.zerocolumns[\"col_index\"][i])\n",
    "        # CHANGED\n",
    "        unpaired[\"birth\"].append(mat.zerocolumns[\"col_index\"][i])\n",
    "        unpaired[\"classdim\"].append(mat.zerocolumns[\"dim\"][i])\n",
    "        if mat.zerocolumns[\"dim\"][i] == -1:\n",
    "            unpaired[\"b_simplex\"].append(\"emptyset\")\n",
    "        if mat.zerocolumns[\"dim\"][i] == 0:\n",
    "            unpaired[\"b_simplex\"].append(\"v\")\n",
    "        if mat.zerocolumns[\"dim\"][i] == 1:\n",
    "            unpaired[\"b_simplex\"].append(\"e\")\n",
    "    i = i + 1\n",
    "# print(\"\\n\",bd_pairs, \"\\n\\n\", unpaired)"
   ]
  },
  {
   "cell_type": "code",
   "execution_count": 6,
   "id": "7da7c2ba",
   "metadata": {
    "scrolled": true
   },
   "outputs": [
    {
     "name": "stdout",
     "output_type": "stream",
     "text": [
      "birth death pairs\n",
      "birth [-1, 0, 5, 2, 4, 3]\n",
      "death [1, 0, 5, 1, 4, 2]\n",
      "classdim [-1, 0, 0, 0, 0, 0]\n",
      "b_simplex ['emptyset', 'v', 'v', 'v', 'v', 'v']\n",
      "d_simplex ['v', 'e', 'e', 'e', 'e', 'e']\n",
      "\n",
      "\n",
      "infinite homology classes\n",
      "birth [3]\n",
      "classdim [1]\n",
      "b_simplex ['e']\n"
     ]
    }
   ],
   "source": [
    "print(\"birth death pairs\")\n",
    "for keys, value in bd_pairs.items():\n",
    "   print(keys, value)\n",
    "print(\"\\n\") \n",
    "print(\"infinite homology classes\")\n",
    "for keys, value in unpaired.items():\n",
    "   print(keys, value)\n",
    "\n",
    "# ISSUE: emptyset has index 0 ad we should index \n",
    "# it -1 for no confusion. find where index is given\n",
    "\n",
    "# this should be initial index but maybe it's column value\n",
    "# check if it's the ordered index as well"
   ]
  },
  {
   "cell_type": "code",
   "execution_count": 7,
   "id": "2b34a277",
   "metadata": {
    "scrolled": true
   },
   "outputs": [
    {
     "name": "stdout",
     "output_type": "stream",
     "text": [
      "simplices labeled by initial val, not column:\n",
      "\n",
      "emptyset -1 birthed a -1 dim h class killed by v 1\n",
      "v 0 birthed a 0 dim h class killed by e 0\n",
      "v 5 birthed a 0 dim h class killed by e 5\n",
      "v 2 birthed a 0 dim h class killed by e 1\n",
      "v 4 birthed a 0 dim h class killed by e 4\n",
      "v 3 birthed a 0 dim h class killed by e 2\n",
      "e 3 birthed an infinite 1 dim h class\n"
     ]
    }
   ],
   "source": [
    "print(\"simplices labeled by initial val, not column:\\n\")\n",
    "for i in range(len(bd_pairs[\"birth\"])):\n",
    "    print(bd_pairs[\"b_simplex\"][i], \n",
    "          bd_pairs[\"birth\"][i], \n",
    "          \"birthed a\",\n",
    "          bd_pairs[\"classdim\"][i], \n",
    "          \"dim h class killed by\",\n",
    "          bd_pairs[\"d_simplex\"][i], \n",
    "          bd_pairs[\"death\"][i], \n",
    "         )\n",
    "for i in range(len(unpaired[\"birth\"])):\n",
    "    print(unpaired[\"b_simplex\"][i],\n",
    "          unpaired[\"birth\"][i],\n",
    "          \"birthed an infinite\",\n",
    "          unpaired[\"classdim\"][i],\n",
    "          \"dim h class\"\n",
    "         )\n",
    "    \n",
    "# would be cool: replot the graph, but labeling mothers and murderers\n",
    "# there is definitely a bug here because the indexing is messed up. \n",
    "# I think the issue comes from adding the empty set in, and I also think\n",
    "# everything is correct at the matrix sorting step, so I think it's in \n",
    "# this file, rather than the classes.py file.\n",
    "\n",
    "# issues: not only need to index chase, also need to keep track of h classes.\n",
    "# maybe need a whole new class, like a classes class hehe\n",
    "# because we need to say THIS class was birthed by x but now is by y, right?\n",
    "# or is it enough that we track pairings of bd simplices?"
   ]
  },
  {
   "cell_type": "code",
   "execution_count": 8,
   "id": "921fcbba",
   "metadata": {},
   "outputs": [
    {
     "name": "stdout",
     "output_type": "stream",
     "text": [
      "[5.84, 0.62, 28.62, 61.84, 35.65, 7.55]\n"
     ]
    },
    {
     "data": {
      "image/png": "[encoded data removed]",
      "text/plain": [
       "<Figure size 432x288 with 1 Axes>"
      ]
     },
     "metadata": {
      "needs_background": "light"
     },
     "output_type": "display_data"
    }
   ],
   "source": [
    "# should add a legend, but \n",
    "# white is sampling index\n",
    "# red is dist to red pt\n",
    "# blue is column assignment in matrix\n",
    "s_complex.plot(extras = True, label_edges = True)"
   ]
  },
  {
   "cell_type": "markdown",
   "id": "1915c0ba",
   "metadata": {},
   "source": [
    "# ask herbert: \n",
    "1. can we guarantee there is always a lowest one in row 0? \n",
    "    I am pretty sure this is guaranteed if the simp cplx isn't empty, because there is always an empty set and it always gets killed immediately, right? relevant in \n",
    "    ```\n",
    "        # I am pretty sure it is always first\n",
    "        # I am also pretty sure there is always a 1 in row one\n",
    "        self.lowestones[\"row_index\"].append(-1)\n",
    "        for j in range(length):\n",
    "            # we know it's a square matrix by construction \n",
    "            for i in range(length):\n",
    "    ```\n",
    "    roughly l429, in find_lows_zeros(self,all_simps)\n",
    "2. Birth death pairings are uniquely determined by column:row simplex indices, right? no need for thinking about Elder Rule? \n",
    "3. Also no need for thinking about Elder Rule when determining switches for vineyards, right? The way you determine a switch is by comparing pairings of b/d, and seeing which simplices are paired with which others, not by looking at for looking first at the ith homology class and the simplices which birth/kill it?"
   ]
  }
 ],
 "metadata": {
  "kernelspec": {
   "display_name": "Python 3",
   "language": "python",
   "name": "python3"
  },
  "language_info": {
   "codemirror_mode": {
    "name": "ipython",
    "version": 3
   },
   "file_extension": ".py",
   "mimetype": "text/x-python",
   "name": "python",
   "nbconvert_exporter": "python",
   "pygments_lexer": "ipython3",
   "version": "3.9.13"
  }
 },
 "nbformat": 4,
 "nbformat_minor": 5
}
