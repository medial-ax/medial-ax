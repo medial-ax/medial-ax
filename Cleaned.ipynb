{
 "cells": [
  {
   "cell_type": "markdown",
   "id": "c43c4157",
   "metadata": {},
   "source": [
    "# init"
   ]
  },
  {
   "cell_type": "code",
   "execution_count": 1,
   "id": "b993dd40",
   "metadata": {
    "scrolled": true
   },
   "outputs": [
    {
     "data": {
      "image/png": "[encoded data removed]",
      "text/plain": [
       "<Figure size 1440x1440 with 2 Axes>"
      ]
     },
     "metadata": {
      "needs_background": "light"
     },
     "output_type": "display_data"
    }
   ],
   "source": [
    "import sys \n",
    "sys.path.append('pyfiles/')\n",
    "import classes as cl\n",
    "# so we don't have to reboot kernel every time we modify classes.py\n",
    "%load_ext autoreload\n",
    "%autoreload 2\n",
    "\n",
    "# math stuff\n",
    "import numpy as np\n",
    "# visualization\n",
    "from scipy.spatial import Voronoi, voronoi_plot_2d\n",
    "from scipy.spatial import distance\n",
    "from copy import deepcopy\n",
    "\n",
    "import matplotlib.pyplot as plt\n",
    "%matplotlib inline\n",
    "# sliders\n",
    "from ipywidgets import interactive\n",
    "\n",
    "# for matrix import and display\n",
    "import pandas as pd\n",
    "from IPython.display import display_html \n",
    "import csv \n",
    "\n",
    "######## NOTE: from this point on, order is important. \n",
    "# it would be good to make the code more robust, but right\n",
    "# now, there are ordered dependencies.\n",
    "\n",
    "points = cl.ellipse_example(numpts = 7)"
   ]
  },
  {
   "cell_type": "code",
   "execution_count": 2,
   "id": "455260dd",
   "metadata": {
    "scrolled": true
   },
   "outputs": [
    {
     "name": "stdout",
     "output_type": "stream",
     "text": [
      "[5.84, 0.42, 16.19, 53.31, 56.9, 24.07, 6.7]\n"
     ]
    },
    {
     "data": {
      "image/png": "[encoded data removed]",
      "text/plain": [
       "<Figure size 432x288 with 1 Axes>"
      ]
     },
     "metadata": {
      "needs_background": "light"
     },
     "output_type": "display_data"
    }
   ],
   "source": [
    "init_complex = cl.initcomplex(points)\n",
    "s_complex = cl.complex()\n",
    "s_complex.key_point = (2.8,1)\n",
    "\n",
    "# update this to .self so don't need input, except maybe key pt\n",
    "distlist = s_complex.find_sq_dist(init_complex)\n",
    "cl.sort_complex(s_complex, distlist, plot = True)\n",
    "\n",
    "# this is the permutation\n",
    "all_simplices = s_complex.order_all_simps()\n",
    "# I am pretty sure the simps are also ordered in s_complex, \n",
    "# not just all_simplices. make sure.\n",
    "# dummy_simplex = cl.simplex()\n",
    "# dummy_simplex.columnvalue = 0\n",
    "# all_simplices.append(dummy_simplex)"
   ]
  },
  {
   "cell_type": "code",
   "execution_count": 69,
   "id": "370d22ce",
   "metadata": {
    "scrolled": false
   },
   "outputs": [
    {
     "name": "stdout",
     "output_type": "stream",
     "text": [
      "columns:  15  rows:  15\n",
      "Zero Columns:\n",
      "col : [0, 2, 4, 6, 8, 10, 12, 14]\n",
      "dim : [-1, 0, 0, 0, 0, 0, 0, 1]\n",
      "col_index : [0, 0, 6, 2, 5, 3, 4, 4]\n",
      "\n",
      "Lowest Ones:\n",
      "col : [1, 3, 5, 7, 9, 11, 13]\n",
      "row : [0, 2, 4, 6, 8, 10, 12]\n",
      "dim : [-1, 0, 0, 0, 0, 0, 0]\n",
      "col_index : [1, 0, 6, 1, 5, 2, 3]\n",
      "row_index : [-1, 0, 6, 2, 5, 3, 4]\n",
      "dummy:  0 \n",
      "zero:  0 \n",
      "one: 1\n"
     ]
    }
   ],
   "source": [
    "mat = cl.bdmatrix()\n",
    "mat.make_matrix(s_complex)\n",
    "\n",
    "mat.redmatrix = mat.reduce(display = False)\n",
    "\n",
    "# this adds in a column for reduced homology\n",
    "mat.add_dummy_col()\n",
    "# do smart thing to get rid of all_simplices\n",
    "# maybe keep a list on the complex class?\n",
    "mat.find_lows_zeros(all_simplices)\n",
    "\n",
    "print(\"Zero Columns:\")\n",
    "for key, value in mat.zerocolumns.items():\n",
    "    print(key, \":\", value)\n",
    "print(\"\\nLowest Ones:\")\n",
    "for key, value in mat.lowestones.items():\n",
    "    print(key, \":\", value)\n",
    "    \n",
    "\n",
    "betti_dummy, betti_zero, betti_one = mat.find_bettis()\n",
    "\n",
    "print(\"dummy: \", betti_dummy, \"\\nzero: \", betti_zero, \"\\none:\" ,betti_one)\n",
    "# print(all_simplices)\n",
    "\n",
    "## ISSUE?!? I don't think col 14 would only have index of 4. \n",
    "# Should be 6, right?!\n",
    "# print(all_simplices)\n",
    "# ah, should be fine bc is initialization index, not ordered.\n",
    "\n",
    "# ANOTHER ISSUE\n",
    "# here, col index should be -1 if it's the emptyset, fix this"
   ]
  },
  {
   "cell_type": "code",
   "execution_count": 71,
   "id": "978a9cfb",
   "metadata": {
    "scrolled": true
   },
   "outputs": [
    {
     "name": "stdout",
     "output_type": "stream",
     "text": [
      "h class from simplex 0 died\n",
      "h class from simplex 1 died\n",
      "h class from simplex 2 died\n",
      "h class from simplex 3 died\n",
      "h class from simplex 4 died\n",
      "h class from simplex 5 died\n",
      "h class from simplex 6 died\n",
      "h class from simplex 7 didn't die\n"
     ]
    }
   ],
   "source": [
    "bd_pairs = {\n",
    "    # initial index. we can't differentiate vert/edge this way,\n",
    "    # but we can by knowing classdim, so it's fine.\n",
    "    \"birth\": [],\n",
    "    \"death\": [],\n",
    "    # always the dim of the \n",
    "    # birth simplex. \n",
    "    # the death simplex has dim +1 from birth. \n",
    "    \"classdim\": [],\n",
    "    \"b_simplex\": [],\n",
    "    \"d_simplex\": []\n",
    "}\n",
    "unpaired = {\n",
    "    # classdim is the same as dim of birth simplex.\n",
    "    # this is needed also so we know if it's a vert or edge,\n",
    "    # since the index alone doesn't tell us.\n",
    "    \"birth\": [],\n",
    "    \"classdim\": [],\n",
    "    \"b_simplex\": []\n",
    "}\n",
    "\n",
    "# we've counted birth death pairs, but now we\n",
    "# need to add in inf persistence (unpaired)\n",
    "died = True\n",
    "i = 0\n",
    "j = 0\n",
    "for c in mat.zerocolumns[\"col\"]:\n",
    "    # this was the birth of an h class, so check if \n",
    "    # it is in row of lowest ones\n",
    "    died = False\n",
    "    for r in mat.lowestones[\"row\"]:\n",
    "        if r == c:\n",
    "            died = True\n",
    "            j += 1\n",
    "    print(\"h class from simplex\",i,\n",
    "          \"died\" if died else \"didn't die\")\n",
    "    if died and j < len(mat.lowestones[\"row\"]): \n",
    "        # recheck if all the dims are right. \n",
    "        # might have mixed up rows and cols.\n",
    "        bd_pairs[\"classdim\"].append(mat.zerocolumns[\"dim\"][i])\n",
    "        bd_pairs[\"death\"].append(mat.lowestones[\"row\"][j])\n",
    "        bd_pairs[\"birth\"].append(mat.zerocolumns[\"col_index\"][i])\n",
    "        if mat.zerocolumns[\"dim\"][i] == -1:\n",
    "            bd_pairs[\"b_simplex\"].append(\"emptyset\")\n",
    "            bd_pairs[\"d_simplex\"].append(\"vert\")\n",
    "        if mat.zerocolumns[\"dim\"][i] == 0:\n",
    "            bd_pairs[\"b_simplex\"].append(\"vert\")\n",
    "            bd_pairs[\"d_simplex\"].append(\"edge\")\n",
    "        if mat.zerocolumns[\"dim\"][i] == 1:\n",
    "            bd_pairs[\"b_simplex\"].append(\"edge\")\n",
    "    if died == False:\n",
    "        # check here too.\n",
    "        unpaired[\"birth\"].append(mat.zerocolumns[\"col_index\"][i])\n",
    "        unpaired[\"classdim\"].append(mat.zerocolumns[\"dim\"][i])\n",
    "        if mat.zerocolumns[\"dim\"][i] == -1:\n",
    "            unpaired[\"b_simplex\"].append(\"emptyset\")\n",
    "        if mat.zerocolumns[\"dim\"][i] == 0:\n",
    "            unpaired[\"b_simplex\"].append(\"vert\")\n",
    "        if mat.zerocolumns[\"dim\"][i] == 1:\n",
    "            unpaired[\"b_simplex\"].append(\"edge\")\n",
    "    i = i + 1\n",
    "# print(\"\\n\",bd_pairs, \"\\n\\n\", unpaired)"
   ]
  },
  {
   "cell_type": "code",
   "execution_count": 72,
   "id": "826ad194",
   "metadata": {
    "scrolled": true
   },
   "outputs": [
    {
     "name": "stdout",
     "output_type": "stream",
     "text": [
      "birth death pairs\n",
      "birth [0, 0, 6, 2, 5, 3]\n",
      "death [2, 4, 6, 8, 10, 12]\n",
      "classdim [-1, 0, 0, 0, 0, 0]\n",
      "b_simplex ['emptyset', 'vert', 'vert', 'vert', 'vert', 'vert']\n",
      "d_simplex ['vert', 'edge', 'edge', 'edge', 'edge', 'edge']\n",
      "\n",
      "\n",
      "infinite homology classes\n",
      "birth [4]\n",
      "classdim [1]\n",
      "b_simplex ['edge']\n"
     ]
    }
   ],
   "source": [
    "print(\"birth death pairs\")\n",
    "for keys, value in bd_pairs.items():\n",
    "   print(keys, value)\n",
    "print(\"\\n\") \n",
    "print(\"infinite homology classes\")\n",
    "for keys, value in unpaired.items():\n",
    "   print(keys, value)\n",
    "\n",
    "# ISSUE: emptyset has index 0 ad we should index \n",
    "# it -1 for no confusion. find where index is given"
   ]
  },
  {
   "cell_type": "code",
   "execution_count": 89,
   "id": "55a31a05",
   "metadata": {},
   "outputs": [
    {
     "data": {
      "text/plain": [
       "range(0, 3)"
      ]
     },
     "execution_count": 89,
     "metadata": {},
     "output_type": "execute_result"
    }
   ],
   "source": [
    "list = [1,3,4]\n",
    "range(len(list))"
   ]
  },
  {
   "cell_type": "code",
   "execution_count": 91,
   "id": "9ac7519c",
   "metadata": {},
   "outputs": [
    {
     "name": "stdout",
     "output_type": "stream",
     "text": [
      "emptyset 0 birthed a -1 h class killed by vert 2\n",
      "vert 0 birthed a 0 h class killed by edge 4\n",
      "vert 6 birthed a 0 h class killed by edge 6\n",
      "vert 2 birthed a 0 h class killed by edge 8\n",
      "vert 5 birthed a 0 h class killed by edge 10\n",
      "vert 3 birthed a 0 h class killed by edge 12\n",
      "edge 4 birthed an infinite 1 h class\n"
     ]
    },
    {
     "ename": "IndexError",
     "evalue": "list index out of range",
     "output_type": "error",
     "traceback": [
      "\u001b[0;31m---------------------------------------------------------------------------\u001b[0m",
      "\u001b[0;31mIndexError\u001b[0m                                Traceback (most recent call last)",
      "Input \u001b[0;32mIn [91]\u001b[0m, in \u001b[0;36m<cell line: 10>\u001b[0;34m()\u001b[0m\n\u001b[1;32m      2\u001b[0m     \u001b[38;5;28mprint\u001b[39m(bd_pairs[\u001b[38;5;124m\"\u001b[39m\u001b[38;5;124mb_simplex\u001b[39m\u001b[38;5;124m\"\u001b[39m][i], \n\u001b[1;32m      3\u001b[0m           bd_pairs[\u001b[38;5;124m\"\u001b[39m\u001b[38;5;124mbirth\u001b[39m\u001b[38;5;124m\"\u001b[39m][i], \n\u001b[1;32m      4\u001b[0m           \u001b[38;5;124m\"\u001b[39m\u001b[38;5;124mbirthed a\u001b[39m\u001b[38;5;124m\"\u001b[39m,\n\u001b[0;32m   (...)\u001b[0m\n\u001b[1;32m      8\u001b[0m           bd_pairs[\u001b[38;5;124m\"\u001b[39m\u001b[38;5;124mdeath\u001b[39m\u001b[38;5;124m\"\u001b[39m][i], \n\u001b[1;32m      9\u001b[0m          )\n\u001b[1;32m     10\u001b[0m \u001b[38;5;28;01mfor\u001b[39;00m i \u001b[38;5;129;01min\u001b[39;00m \u001b[38;5;28mrange\u001b[39m(\u001b[38;5;28mlen\u001b[39m(unpaired)):\n\u001b[0;32m---> 11\u001b[0m     \u001b[38;5;28mprint\u001b[39m(\u001b[43munpaired\u001b[49m\u001b[43m[\u001b[49m\u001b[38;5;124;43m\"\u001b[39;49m\u001b[38;5;124;43mb_simplex\u001b[39;49m\u001b[38;5;124;43m\"\u001b[39;49m\u001b[43m]\u001b[49m\u001b[43m[\u001b[49m\u001b[43mi\u001b[49m\u001b[43m]\u001b[49m,\n\u001b[1;32m     12\u001b[0m           unpaired[\u001b[38;5;124m\"\u001b[39m\u001b[38;5;124mbirth\u001b[39m\u001b[38;5;124m\"\u001b[39m][i],\n\u001b[1;32m     13\u001b[0m           \u001b[38;5;124m\"\u001b[39m\u001b[38;5;124mbirthed an infinite\u001b[39m\u001b[38;5;124m\"\u001b[39m,\n\u001b[1;32m     14\u001b[0m           unpaired[\u001b[38;5;124m\"\u001b[39m\u001b[38;5;124mclassdim\u001b[39m\u001b[38;5;124m\"\u001b[39m][i],\n\u001b[1;32m     15\u001b[0m           \u001b[38;5;124m\"\u001b[39m\u001b[38;5;124mh class\u001b[39m\u001b[38;5;124m\"\u001b[39m\n\u001b[1;32m     16\u001b[0m          )\n",
      "\u001b[0;31mIndexError\u001b[0m: list index out of range"
     ]
    }
   ],
   "source": [
    "for i in range(len(bd_pairs[\"birth\"])):\n",
    "    print(bd_pairs[\"b_simplex\"][i], \n",
    "          bd_pairs[\"birth\"][i], \n",
    "          \"birthed a\",\n",
    "          bd_pairs[\"classdim\"][i], \n",
    "          \"h class killed by\",\n",
    "          bd_pairs[\"d_simplex\"][i], \n",
    "          bd_pairs[\"death\"][i], \n",
    "         )\n",
    "for i in range(len(unpaired)):\n",
    "    print(unpaired[\"b_simplex\"][i],\n",
    "          unpaired[\"birth\"][i],\n",
    "          \"birthed an infinite\",\n",
    "          unpaired[\"classdim\"][i],\n",
    "          \"h class\"\n",
    "         )"
   ]
  },
  {
   "cell_type": "code",
   "execution_count": 33,
   "id": "90ae7e67",
   "metadata": {
    "scrolled": true
   },
   "outputs": [
    {
     "name": "stdout",
     "output_type": "stream",
     "text": [
      "ldfjks -1 gave birth to a -1 h class killed by vertex 1\n",
      "vertex 0 gave birth to a 0 h class killed by ldfjks 0\n",
      "vertex 6 gave birth to a 0 h class killed by ldfjks 6\n",
      "vertex 2 gave birth to a 0 h class killed by ldfjks 1\n",
      "vertex 5 gave birth to a 0 h class killed by ldfjks 5\n",
      "vertex 3 gave birth to a 0 h class killed by ldfjks 2\n",
      "vertex 4 gave birth to a 0 h class killed by ldfjks 3\n"
     ]
    }
   ],
   "source": [
    "# next: print out, \n",
    "# simplex i caused birth of _ homology class, etc\n",
    "# I think that when there's a lowest one, you take the row value: \n",
    "# it gave birth, and the column value gave death.\n",
    "# the dimension of the class is the birth dim.\n",
    "\n",
    "# is our pairing consistent with the elder rule? \n",
    "# it just follows from the matrix, right? \n",
    "# and the pairing lemma? \n",
    "i = 0\n",
    "for c in range(len(mat.lowestones[\"col\"])):\n",
    "    print(\"vertex\" if mat.lowestones[\"dim\"][i] == 0 \n",
    "          else \"ldfjks\", \n",
    "          mat.lowestones[\"row_index\"][i], \n",
    "          \"gave birth to a\", mat.lowestones[\"dim\"][i],\n",
    "          \"h class killed by\",\n",
    "          \"vertex\" if mat.lowestones[\"dim\"][i] + 1 == 0 else \"ldfjks\", \n",
    "          mat.lowestones[\"col_index\"][i])\n",
    "    i += 1\n",
    "    \n",
    "# We are missing the birth of the 1-cycle, because it is not killed\n",
    "# so it is not a lowest one.\n",
    "\n",
    "# I think next, we need to go over all zero-columns in the matrix.\n",
    "# that simplex gave birth to an h-class. \n",
    "# so we check the corresponding row, and see it is already matched \n",
    "# with a lowest one. If it's not, then it birthed a class that was never\n",
    "# killed, and we need to add it to the list."
   ]
  },
  {
   "cell_type": "markdown",
   "id": "0fc1992b",
   "metadata": {},
   "source": [
    "# ask herbert: \n",
    "1. can we guarantee there is always a lowest one in row 0? \n",
    "    I am pretty sure this is guaranteed if the simp cplx isn't empty, because there is always an empty set and it always gets killed immediately, right? relevant in \n",
    "    ```\n",
    "        # I am pretty sure it is always first\n",
    "        # I am also pretty sure there is always a 1 in row one\n",
    "        self.lowestones[\"row_index\"].append(-1)\n",
    "        for j in range(length):\n",
    "            # we know it's a square matrix by construction \n",
    "            for i in range(length):\n",
    "    ```\n",
    "    roughly l429, in find_lows_zeros(self,all_simps)\n",
    "2. alskfjdslkfj"
   ]
  }
 ],
 "metadata": {
  "kernelspec": {
   "display_name": "Python 3",
   "language": "python",
   "name": "python3"
  },
  "language_info": {
   "codemirror_mode": {
    "name": "ipython",
    "version": 3
   },
   "file_extension": ".py",
   "mimetype": "text/x-python",
   "name": "python",
   "nbconvert_exporter": "python",
   "pygments_lexer": "ipython3",
   "version": "3.9.13"
  }
 },
 "nbformat": 4,
 "nbformat_minor": 5
}
