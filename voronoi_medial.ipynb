{
 "cells": [
  {
   "cell_type": "markdown",
   "id": "25fa30fe",
   "metadata": {},
   "source": [
    "# init "
   ]
  },
  {
   "cell_type": "code",
   "execution_count": 1,
   "id": "68df340d",
   "metadata": {},
   "outputs": [],
   "source": [
    "# math stuff\n",
    "import numpy as np\n",
    "# visualization\n",
    "from scipy.spatial import Voronoi, voronoi_plot_2d\n",
    "import matplotlib.pyplot as plt\n",
    "%matplotlib inline\n",
    "# sliders\n",
    "from ipywidgets import interactive"
   ]
  },
  {
   "cell_type": "markdown",
   "id": "c6b81169",
   "metadata": {},
   "source": [
    "## Ellipse Example"
   ]
  },
  {
   "cell_type": "markdown",
   "id": "a21e893b",
   "metadata": {},
   "source": [
    "### parametric eq for ellipse: \n",
    "$F(t) = (x(t), y(t))$, where $x(t) = a*cos(t)$ and $y(t) = b*sin(t)$"
   ]
  },
  {
   "cell_type": "code",
   "execution_count": 2,
   "id": "d476cf05",
   "metadata": {},
   "outputs": [
    {
     "data": {
      "image/png": "[encoded data removed]",
      "text/plain": [
       "<Figure size 432x288 with 2 Axes>"
      ]
     },
     "execution_count": 2,
     "metadata": {},
     "output_type": "execute_result"
    },
    {
     "data": {
      "image/png": "[encoded data removed]",
      "text/plain": [
       "<Figure size 432x288 with 2 Axes>"
      ]
     },
     "metadata": {
      "needs_background": "light"
     },
     "output_type": "display_data"
    }
   ],
   "source": [
    "# parameters for ellipse shape and sampling density\n",
    "a = 2\n",
    "b = 5\n",
    "c = 1\n",
    "t = np.arange(0.0, 6.28, c/10)\n",
    "fig, (ax1, ax2) = plt.subplots(1,2, sharey = True)\n",
    "x = a*np.cos(t)\n",
    "y = b*np.sin(t)\n",
    "points = np.array(list(zip(x,y)))\n",
    "vor = Voronoi(points)\n",
    "\n",
    "# plot ellipse\n",
    "ax1.set_xlim(-(max(a,b) + 1), (max(a,b) + 1))\n",
    "ax1.set_ylim(-(max(a,b) + 1), (max(a,b) + 1))\n",
    "ax1.set_aspect('equal')\n",
    "ax1.plot(x,y,'o')\n",
    "\n",
    "# plot voronoi stuff\n",
    "ax2.set_xlim(-(max(a,b) + 1), (max(a,b) + 1))\n",
    "ax2.set_ylim(-(max(a,b) + 1), (max(a,b) + 1))\n",
    "ax2.set_aspect('equal')\n",
    "voronoi_plot_2d(vor, ax2, show_vertices=True, line_alpha = 0, show_points = True, point_colors='orange', point_size=10)"
   ]
  },
  {
   "cell_type": "markdown",
   "id": "4f5ae198",
   "metadata": {},
   "source": [
    "## interactive plot of ellipse\n",
    "(useful, but doesn't permanently alter param vals)"
   ]
  },
  {
   "cell_type": "code",
   "execution_count": 9,
   "id": "80341a2f",
   "metadata": {
    "scrolled": true
   },
   "outputs": [
    {
     "data": {
      "application/vnd.jupyter.widget-view+json": {
       "model_id": "d38d2aee36ff40d182ee99d11ca66cad",
       "version_major": 2,
       "version_minor": 0
      },
      "text/plain": [
       "interactive(children=(FloatSlider(value=5.0, description='a', max=10.0, step=0.5), FloatSlider(value=5.0, desc…"
      ]
     },
     "metadata": {},
     "output_type": "display_data"
    }
   ],
   "source": [
    "def f(a, b, c):\n",
    "    t = np.arange(0.0, 6.28, c/10)\n",
    "    fig, (ax, ax2) = plt.subplots(1,2)\n",
    "    x = a*np.cos(t)\n",
    "    y = b*np.sin(t)\n",
    "    points = np.array(list(zip(x,y)))\n",
    "    vor = Voronoi(points)\n",
    "    ax.set_xlim(-(max(a,b) + 1), (max(a,b) + 1))\n",
    "    ax.set_ylim(-(max(a,b) + 1), (max(a,b) + 1))\n",
    "    ax.set_aspect('equal')\n",
    "    ax.plot(x,y,'o')\n",
    "    ax2.set_xlim(-(max(a,b) + 1), (max(a,b) + 1))\n",
    "    ax2.set_ylim(-(max(a,b) + 1), (max(a,b) + 1))\n",
    "    ax2.set_aspect('equal')\n",
    "    voronoi_plot_2d(vor, ax2, show_vertices=True, line_alpha = 0, show_points = True, point_colors='orange', point_size=10)\n",
    "\n",
    "interactive_plot = interactive(f, a = (0, 10, 0.5), b = (-0, 10, 0.5), c = (0.0001, 10, .1))\n",
    "output = interactive_plot.children[-1]\n",
    "output.layout.height = '350px'\n",
    "interactive_plot"
   ]
  },
  {
   "cell_type": "code",
   "execution_count": null,
   "id": "4e7bb489",
   "metadata": {},
   "outputs": [],
   "source": []
  },
  {
   "cell_type": "markdown",
   "id": "bd49a460",
   "metadata": {},
   "source": [
    "## NEXT: \n",
    "We want to use the parameters from the ellipse to order the input in matrix reduction.\n",
    "- pick a t_0\n",
    "- find distance of all points from t_0\n",
    "- order them based on distance\n",
    "- use that ordering in the matrix\n",
    "- use a very simple class for a simplex that has ordering as attribute\n",
    "- bonus: look at vineyards and implement one check\n"
   ]
  }
 ],
 "metadata": {
  "kernelspec": {
   "display_name": "Python 3",
   "language": "python",
   "name": "python3"
  },
  "language_info": {
   "codemirror_mode": {
    "name": "ipython",
    "version": 3
   },
   "file_extension": ".py",
   "mimetype": "text/x-python",
   "name": "python",
   "nbconvert_exporter": "python",
   "pygments_lexer": "ipython3",
   "version": "3.9.13"
  }
 },
 "nbformat": 4,
 "nbformat_minor": 5
}
