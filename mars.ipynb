{
 "cells": [
  {
   "cell_type": "code",
   "execution_count": 5,
   "metadata": {},
   "outputs": [
    {
     "name": "stdout",
     "output_type": "stream",
     "text": [
      "[{0, 1, 20, 9}, {11, 3, 21}, {14, 6, 22, 7}, {17, 5, 9, 23}, {24, 12, 6}, {25, 3, 13, 15}, {1, 10, 18, 20}, {21, 3, 13}, {16, 24, 22, 7}, {27, 19, 5, 23}, {24, 30, 6, 15}, {25, 10, 3, 33}, {25, 19, 36, 5}, {25, 10, 19, 34}, {18, 1, 10, 19}, {24, 0, 18, 42}, {24, 18, 31, 15}, {18, 4, 47, 15}, {0, 9, 50, 23}, {9, 19, 28, 23}, {40, 1, 19, 9}, {56, 17, 4, 22}, {16, 17, 22, 25}, {16, 17, 61, 5}, {64, 21, 14, 6}, {21, 13, 14, 22}, {67, 13, 14, 7}, {2, 11, 20, 70}, {19, 10, 11, 20}, {11, 33, 10, 3}, {16, 76, 13, 7}, {16, 25, 13}, {16, 25, 80, 5}, {8, 2, 12, 82}, {24, 8, 12, 13}, {0, 24, 8, 87}, {17, 18, 4, 90}, {17, 18, 10, 23}, {0, 18, 94, 23}, {96, 6, 14, 15}, {15, 7, 14, 22}, {100, 4, 22, 15}, {2, 11, 12, 102}, {4, 11, 12, 21}, {107, 12, 21, 6}, {8, 9, 110, 0}, {8, 9, 20, 1}, {8, 2, 20, 114}]\n",
      "[-1.0, -1.0, 1.0, 1.0, -1.0, -1.0, 1.0, 1.0, 0.0, -1.0, 0.0, 1.0, 1.0, 1.0, 1.0, 0.0, 0.0, -1.0, -1.0, -1.0, 0.0, 1.0, 0.0, -1.0, 0.0, 0.0] [1.0, 1.0, 1.0, 1.0, -1.0, -1.0, -1.0, -1.0, 1.0, 1.0, 1.0, 1.0, 0.0, 0.0, -1.0, -1.0, -1.0, -1.0, 0.0, 0.0, 1.0, 0.0, -1.0, 0.0, 0.0, 0.0] [-1.0, 1.0, -1.0, 1.0, -1.0, 1.0, -1.0, 1.0, -1.0, 0.0, 1.0, 0.0, -1.0, 1.0, 0.0, -1.0, 1.0, 0.0, -1.0, 1.0, 0.0, 0.0, 0.0, 0.0, -1.0, 1.0]\n"
     ]
    }
   ],
   "source": [
    "import numpy as np\n",
    "import mars\n",
    "import matplotlib.pyplot as plt\n",
    "\n",
    "\n",
    "complex = mars.read_from_obj(\"input/cube-subdiv-1.obj\")\n",
    "\n",
    "\n",
    "\n",
    "points = complex.simplices_per_dim[0]\n",
    "xs = [p.coords[0] for p in points]\n",
    "ys = [p.coords[1] for p in points]\n",
    "zs = [p.coords[2] for p in points]\n",
    "\n",
    "\n",
    "t_inds = [\n",
    "  set([\n",
    "    ind \n",
    "    for i in tri.boundary\n",
    "    for ind in complex.simplices_per_dim[1][i].boundary\n",
    "  ])\n",
    "  for tri in complex.simplices_per_dim[2]\n",
    "]\n",
    "\n",
    "print(t_inds)\n",
    "\n",
    "\n",
    "\n",
    "print(xs, ys, zs)\n",
    "\n",
    "# plt.plot_3d\n"
   ]
  },
  {
   "cell_type": "code",
   "execution_count": null,
   "metadata": {},
   "outputs": [],
   "source": []
  }
 ],
 "metadata": {
  "kernelspec": {
   "display_name": "venv",
   "language": "python",
   "name": "python3"
  },
  "language_info": {
   "codemirror_mode": {
    "name": "ipython",
    "version": 3
   },
   "file_extension": ".py",
   "mimetype": "text/x-python",
   "name": "python",
   "nbconvert_exporter": "python",
   "pygments_lexer": "ipython3",
   "version": "3.10.12"
  }
 },
 "nbformat": 4,
 "nbformat_minor": 2
}
