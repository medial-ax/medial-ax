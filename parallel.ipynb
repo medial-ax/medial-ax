{
 "cells": [
  {
   "cell_type": "code",
   "execution_count": null,
   "metadata": {},
   "outputs": [],
   "source": [
    "import mars\n",
    "import numpy as np\n",
    "from matplotlib import pyplot as plt\n",
    "def indices(w,h,d):\n",
    "  return np.indices((w, h, d)).reshape(3, -1).T\n",
    "\n",
    "grid = mars.Grid.new([0,0,0], 0.1, [6, 4, 3])\n",
    "\n",
    "fig, ax = plt.subplots(subplot_kw={\"projection\": \"3d\", \"computed_zorder\": False})\n",
    "ax.view_init(azim=30, elev=10)\n",
    "\n",
    "def plot(grid, **kwargs):\n",
    "  pts = np.array([grid.center(list(i)) for i in indices(*grid.shape)])\n",
    "  ax.scatter(pts[:,0], pts[:,1], pts[:,2], **kwargs)\n",
    "\n",
    "g1, g2 = grid.split_with_overlap()\n",
    "\n",
    "g11, g12 = g1.split_with_overlap()\n",
    "g21, g22 = g2.split_with_overlap()\n",
    "\n",
    "plot(grid, color='gray')\n",
    "plot(g11, color='red')\n",
    "plot(g12, color='green')\n",
    "plot(g21, color='purple')\n",
    "plot(g22, color='magenta')"
   ]
  }
 ],
 "metadata": {
  "language_info": {
   "name": "python"
  }
 },
 "nbformat": 4,
 "nbformat_minor": 2
}
